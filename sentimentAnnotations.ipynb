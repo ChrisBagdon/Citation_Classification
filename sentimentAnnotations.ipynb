{
 "cells": [
  {
   "cell_type": "code",
   "execution_count": 2,
   "id": "d7a6ed2d",
   "metadata": {
    "pycharm": {
     "name": "#%%\n"
    }
   },
   "outputs": [],
   "source": [
    "import numpy as np\n",
    "import pandas as pd"
   ]
  },
  {
   "cell_type": "code",
   "execution_count": 3,
   "id": "f300bf58",
   "metadata": {
    "pycharm": {
     "name": "#%%\n"
    }
   },
   "outputs": [
    {
     "data": {
      "text/plain": "                                       citingPaperID    source  \\\n0  1872080baa7d30ec8fb87be9a65358cd3a7fb649>894be...  explicit   \n1  ce1d09a4a3a8d7fd3405b9328f65f00c952cf64b>b6642...  explicit   \n2  9cdf605beb1aa1078f235c4332b3024daa8b31dc>4e6a1...  explicit   \n3  d9f3207db0c79a3b154f3875c9760cc6b056904b>2cc6f...  explicit   \n4  88b86556857f4374842d2af2e359576806239175>a5bb0...  explicit   \n\n                                              string       label  \n0  However, how frataxin interacts with the Fe-S ...  background  \n1  In the study by Hickey et al. (2012), spikes w...  background  \n2  The drug also reduces catecholamine secretion,...  background  \n3  By clustering with lowly aggressive close kin ...  background  \n4  Ophthalmic symptoms are rare manifestations of...  background  ",
      "text/html": "<div>\n<style scoped>\n    .dataframe tbody tr th:only-of-type {\n        vertical-align: middle;\n    }\n\n    .dataframe tbody tr th {\n        vertical-align: top;\n    }\n\n    .dataframe thead th {\n        text-align: right;\n    }\n</style>\n<table border=\"1\" class=\"dataframe\">\n  <thead>\n    <tr style=\"text-align: right;\">\n      <th></th>\n      <th>citingPaperID</th>\n      <th>source</th>\n      <th>string</th>\n      <th>label</th>\n    </tr>\n  </thead>\n  <tbody>\n    <tr>\n      <th>0</th>\n      <td>1872080baa7d30ec8fb87be9a65358cd3a7fb649&gt;894be...</td>\n      <td>explicit</td>\n      <td>However, how frataxin interacts with the Fe-S ...</td>\n      <td>background</td>\n    </tr>\n    <tr>\n      <th>1</th>\n      <td>ce1d09a4a3a8d7fd3405b9328f65f00c952cf64b&gt;b6642...</td>\n      <td>explicit</td>\n      <td>In the study by Hickey et al. (2012), spikes w...</td>\n      <td>background</td>\n    </tr>\n    <tr>\n      <th>2</th>\n      <td>9cdf605beb1aa1078f235c4332b3024daa8b31dc&gt;4e6a1...</td>\n      <td>explicit</td>\n      <td>The drug also reduces catecholamine secretion,...</td>\n      <td>background</td>\n    </tr>\n    <tr>\n      <th>3</th>\n      <td>d9f3207db0c79a3b154f3875c9760cc6b056904b&gt;2cc6f...</td>\n      <td>explicit</td>\n      <td>By clustering with lowly aggressive close kin ...</td>\n      <td>background</td>\n    </tr>\n    <tr>\n      <th>4</th>\n      <td>88b86556857f4374842d2af2e359576806239175&gt;a5bb0...</td>\n      <td>explicit</td>\n      <td>Ophthalmic symptoms are rare manifestations of...</td>\n      <td>background</td>\n    </tr>\n  </tbody>\n</table>\n</div>"
     },
     "execution_count": 3,
     "metadata": {},
     "output_type": "execute_result"
    }
   ],
   "source": [
    "### Read in training dataset (TSV)\n",
    "# Filepath will be different; set to repo's filepath when we add the corpus files\n",
    "train_tsv = pd.read_csv('scicite/tsv/train.tsv', sep='\\t', \n",
    "                       names=[\"citingPaperID\", \"source\", \"string\", \"label\"]\n",
    "                       )\n",
    "train_tsv.head()"
   ]
  },
  {
   "cell_type": "markdown",
   "source": [
    "# First set of sentiment annotations (Week of Jun. 27, 2022)"
   ],
   "metadata": {
    "collapsed": false,
    "pycharm": {
     "name": "#%% md\n"
    }
   }
  },
  {
   "cell_type": "code",
   "execution_count": 5,
   "outputs": [],
   "source": [
    "### Getting samples of the data for sentiment annotating\n",
    "train_sentiment = train_tsv.copy()\n",
    "\n",
    "# Chris' subset\n",
    "c_sample = list(train_sentiment['string'].sample(n=50, random_state=1).index)\n",
    "# Drop\n",
    "train_sentiment = train_sentiment.drop(c_sample)\n",
    "\n",
    "# Daniel's subset\n",
    "d_sample = list(train_sentiment['string'].sample(n=50, random_state=1).index)\n",
    "# Drop\n",
    "train_sentiment = train_sentiment.drop(d_sample)\n",
    "\n",
    "# Mutual subset (for IAA score)\n",
    "m_sample = list(train_sentiment['string'].sample(n=25, random_state=1).index)\n",
    "train_sentiment = train_sentiment.drop(m_sample)"
   ],
   "metadata": {
    "collapsed": false,
    "pycharm": {
     "name": "#%%\n"
    }
   }
  },
  {
   "cell_type": "code",
   "execution_count": null,
   "outputs": [],
   "source": [
    "# Chris' subset in DataFrame form (for adding a sentiment column/feature)\n",
    "c_df = train_tsv.copy()\n",
    "c_df = c_df.iloc[c_sample]\n",
    "c_df['sentiment'] = ['']*50\n",
    "c_df.to_csv('sentimentAnnotations_CSV/blankAnnotations_C_1.csv')\n",
    "c_df.head()"
   ],
   "metadata": {
    "collapsed": false,
    "pycharm": {
     "name": "#%%\n"
    }
   }
  },
  {
   "cell_type": "code",
   "execution_count": null,
   "outputs": [],
   "source": [
    "# Reading in Chris' subset (after annotating manually)\n",
    "c_df_annotated = pd.read_csv('sentimentAnnotations_CSV/annotated_C_1.csv')\n",
    "c_df_annotated.head()"
   ],
   "metadata": {
    "collapsed": false,
    "pycharm": {
     "name": "#%%\n"
    }
   }
  },
  {
   "cell_type": "code",
   "execution_count": null,
   "outputs": [],
   "source": [
    "# Daniel's subset in DataFrame form (for adding a sentiment column/feature)\n",
    "d_df = train_tsv.copy()\n",
    "d_df = d_df.iloc[d_sample]\n",
    "d_df['sentiment'] = ['']*50\n",
    "d_df.to_csv('sentimentAnnotations_CSV/blankAnnotations_D_1.csv')\n",
    "d_df.head()"
   ],
   "metadata": {
    "collapsed": false,
    "pycharm": {
     "name": "#%%\n"
    }
   }
  },
  {
   "cell_type": "code",
   "execution_count": null,
   "outputs": [],
   "source": [
    "# Reading in Daniel's subset (after annotating manually)\n",
    "d_df_annotated = pd.read_csv('sentimentAnnotations_CSV/annotated_D_1.csv')\n",
    "d_df_annotated.head()"
   ],
   "metadata": {
    "collapsed": false,
    "pycharm": {
     "name": "#%%\n"
    }
   }
  },
  {
   "cell_type": "code",
   "execution_count": null,
   "outputs": [],
   "source": [
    "# Mutual subset in DataFrame form (for adding IAA sentiment annotations)\n",
    "m_df = train_tsv.copy()\n",
    "m_df = m_df.iloc[m_index]\n",
    "m_df['sentiment_chris'] = ['']*25\n",
    "m_df['sentiment_daniel'] = ['']*25\n",
    "m_df.to_csv('sentimentAnnotations_CSV/blankAnnotations_M_1.csv')\n",
    "m_df.head()"
   ],
   "metadata": {
    "collapsed": false,
    "pycharm": {
     "name": "#%%\n"
    }
   }
  },
  {
   "cell_type": "code",
   "execution_count": null,
   "outputs": [],
   "source": [
    "# Reading in first mutual annotations subset\n",
    "m_df_annotated = pd.read_csv('sentimentAnnotations_CSV/annotated_M_1.csv')\n",
    "m_df_annotated.head()"
   ],
   "metadata": {
    "collapsed": false,
    "pycharm": {
     "name": "#%%\n"
    }
   }
  },
  {
   "cell_type": "markdown",
   "source": [
    "# Second set of sentiment annotations (Week of Jul. 4, 2022)"
   ],
   "metadata": {
    "collapsed": false,
    "pycharm": {
     "name": "#%% md\n"
    }
   }
  },
  {
   "cell_type": "code",
   "execution_count": 6,
   "outputs": [],
   "source": [
    "### Second sets of random samples for sentiment annotations\n",
    "train_sentiment_2 = train_sentiment.copy()\n",
    "\n",
    "# Chris' second subset\n",
    "c_sample_2 = list(train_sentiment_2['string'].sample(n=100, random_state=1).index)\n",
    "# Drop\n",
    "train_sentiment_2 = train_sentiment_2.drop(c_sample_2)\n",
    "\n",
    "# Daniel's second subset\n",
    "d_sample_2 = list(train_sentiment_2['string'].sample(n=200, random_state=1).index)\n",
    "# Drop\n",
    "train_sentiment_2 = train_sentiment_2.drop(d_sample_2)\n",
    "\n",
    "# Second mutual subset (for IAA score)\n",
    "m_sample_2 = list(train_sentiment_2['string'].sample(n=25, random_state=1).index)\n",
    "train_sentiment_2 = train_sentiment_2.drop(m_sample_2)"
   ],
   "metadata": {
    "collapsed": false,
    "pycharm": {
     "name": "#%%\n"
    }
   }
  },
  {
   "cell_type": "code",
   "execution_count": null,
   "outputs": [],
   "source": [
    "# Chris' second subset in DataFrame form (for adding a sentiment column/feature)\n",
    "c_df_2 = train_tsv.copy()\n",
    "c_df_2 = c_df_2.iloc[c_sample_2]\n",
    "c_df_2['sentiment'] = ['']*100\n",
    "c_df_2.to_csv('sentimentAnnotations_CSV/blankAnnotations_C_2.csv')\n",
    "c_df_2.head()"
   ],
   "metadata": {
    "collapsed": false,
    "pycharm": {
     "name": "#%%\n"
    }
   }
  },
  {
   "cell_type": "code",
   "execution_count": null,
   "outputs": [],
   "source": [
    "# Reading in Chris' second subset (after annotating manually)\n",
    "    ### Uncomment lines below after creating your second annotated subset\n",
    "#c_df_annotated_2 = pd.read_csv('sentimentAnnotations_CSV/annotated_C_2.csv')\n",
    "#c_df_annotated_2.head()"
   ],
   "metadata": {
    "collapsed": false,
    "pycharm": {
     "name": "#%%\n"
    }
   }
  },
  {
   "cell_type": "code",
   "execution_count": null,
   "outputs": [],
   "source": [
    "# Daniel's second subset in DataFrame form (for adding a sentiment column/feature)\n",
    "d_df_2 = train_tsv.copy()\n",
    "d_df_2 = d_df_2.iloc[d_sample_2]\n",
    "d_df_2['sentiment'] = ['']*200\n",
    "d_df_2.to_csv('sentimentAnnotations_CSV/blankAnnotations_D_2.csv')\n",
    "d_df_2.head()"
   ],
   "metadata": {
    "collapsed": false,
    "pycharm": {
     "name": "#%%\n"
    }
   }
  },
  {
   "cell_type": "code",
   "execution_count": null,
   "outputs": [],
   "source": [
    "# Reading in Daniel's second subset (after annotating manually)\n",
    "    ### Uncomment lines below after creating your second annotated subset\n",
    "#d_df_annotated_2 = pd.read_csv('sentimentAnnotations_CSV/annotated_D_2.csv')\n",
    "#d_df_annotated_2.head()"
   ],
   "metadata": {
    "collapsed": false,
    "pycharm": {
     "name": "#%%\n"
    }
   }
  },
  {
   "cell_type": "code",
   "execution_count": null,
   "outputs": [],
   "source": [
    "# Second mutual subset in DataFrame form (for adding IAA sentiment annotations)\n",
    "m_df_2 = train_tsv.copy()\n",
    "m_df_2 = m_df_2.iloc[m_sample_2]\n",
    "m_df_2['sentiment_chris'] = ['']*25\n",
    "m_df_2['sentiment_daniel'] = ['']*25\n",
    "m_df_2.to_csv('sentimentAnnotations_CSV/blankAnnotations_M_2.csv')\n",
    "m_df_2.head()"
   ],
   "metadata": {
    "collapsed": false,
    "pycharm": {
     "name": "#%%\n"
    }
   }
  },
  {
   "cell_type": "code",
   "execution_count": null,
   "outputs": [],
   "source": [
    "# Reading in second mutual annotations subset\n",
    "    ### Uncomment after annotating the second mutual subset\n",
    "#m_df_annotated_2 = pd.read_csv('sentimentAnnotations_CSV/annotated_M_2.csv')\n",
    "#m_df_annotated_2.head()"
   ],
   "metadata": {
    "collapsed": false,
    "pycharm": {
     "name": "#%%\n"
    }
   }
  },
  {
   "cell_type": "markdown",
   "source": [
    "# Joining annotated data together"
   ],
   "metadata": {
    "collapsed": false,
    "pycharm": {
     "name": "#%% md\n"
    }
   }
  },
  {
   "cell_type": "code",
   "execution_count": null,
   "outputs": [],
   "source": [
    "pd.concat([c_df_annotated, d_df_annotated])\n",
    "    ### Comment above line and uncomment lines below after all annotations have been completed\n",
    "#annotated = pd.concat([c_df_annotated, d_df_annotated, c_df_annotated_2, d_df_annotated_2])\n",
    "#annotated_mutual = pd.concat([m_df_annotated, m_df_annotated_2])"
   ],
   "metadata": {
    "collapsed": false,
    "pycharm": {
     "name": "#%%\n"
    }
   }
  },
  {
   "cell_type": "code",
   "execution_count": null,
   "outputs": [],
   "source": [
    "# Calculating IAA score (Cohen's kappa)\n",
    "mutual_chris = list(m_df_annotated['sentiment_chris'])\n",
    "mutual_daniel = list(m_df_annotated['sentiment_daniel'])\n",
    "\n",
    "p_o = 0\n",
    "for i in np.arange(25):\n",
    "    if mutual_chris[i] == mutual_daniel[i]:\n",
    "        p_o += 1\n",
    "p_o /= 25\n",
    "\n",
    "p_e = 0\n",
    "for value in ['positive', 'neutral', 'negative']:\n",
    "    p_sentiment = (mutual_chris.count(value)/25) * (mutual_daniel.count(value)/25)\n",
    "    p_e += p_sentiment\n",
    "\n",
    "kappa = (p_o - p_e) / (1 - p_e)\n",
    "kappa"
   ],
   "metadata": {
    "collapsed": false,
    "pycharm": {
     "name": "#%%\n"
    }
   }
  },
  {
   "cell_type": "markdown",
   "source": [
    "# Applying sentiment classifiers"
   ],
   "metadata": {
    "collapsed": false,
    "pycharm": {
     "name": "#%% md\n"
    }
   }
  },
  {
   "cell_type": "code",
   "execution_count": null,
   "outputs": [],
   "source": [
    "import nltk\n",
    "from nltk.sentiment.vader import SentimentIntensityAnalyzer"
   ],
   "metadata": {
    "collapsed": false,
    "pycharm": {
     "name": "#%%\n"
    }
   }
  },
  {
   "cell_type": "code",
   "execution_count": null,
   "outputs": [],
   "source": [
    "nltk.download('vader_lexicon')"
   ],
   "metadata": {
    "collapsed": false,
    "pycharm": {
     "name": "#%%\n"
    }
   }
  },
  {
   "cell_type": "code",
   "execution_count": null,
   "outputs": [],
   "source": [
    "sid = SentimentIntensityAnalyzer()"
   ],
   "metadata": {
    "collapsed": false,
    "pycharm": {
     "name": "#%%\n"
    }
   }
  },
  {
   "cell_type": "code",
   "execution_count": null,
   "outputs": [],
   "source": [
    "m_df_annotated['pos'],m_df_annotated['neg'],m_df_annotated['neu'] = 0,0,0"
   ],
   "metadata": {
    "collapsed": false,
    "pycharm": {
     "name": "#%%\n"
    }
   }
  },
  {
   "cell_type": "code",
   "execution_count": null,
   "outputs": [],
   "source": [
    "a=m_df_annotated['string'][0]"
   ],
   "metadata": {
    "collapsed": false,
    "pycharm": {
     "name": "#%%\n"
    }
   }
  },
  {
   "cell_type": "code",
   "execution_count": null,
   "outputs": [],
   "source": [
    "output = sid.polarity_scores(\"Hello there\")"
   ],
   "metadata": {
    "collapsed": false,
    "pycharm": {
     "name": "#%%\n"
    }
   }
  },
  {
   "cell_type": "code",
   "execution_count": 97,
   "id": "5c1a7df5",
   "metadata": {
    "pycharm": {
     "name": "#%%\n"
    }
   },
   "outputs": [
    {
     "data": {
      "text/plain": [
       "0.7005988023952094"
      ]
     },
     "execution_count": 97,
     "metadata": {},
     "output_type": "execute_result"
    }
   ],
   "source": [
    "# Calculating IAA score (Cohen's kappa)\n",
    "mutual_chris = list(m_df_annotated['sentiment_chris'])\n",
    "mutual_daniel = list(m_df_annotated['sentiment_daniel'])\n",
    "\n",
    "p_o = 0\n",
    "for i in np.arange(25):\n",
    "    if mutual_chris[i] == mutual_daniel[i]:\n",
    "        p_o += 1\n",
    "p_o /= 25\n",
    "\n",
    "p_e = 0\n",
    "for value in ['positive', 'neutral', 'negative']:\n",
    "    p_sentiment = (mutual_chris.count(value)/25) * (mutual_daniel.count(value)/25)\n",
    "    p_e += p_sentiment\n",
    "\n",
    "kappa = (p_o - p_e) / (1 - p_e)\n",
    "kappa"
   ]
  },
  {
   "cell_type": "markdown",
   "id": "5ef43a17",
   "metadata": {
    "pycharm": {
     "name": "#%% md\n"
    }
   },
   "source": [
    "# Applying sentiment classifiers"
   ]
  },
  {
   "cell_type": "code",
   "execution_count": 3,
   "id": "4fa50c25",
   "metadata": {
    "pycharm": {
     "name": "#%%\n"
    }
   },
   "outputs": [],
   "source": [
    "import nltk\n",
    "from nltk.sentiment.vader import SentimentIntensityAnalyzer"
   ]
  },
  {
   "cell_type": "code",
   "execution_count": 4,
   "id": "87a3fdb2",
   "metadata": {
    "pycharm": {
     "name": "#%%\n"
    }
   },
   "outputs": [
    {
     "name": "stderr",
     "output_type": "stream",
     "text": [
      "[nltk_data] Downloading package vader_lexicon to\n",
      "[nltk_data]     /home/lolai/nltk_data...\n",
      "[nltk_data]   Package vader_lexicon is already up-to-date!\n"
     ]
    },
    {
     "data": {
      "text/plain": [
       "True"
      ]
     },
     "execution_count": 4,
     "metadata": {},
     "output_type": "execute_result"
    }
   ],
   "source": [
    "nltk.download('vader_lexicon')"
   ]
  },
  {
   "cell_type": "code",
   "execution_count": 7,
   "id": "b53d2516",
   "metadata": {
    "pycharm": {
     "name": "#%%\n"
    }
   },
   "outputs": [],
   "source": [
    "sid = SentimentIntensityAnalyzer()"
   ]
  },
  {
   "cell_type": "code",
   "execution_count": 23,
   "id": "aa44a2ff",
   "metadata": {
    "pycharm": {
     "name": "#%%\n"
    }
   },
   "outputs": [],
   "source": [
    "m_df_annotated['pos'],m_df_annotated['neg'],m_df_annotated['neu'] = 0,0,0"
   ]
  },
  {
   "cell_type": "code",
   "execution_count": 30,
   "id": "b6b37226",
   "metadata": {
    "pycharm": {
     "name": "#%%\n"
    }
   },
   "outputs": [],
   "source": [
    "a=m_df_annotated['string'][0]"
   ]
  },
  {
   "cell_type": "code",
   "execution_count": 8,
   "id": "310e3301",
   "metadata": {
    "pycharm": {
     "name": "#%%\n"
    }
   },
   "outputs": [],
   "source": [
    "output = sid.polarity_scores(\"Hello there\")"
   ]
  },
  {
   "cell_type": "code",
   "execution_count": 9,
   "id": "006eeed1",
   "metadata": {
    "pycharm": {
     "name": "#%%\n"
    }
   },
   "outputs": [],
   "source": [
    "m_df_annotated['sc ores'] = m_df_annotated['string'].apply(lambda string: sid.polarity_scores(string))"
   ]
  },
  {
   "cell_type": "code",
   "execution_count": 10,
   "id": "755d2c4b",
   "metadata": {
    "pycharm": {
     "name": "#%%\n"
    }
   },
   "outputs": [
    {
     "data": {
      "text/html": [
       "<div>\n",
       "<style scoped>\n",
       "    .dataframe tbody tr th:only-of-type {\n",
       "        vertical-align: middle;\n",
       "    }\n",
       "\n",
       "    .dataframe tbody tr th {\n",
       "        vertical-align: top;\n",
       "    }\n",
       "\n",
       "    .dataframe thead th {\n",
       "        text-align: right;\n",
       "    }\n",
       "</style>\n",
       "<table border=\"1\" class=\"dataframe\">\n",
       "  <thead>\n",
       "    <tr style=\"text-align: right;\">\n",
       "      <th></th>\n",
       "      <th>Unnamed: 0</th>\n",
       "      <th>citingPaperID</th>\n",
       "      <th>source</th>\n",
       "      <th>string</th>\n",
       "      <th>label</th>\n",
       "      <th>sentiment_chris</th>\n",
       "      <th>sentiment_daniel</th>\n",
       "      <th>sc ores</th>\n",
       "    </tr>\n",
       "  </thead>\n",
       "  <tbody>\n",
       "    <tr>\n",
       "      <th>0</th>\n",
       "      <td>7792</td>\n",
       "      <td>0244de3610992df3e77b65de794861810a673a48&gt;89634...</td>\n",
       "      <td>explicit</td>\n",
       "      <td>The self-report component measures interpretat...</td>\n",
       "      <td>background</td>\n",
       "      <td>neutral</td>\n",
       "      <td>neutral</td>\n",
       "      <td>{'neg': 0.176, 'neu': 0.621, 'pos': 0.203, 'co...</td>\n",
       "    </tr>\n",
       "    <tr>\n",
       "      <th>1</th>\n",
       "      <td>3733</td>\n",
       "      <td>f98fa4590950e29e660b3d3179a7bb570ee4e132&gt;cf4b7...</td>\n",
       "      <td>explicit</td>\n",
       "      <td>The age of giant nupDNA fragment A was calcula...</td>\n",
       "      <td>method</td>\n",
       "      <td>neutral</td>\n",
       "      <td>neutral</td>\n",
       "      <td>{'neg': 0.0, 'neu': 0.938, 'pos': 0.062, 'comp...</td>\n",
       "    </tr>\n",
       "    <tr>\n",
       "      <th>2</th>\n",
       "      <td>1237</td>\n",
       "      <td>bc103d96366ec97e0dd620894bbb04c8849eb772&gt;919a7...</td>\n",
       "      <td>explicit</td>\n",
       "      <td>Two representative software of this type are s...</td>\n",
       "      <td>method</td>\n",
       "      <td>neutral</td>\n",
       "      <td>neutral</td>\n",
       "      <td>{'neg': 0.0, 'neu': 1.0, 'pos': 0.0, 'compound...</td>\n",
       "    </tr>\n",
       "    <tr>\n",
       "      <th>3</th>\n",
       "      <td>7052</td>\n",
       "      <td>e3450e8ca6d743f04a1ad41297ab59eeb82299b4&gt;b5fcd...</td>\n",
       "      <td>explicit</td>\n",
       "      <td>How are Bcl-2 and Mcl-1 levels regulated in a ...</td>\n",
       "      <td>background</td>\n",
       "      <td>neutral</td>\n",
       "      <td>neutral</td>\n",
       "      <td>{'neg': 0.0, 'neu': 0.931, 'pos': 0.069, 'comp...</td>\n",
       "    </tr>\n",
       "    <tr>\n",
       "      <th>4</th>\n",
       "      <td>6524</td>\n",
       "      <td>8ebd0c64a3f1833cac7b8191303ea2bbd05682b5&gt;86fde...</td>\n",
       "      <td>explicit</td>\n",
       "      <td>Two traits are orthogonal when, based on indiv...</td>\n",
       "      <td>background</td>\n",
       "      <td>neutral</td>\n",
       "      <td>neutral</td>\n",
       "      <td>{'neg': 0.0, 'neu': 0.935, 'pos': 0.065, 'comp...</td>\n",
       "    </tr>\n",
       "    <tr>\n",
       "      <th>5</th>\n",
       "      <td>2543</td>\n",
       "      <td>2c0cab0d657f6c225c74736fed02750c381032de&gt;02cdb...</td>\n",
       "      <td>explicit</td>\n",
       "      <td>These results are similar to other reports [34...</td>\n",
       "      <td>result</td>\n",
       "      <td>positive</td>\n",
       "      <td>positive</td>\n",
       "      <td>{'neg': 0.059, 'neu': 0.88, 'pos': 0.062, 'com...</td>\n",
       "    </tr>\n",
       "    <tr>\n",
       "      <th>6</th>\n",
       "      <td>8093</td>\n",
       "      <td>7dda92d7dbb1a5f7fc78bba6f81890b3832cb2d6&gt;e6f6f...</td>\n",
       "      <td>explicit</td>\n",
       "      <td>A type I T-cell gene signature that promotes b...</td>\n",
       "      <td>background</td>\n",
       "      <td>positive</td>\n",
       "      <td>positive</td>\n",
       "      <td>{'neg': 0.131, 'neu': 0.73, 'pos': 0.139, 'com...</td>\n",
       "    </tr>\n",
       "    <tr>\n",
       "      <th>7</th>\n",
       "      <td>5365</td>\n",
       "      <td>9237db18530d0de2e0281e735c10570d7c235b36&gt;14682...</td>\n",
       "      <td>explicit</td>\n",
       "      <td>Resistance to TB involves macrophages [2,4], d...</td>\n",
       "      <td>background</td>\n",
       "      <td>positive</td>\n",
       "      <td>positive</td>\n",
       "      <td>{'neg': 0.0, 'neu': 0.948, 'pos': 0.052, 'comp...</td>\n",
       "    </tr>\n",
       "    <tr>\n",
       "      <th>8</th>\n",
       "      <td>4663</td>\n",
       "      <td>1ac9706400e1c06a100add4b83a67af503404d8d&gt;1fc59...</td>\n",
       "      <td>explicit</td>\n",
       "      <td>While the prevalence of hyperechogenicity is o...</td>\n",
       "      <td>background</td>\n",
       "      <td>positive</td>\n",
       "      <td>neutral</td>\n",
       "      <td>{'neg': 0.0, 'neu': 0.87, 'pos': 0.13, 'compou...</td>\n",
       "    </tr>\n",
       "    <tr>\n",
       "      <th>9</th>\n",
       "      <td>3065</td>\n",
       "      <td>4f4c6a035c0c28cfe5855a720a8f7a16a401e9f8&gt;0451f...</td>\n",
       "      <td>explicit</td>\n",
       "      <td>There have been few animal studies on this sub...</td>\n",
       "      <td>background</td>\n",
       "      <td>negative</td>\n",
       "      <td>negative</td>\n",
       "      <td>{'neg': 0.0, 'neu': 1.0, 'pos': 0.0, 'compound...</td>\n",
       "    </tr>\n",
       "    <tr>\n",
       "      <th>10</th>\n",
       "      <td>372</td>\n",
       "      <td>0fd548a07b8d113f5f6a6255abe191668120ac53&gt;74809...</td>\n",
       "      <td>explicit</td>\n",
       "      <td>Although Arpp/Ankrd2 has been reported to be l...</td>\n",
       "      <td>background</td>\n",
       "      <td>positive</td>\n",
       "      <td>positive</td>\n",
       "      <td>{'neg': 0.0, 'neu': 1.0, 'pos': 0.0, 'compound...</td>\n",
       "    </tr>\n",
       "    <tr>\n",
       "      <th>11</th>\n",
       "      <td>6346</td>\n",
       "      <td>4289898ef10c52412dd2ee16e35ae8ae4954552f&gt;2b2ac...</td>\n",
       "      <td>explicit</td>\n",
       "      <td>…memory\\nINTRODUCTION\\nEmerging studies have s...</td>\n",
       "      <td>background</td>\n",
       "      <td>positive</td>\n",
       "      <td>positive</td>\n",
       "      <td>{'neg': 0.036, 'neu': 0.964, 'pos': 0.0, 'comp...</td>\n",
       "    </tr>\n",
       "    <tr>\n",
       "      <th>12</th>\n",
       "      <td>2343</td>\n",
       "      <td>70b1e174c0d26a6262355e3891c2655559f79122&gt;45e3f...</td>\n",
       "      <td>explicit</td>\n",
       "      <td>The prognosis of FVPTC in our study was excell...</td>\n",
       "      <td>result</td>\n",
       "      <td>positive</td>\n",
       "      <td>positive</td>\n",
       "      <td>{'neg': 0.0, 'neu': 0.927, 'pos': 0.073, 'comp...</td>\n",
       "    </tr>\n",
       "    <tr>\n",
       "      <th>13</th>\n",
       "      <td>600</td>\n",
       "      <td>9a068a63f5ae85227863a972c7204903fdcca978&gt;73619...</td>\n",
       "      <td>explicit</td>\n",
       "      <td>In addition to expression in the fetus, Igf2 i...</td>\n",
       "      <td>background</td>\n",
       "      <td>neutral</td>\n",
       "      <td>neutral</td>\n",
       "      <td>{'neg': 0.0, 'neu': 1.0, 'pos': 0.0, 'compound...</td>\n",
       "    </tr>\n",
       "    <tr>\n",
       "      <th>14</th>\n",
       "      <td>3791</td>\n",
       "      <td>af794c74a2bfd33336bca2a410ed42a978d98a89&gt;69157...</td>\n",
       "      <td>explicit</td>\n",
       "      <td>Other studies suggest that altering affinity t...</td>\n",
       "      <td>background</td>\n",
       "      <td>positive</td>\n",
       "      <td>neutral</td>\n",
       "      <td>{'neg': 0.055, 'neu': 0.945, 'pos': 0.0, 'comp...</td>\n",
       "    </tr>\n",
       "    <tr>\n",
       "      <th>15</th>\n",
       "      <td>6315</td>\n",
       "      <td>ae1a3173131628123ac7c7579045aa96006c9485&gt;6220e...</td>\n",
       "      <td>explicit</td>\n",
       "      <td>Although our cohort also consisted of treatmen...</td>\n",
       "      <td>result</td>\n",
       "      <td>negative</td>\n",
       "      <td>negative</td>\n",
       "      <td>{'neg': 0.0, 'neu': 0.945, 'pos': 0.055, 'comp...</td>\n",
       "    </tr>\n",
       "    <tr>\n",
       "      <th>16</th>\n",
       "      <td>7737</td>\n",
       "      <td>d388588cbc8aef4f1eba7b56f1571191370f6e75&gt;7348e...</td>\n",
       "      <td>explicit</td>\n",
       "      <td>These study areas have all been managed in the...</td>\n",
       "      <td>background</td>\n",
       "      <td>neutral</td>\n",
       "      <td>neutral</td>\n",
       "      <td>{'neg': 0.0, 'neu': 1.0, 'pos': 0.0, 'compound...</td>\n",
       "    </tr>\n",
       "    <tr>\n",
       "      <th>17</th>\n",
       "      <td>7162</td>\n",
       "      <td>e9a4a6cec8b4a268ecd991a9f92700ce1a8960a5&gt;3ef88...</td>\n",
       "      <td>explicit</td>\n",
       "      <td>Assessing Risk of Bias\\nCritical appraisal of ...</td>\n",
       "      <td>method</td>\n",
       "      <td>neutral</td>\n",
       "      <td>neutral</td>\n",
       "      <td>{'neg': 0.122, 'neu': 0.783, 'pos': 0.096, 'co...</td>\n",
       "    </tr>\n",
       "    <tr>\n",
       "      <th>18</th>\n",
       "      <td>3758</td>\n",
       "      <td>ea5e02b640e8b354ca4c997f2358a1da8837fc19&gt;2f0f0...</td>\n",
       "      <td>explicit</td>\n",
       "      <td>A retrospective cohort study abstracted medica...</td>\n",
       "      <td>background</td>\n",
       "      <td>neutral</td>\n",
       "      <td>neutral</td>\n",
       "      <td>{'neg': 0.0, 'neu': 0.833, 'pos': 0.167, 'comp...</td>\n",
       "    </tr>\n",
       "    <tr>\n",
       "      <th>19</th>\n",
       "      <td>8208</td>\n",
       "      <td>b4bafb8c1ff27c29f0ecef6caa775a0f2d86db00&gt;79b28...</td>\n",
       "      <td>explicit</td>\n",
       "      <td>Cancer cells usually have a different genome s...</td>\n",
       "      <td>background</td>\n",
       "      <td>neutral</td>\n",
       "      <td>neutral</td>\n",
       "      <td>{'neg': 0.15, 'neu': 0.85, 'pos': 0.0, 'compou...</td>\n",
       "    </tr>\n",
       "    <tr>\n",
       "      <th>20</th>\n",
       "      <td>2397</td>\n",
       "      <td>387a4968c48a7f86693bcc455beffa97943cd445&gt;3fdc8...</td>\n",
       "      <td>explicit</td>\n",
       "      <td>%) was a close relative (at 97% identity) of t...</td>\n",
       "      <td>background</td>\n",
       "      <td>neutral</td>\n",
       "      <td>neutral</td>\n",
       "      <td>{'neg': 0.041, 'neu': 0.959, 'pos': 0.0, 'comp...</td>\n",
       "    </tr>\n",
       "    <tr>\n",
       "      <th>21</th>\n",
       "      <td>2542</td>\n",
       "      <td>4ba2e2317d3211666340f58f90efc051a3503bef&gt;2a8c2...</td>\n",
       "      <td>explicit</td>\n",
       "      <td>Moreover, phytochelatins have been found to be...</td>\n",
       "      <td>background</td>\n",
       "      <td>positive</td>\n",
       "      <td>neutral</td>\n",
       "      <td>{'neg': 0.177, 'neu': 0.679, 'pos': 0.144, 'co...</td>\n",
       "    </tr>\n",
       "    <tr>\n",
       "      <th>22</th>\n",
       "      <td>4697</td>\n",
       "      <td>743a1befaf5e2cd2e5a9162432909b221a1e695c&gt;8bd0c...</td>\n",
       "      <td>explicit</td>\n",
       "      <td>One of the key concerns by induction of reprog...</td>\n",
       "      <td>background</td>\n",
       "      <td>neutral</td>\n",
       "      <td>neutral</td>\n",
       "      <td>{'neg': 0.0, 'neu': 1.0, 'pos': 0.0, 'compound...</td>\n",
       "    </tr>\n",
       "    <tr>\n",
       "      <th>23</th>\n",
       "      <td>3954</td>\n",
       "      <td>37e4db73f2c3fa01c121afef0a938656bc03cebd&gt;447b2...</td>\n",
       "      <td>explicit</td>\n",
       "      <td>In [1] and [2], a multilayer directory structu...</td>\n",
       "      <td>background</td>\n",
       "      <td>neutral</td>\n",
       "      <td>positive</td>\n",
       "      <td>{'neg': 0.0, 'neu': 0.906, 'pos': 0.094, 'comp...</td>\n",
       "    </tr>\n",
       "    <tr>\n",
       "      <th>24</th>\n",
       "      <td>5098</td>\n",
       "      <td>eafafc708296c462edc9294e1b8f3b1dd3f4dffc&gt;8f125...</td>\n",
       "      <td>explicit</td>\n",
       "      <td>…difference between aspirated and lenis is mer...</td>\n",
       "      <td>background</td>\n",
       "      <td>neutral</td>\n",
       "      <td>neutral</td>\n",
       "      <td>{'neg': 0.048, 'neu': 0.952, 'pos': 0.0, 'comp...</td>\n",
       "    </tr>\n",
       "  </tbody>\n",
       "</table>\n",
       "</div>"
      ],
      "text/plain": [
       "    Unnamed: 0                                      citingPaperID    source  \\\n",
       "0         7792  0244de3610992df3e77b65de794861810a673a48>89634...  explicit   \n",
       "1         3733  f98fa4590950e29e660b3d3179a7bb570ee4e132>cf4b7...  explicit   \n",
       "2         1237  bc103d96366ec97e0dd620894bbb04c8849eb772>919a7...  explicit   \n",
       "3         7052  e3450e8ca6d743f04a1ad41297ab59eeb82299b4>b5fcd...  explicit   \n",
       "4         6524  8ebd0c64a3f1833cac7b8191303ea2bbd05682b5>86fde...  explicit   \n",
       "5         2543  2c0cab0d657f6c225c74736fed02750c381032de>02cdb...  explicit   \n",
       "6         8093  7dda92d7dbb1a5f7fc78bba6f81890b3832cb2d6>e6f6f...  explicit   \n",
       "7         5365  9237db18530d0de2e0281e735c10570d7c235b36>14682...  explicit   \n",
       "8         4663  1ac9706400e1c06a100add4b83a67af503404d8d>1fc59...  explicit   \n",
       "9         3065  4f4c6a035c0c28cfe5855a720a8f7a16a401e9f8>0451f...  explicit   \n",
       "10         372  0fd548a07b8d113f5f6a6255abe191668120ac53>74809...  explicit   \n",
       "11        6346  4289898ef10c52412dd2ee16e35ae8ae4954552f>2b2ac...  explicit   \n",
       "12        2343  70b1e174c0d26a6262355e3891c2655559f79122>45e3f...  explicit   \n",
       "13         600  9a068a63f5ae85227863a972c7204903fdcca978>73619...  explicit   \n",
       "14        3791  af794c74a2bfd33336bca2a410ed42a978d98a89>69157...  explicit   \n",
       "15        6315  ae1a3173131628123ac7c7579045aa96006c9485>6220e...  explicit   \n",
       "16        7737  d388588cbc8aef4f1eba7b56f1571191370f6e75>7348e...  explicit   \n",
       "17        7162  e9a4a6cec8b4a268ecd991a9f92700ce1a8960a5>3ef88...  explicit   \n",
       "18        3758  ea5e02b640e8b354ca4c997f2358a1da8837fc19>2f0f0...  explicit   \n",
       "19        8208  b4bafb8c1ff27c29f0ecef6caa775a0f2d86db00>79b28...  explicit   \n",
       "20        2397  387a4968c48a7f86693bcc455beffa97943cd445>3fdc8...  explicit   \n",
       "21        2542  4ba2e2317d3211666340f58f90efc051a3503bef>2a8c2...  explicit   \n",
       "22        4697  743a1befaf5e2cd2e5a9162432909b221a1e695c>8bd0c...  explicit   \n",
       "23        3954  37e4db73f2c3fa01c121afef0a938656bc03cebd>447b2...  explicit   \n",
       "24        5098  eafafc708296c462edc9294e1b8f3b1dd3f4dffc>8f125...  explicit   \n",
       "\n",
       "                                               string       label  \\\n",
       "0   The self-report component measures interpretat...  background   \n",
       "1   The age of giant nupDNA fragment A was calcula...      method   \n",
       "2   Two representative software of this type are s...      method   \n",
       "3   How are Bcl-2 and Mcl-1 levels regulated in a ...  background   \n",
       "4   Two traits are orthogonal when, based on indiv...  background   \n",
       "5   These results are similar to other reports [34...      result   \n",
       "6   A type I T-cell gene signature that promotes b...  background   \n",
       "7   Resistance to TB involves macrophages [2,4], d...  background   \n",
       "8   While the prevalence of hyperechogenicity is o...  background   \n",
       "9   There have been few animal studies on this sub...  background   \n",
       "10  Although Arpp/Ankrd2 has been reported to be l...  background   \n",
       "11  …memory\\nINTRODUCTION\\nEmerging studies have s...  background   \n",
       "12  The prognosis of FVPTC in our study was excell...      result   \n",
       "13  In addition to expression in the fetus, Igf2 i...  background   \n",
       "14  Other studies suggest that altering affinity t...  background   \n",
       "15  Although our cohort also consisted of treatmen...      result   \n",
       "16  These study areas have all been managed in the...  background   \n",
       "17  Assessing Risk of Bias\\nCritical appraisal of ...      method   \n",
       "18  A retrospective cohort study abstracted medica...  background   \n",
       "19  Cancer cells usually have a different genome s...  background   \n",
       "20  %) was a close relative (at 97% identity) of t...  background   \n",
       "21  Moreover, phytochelatins have been found to be...  background   \n",
       "22  One of the key concerns by induction of reprog...  background   \n",
       "23  In [1] and [2], a multilayer directory structu...  background   \n",
       "24  …difference between aspirated and lenis is mer...  background   \n",
       "\n",
       "   sentiment_chris sentiment_daniel  \\\n",
       "0          neutral          neutral   \n",
       "1          neutral          neutral   \n",
       "2          neutral          neutral   \n",
       "3          neutral          neutral   \n",
       "4          neutral          neutral   \n",
       "5         positive         positive   \n",
       "6         positive         positive   \n",
       "7         positive         positive   \n",
       "8         positive          neutral   \n",
       "9         negative         negative   \n",
       "10        positive         positive   \n",
       "11        positive         positive   \n",
       "12        positive         positive   \n",
       "13         neutral          neutral   \n",
       "14        positive          neutral   \n",
       "15        negative         negative   \n",
       "16         neutral          neutral   \n",
       "17         neutral          neutral   \n",
       "18         neutral          neutral   \n",
       "19         neutral          neutral   \n",
       "20         neutral          neutral   \n",
       "21        positive          neutral   \n",
       "22         neutral          neutral   \n",
       "23         neutral         positive   \n",
       "24         neutral          neutral   \n",
       "\n",
       "                                              sc ores  \n",
       "0   {'neg': 0.176, 'neu': 0.621, 'pos': 0.203, 'co...  \n",
       "1   {'neg': 0.0, 'neu': 0.938, 'pos': 0.062, 'comp...  \n",
       "2   {'neg': 0.0, 'neu': 1.0, 'pos': 0.0, 'compound...  \n",
       "3   {'neg': 0.0, 'neu': 0.931, 'pos': 0.069, 'comp...  \n",
       "4   {'neg': 0.0, 'neu': 0.935, 'pos': 0.065, 'comp...  \n",
       "5   {'neg': 0.059, 'neu': 0.88, 'pos': 0.062, 'com...  \n",
       "6   {'neg': 0.131, 'neu': 0.73, 'pos': 0.139, 'com...  \n",
       "7   {'neg': 0.0, 'neu': 0.948, 'pos': 0.052, 'comp...  \n",
       "8   {'neg': 0.0, 'neu': 0.87, 'pos': 0.13, 'compou...  \n",
       "9   {'neg': 0.0, 'neu': 1.0, 'pos': 0.0, 'compound...  \n",
       "10  {'neg': 0.0, 'neu': 1.0, 'pos': 0.0, 'compound...  \n",
       "11  {'neg': 0.036, 'neu': 0.964, 'pos': 0.0, 'comp...  \n",
       "12  {'neg': 0.0, 'neu': 0.927, 'pos': 0.073, 'comp...  \n",
       "13  {'neg': 0.0, 'neu': 1.0, 'pos': 0.0, 'compound...  \n",
       "14  {'neg': 0.055, 'neu': 0.945, 'pos': 0.0, 'comp...  \n",
       "15  {'neg': 0.0, 'neu': 0.945, 'pos': 0.055, 'comp...  \n",
       "16  {'neg': 0.0, 'neu': 1.0, 'pos': 0.0, 'compound...  \n",
       "17  {'neg': 0.122, 'neu': 0.783, 'pos': 0.096, 'co...  \n",
       "18  {'neg': 0.0, 'neu': 0.833, 'pos': 0.167, 'comp...  \n",
       "19  {'neg': 0.15, 'neu': 0.85, 'pos': 0.0, 'compou...  \n",
       "20  {'neg': 0.041, 'neu': 0.959, 'pos': 0.0, 'comp...  \n",
       "21  {'neg': 0.177, 'neu': 0.679, 'pos': 0.144, 'co...  \n",
       "22  {'neg': 0.0, 'neu': 1.0, 'pos': 0.0, 'compound...  \n",
       "23  {'neg': 0.0, 'neu': 0.906, 'pos': 0.094, 'comp...  \n",
       "24  {'neg': 0.048, 'neu': 0.952, 'pos': 0.0, 'comp...  "
      ]
     },
     "execution_count": 10,
     "metadata": {},
     "output_type": "execute_result"
    }
   ],
   "source": [
    "m_df_annotated"
   ]
  },
  {
   "cell_type": "code",
   "execution_count": 17,
   "id": "75655e55",
   "metadata": {
    "pycharm": {
     "name": "#%%\n"
    }
   },
   "outputs": [
    {
     "name": "stderr",
     "output_type": "stream",
     "text": [
      "[nltk_data] Downloading package movie_reviews to\n",
      "[nltk_data]     /home/lolai/nltk_data...\n",
      "[nltk_data]   Package movie_reviews is already up-to-date!\n",
      "[nltk_data] Downloading package punkt to /home/lolai/nltk_data...\n",
      "[nltk_data]   Unzipping tokenizers/punkt.zip.\n"
     ]
    },
    {
     "data": {
      "text/plain": [
       "True"
      ]
     },
     "execution_count": 17,
     "metadata": {},
     "output_type": "execute_result"
    }
   ],
   "source": [
    "from textblob import TextBlob\n",
    "from textblob.sentiments import NaiveBayesAnalyzer\n",
    "nltk.download('movie_reviews')\n",
    "nltk.download('punkt')"
   ]
  },
  {
   "cell_type": "code",
   "execution_count": 23,
   "id": "554970a5",
   "metadata": {
    "pycharm": {
     "name": "#%%\n"
    }
   },
   "outputs": [],
   "source": [
    "for index, row in m_df_annotated.iterrows():\n",
    "    blob = TextBlob(row['string'], analyzer=NaiveBayesAnalyzer())\n",
    "    m_df_annotated.at[index, 'blob'] = blob.sentiment[1]"
   ]
  },
  {
   "cell_type": "code",
   "execution_count": 27,
   "id": "353f18f9",
   "metadata": {
    "pycharm": {
     "name": "#%%\n"
    }
   },
   "outputs": [],
   "source": [
    "m_df_annotated['blob'] = m_df_annotated['string'].apply(lambda string: TextBlob(string).polarity)"
   ]
  },
  {
   "cell_type": "code",
   "execution_count": 28,
   "id": "73c035e0",
   "metadata": {
    "pycharm": {
     "name": "#%%\n"
    }
   },
   "outputs": [
    {
     "data": {
      "text/html": [
       "<div>\n",
       "<style scoped>\n",
       "    .dataframe tbody tr th:only-of-type {\n",
       "        vertical-align: middle;\n",
       "    }\n",
       "\n",
       "    .dataframe tbody tr th {\n",
       "        vertical-align: top;\n",
       "    }\n",
       "\n",
       "    .dataframe thead th {\n",
       "        text-align: right;\n",
       "    }\n",
       "</style>\n",
       "<table border=\"1\" class=\"dataframe\">\n",
       "  <thead>\n",
       "    <tr style=\"text-align: right;\">\n",
       "      <th></th>\n",
       "      <th>Unnamed: 0</th>\n",
       "      <th>citingPaperID</th>\n",
       "      <th>source</th>\n",
       "      <th>string</th>\n",
       "      <th>label</th>\n",
       "      <th>sentiment_chris</th>\n",
       "      <th>sentiment_daniel</th>\n",
       "      <th>sc ores</th>\n",
       "      <th>blob</th>\n",
       "    </tr>\n",
       "  </thead>\n",
       "  <tbody>\n",
       "    <tr>\n",
       "      <th>0</th>\n",
       "      <td>7792</td>\n",
       "      <td>0244de3610992df3e77b65de794861810a673a48&gt;89634...</td>\n",
       "      <td>explicit</td>\n",
       "      <td>The self-report component measures interpretat...</td>\n",
       "      <td>background</td>\n",
       "      <td>neutral</td>\n",
       "      <td>neutral</td>\n",
       "      <td>{'neg': 0.176, 'neu': 0.621, 'pos': 0.203, 'co...</td>\n",
       "      <td>-0.036364</td>\n",
       "    </tr>\n",
       "    <tr>\n",
       "      <th>1</th>\n",
       "      <td>3733</td>\n",
       "      <td>f98fa4590950e29e660b3d3179a7bb570ee4e132&gt;cf4b7...</td>\n",
       "      <td>explicit</td>\n",
       "      <td>The age of giant nupDNA fragment A was calcula...</td>\n",
       "      <td>method</td>\n",
       "      <td>neutral</td>\n",
       "      <td>neutral</td>\n",
       "      <td>{'neg': 0.0, 'neu': 0.938, 'pos': 0.062, 'comp...</td>\n",
       "      <td>0.100000</td>\n",
       "    </tr>\n",
       "    <tr>\n",
       "      <th>2</th>\n",
       "      <td>1237</td>\n",
       "      <td>bc103d96366ec97e0dd620894bbb04c8849eb772&gt;919a7...</td>\n",
       "      <td>explicit</td>\n",
       "      <td>Two representative software of this type are s...</td>\n",
       "      <td>method</td>\n",
       "      <td>neutral</td>\n",
       "      <td>neutral</td>\n",
       "      <td>{'neg': 0.0, 'neu': 1.0, 'pos': 0.0, 'compound...</td>\n",
       "      <td>0.000000</td>\n",
       "    </tr>\n",
       "    <tr>\n",
       "      <th>3</th>\n",
       "      <td>7052</td>\n",
       "      <td>e3450e8ca6d743f04a1ad41297ab59eeb82299b4&gt;b5fcd...</td>\n",
       "      <td>explicit</td>\n",
       "      <td>How are Bcl-2 and Mcl-1 levels regulated in a ...</td>\n",
       "      <td>background</td>\n",
       "      <td>neutral</td>\n",
       "      <td>neutral</td>\n",
       "      <td>{'neg': 0.0, 'neu': 0.931, 'pos': 0.069, 'comp...</td>\n",
       "      <td>-0.051852</td>\n",
       "    </tr>\n",
       "    <tr>\n",
       "      <th>4</th>\n",
       "      <td>6524</td>\n",
       "      <td>8ebd0c64a3f1833cac7b8191303ea2bbd05682b5&gt;86fde...</td>\n",
       "      <td>explicit</td>\n",
       "      <td>Two traits are orthogonal when, based on indiv...</td>\n",
       "      <td>background</td>\n",
       "      <td>neutral</td>\n",
       "      <td>neutral</td>\n",
       "      <td>{'neg': 0.0, 'neu': 0.935, 'pos': 0.065, 'comp...</td>\n",
       "      <td>-0.144345</td>\n",
       "    </tr>\n",
       "    <tr>\n",
       "      <th>5</th>\n",
       "      <td>2543</td>\n",
       "      <td>2c0cab0d657f6c225c74736fed02750c381032de&gt;02cdb...</td>\n",
       "      <td>explicit</td>\n",
       "      <td>These results are similar to other reports [34...</td>\n",
       "      <td>result</td>\n",
       "      <td>positive</td>\n",
       "      <td>positive</td>\n",
       "      <td>{'neg': 0.059, 'neu': 0.88, 'pos': 0.062, 'com...</td>\n",
       "      <td>-0.062500</td>\n",
       "    </tr>\n",
       "    <tr>\n",
       "      <th>6</th>\n",
       "      <td>8093</td>\n",
       "      <td>7dda92d7dbb1a5f7fc78bba6f81890b3832cb2d6&gt;e6f6f...</td>\n",
       "      <td>explicit</td>\n",
       "      <td>A type I T-cell gene signature that promotes b...</td>\n",
       "      <td>background</td>\n",
       "      <td>positive</td>\n",
       "      <td>positive</td>\n",
       "      <td>{'neg': 0.131, 'neu': 0.73, 'pos': 0.139, 'com...</td>\n",
       "      <td>0.000000</td>\n",
       "    </tr>\n",
       "    <tr>\n",
       "      <th>7</th>\n",
       "      <td>5365</td>\n",
       "      <td>9237db18530d0de2e0281e735c10570d7c235b36&gt;14682...</td>\n",
       "      <td>explicit</td>\n",
       "      <td>Resistance to TB involves macrophages [2,4], d...</td>\n",
       "      <td>background</td>\n",
       "      <td>positive</td>\n",
       "      <td>positive</td>\n",
       "      <td>{'neg': 0.0, 'neu': 0.948, 'pos': 0.052, 'comp...</td>\n",
       "      <td>0.000000</td>\n",
       "    </tr>\n",
       "    <tr>\n",
       "      <th>8</th>\n",
       "      <td>4663</td>\n",
       "      <td>1ac9706400e1c06a100add4b83a67af503404d8d&gt;1fc59...</td>\n",
       "      <td>explicit</td>\n",
       "      <td>While the prevalence of hyperechogenicity is o...</td>\n",
       "      <td>background</td>\n",
       "      <td>positive</td>\n",
       "      <td>neutral</td>\n",
       "      <td>{'neg': 0.0, 'neu': 0.87, 'pos': 0.13, 'compou...</td>\n",
       "      <td>0.343750</td>\n",
       "    </tr>\n",
       "    <tr>\n",
       "      <th>9</th>\n",
       "      <td>3065</td>\n",
       "      <td>4f4c6a035c0c28cfe5855a720a8f7a16a401e9f8&gt;0451f...</td>\n",
       "      <td>explicit</td>\n",
       "      <td>There have been few animal studies on this sub...</td>\n",
       "      <td>background</td>\n",
       "      <td>negative</td>\n",
       "      <td>negative</td>\n",
       "      <td>{'neg': 0.0, 'neu': 1.0, 'pos': 0.0, 'compound...</td>\n",
       "      <td>-0.183333</td>\n",
       "    </tr>\n",
       "    <tr>\n",
       "      <th>10</th>\n",
       "      <td>372</td>\n",
       "      <td>0fd548a07b8d113f5f6a6255abe191668120ac53&gt;74809...</td>\n",
       "      <td>explicit</td>\n",
       "      <td>Although Arpp/Ankrd2 has been reported to be l...</td>\n",
       "      <td>background</td>\n",
       "      <td>positive</td>\n",
       "      <td>positive</td>\n",
       "      <td>{'neg': 0.0, 'neu': 1.0, 'pos': 0.0, 'compound...</td>\n",
       "      <td>0.083333</td>\n",
       "    </tr>\n",
       "    <tr>\n",
       "      <th>11</th>\n",
       "      <td>6346</td>\n",
       "      <td>4289898ef10c52412dd2ee16e35ae8ae4954552f&gt;2b2ac...</td>\n",
       "      <td>explicit</td>\n",
       "      <td>…memory\\nINTRODUCTION\\nEmerging studies have s...</td>\n",
       "      <td>background</td>\n",
       "      <td>positive</td>\n",
       "      <td>positive</td>\n",
       "      <td>{'neg': 0.036, 'neu': 0.964, 'pos': 0.0, 'comp...</td>\n",
       "      <td>0.000000</td>\n",
       "    </tr>\n",
       "    <tr>\n",
       "      <th>12</th>\n",
       "      <td>2343</td>\n",
       "      <td>70b1e174c0d26a6262355e3891c2655559f79122&gt;45e3f...</td>\n",
       "      <td>explicit</td>\n",
       "      <td>The prognosis of FVPTC in our study was excell...</td>\n",
       "      <td>result</td>\n",
       "      <td>positive</td>\n",
       "      <td>positive</td>\n",
       "      <td>{'neg': 0.0, 'neu': 0.927, 'pos': 0.073, 'comp...</td>\n",
       "      <td>0.103968</td>\n",
       "    </tr>\n",
       "    <tr>\n",
       "      <th>13</th>\n",
       "      <td>600</td>\n",
       "      <td>9a068a63f5ae85227863a972c7204903fdcca978&gt;73619...</td>\n",
       "      <td>explicit</td>\n",
       "      <td>In addition to expression in the fetus, Igf2 i...</td>\n",
       "      <td>background</td>\n",
       "      <td>neutral</td>\n",
       "      <td>neutral</td>\n",
       "      <td>{'neg': 0.0, 'neu': 1.0, 'pos': 0.0, 'compound...</td>\n",
       "      <td>-0.250000</td>\n",
       "    </tr>\n",
       "    <tr>\n",
       "      <th>14</th>\n",
       "      <td>3791</td>\n",
       "      <td>af794c74a2bfd33336bca2a410ed42a978d98a89&gt;69157...</td>\n",
       "      <td>explicit</td>\n",
       "      <td>Other studies suggest that altering affinity t...</td>\n",
       "      <td>background</td>\n",
       "      <td>positive</td>\n",
       "      <td>neutral</td>\n",
       "      <td>{'neg': 0.055, 'neu': 0.945, 'pos': 0.0, 'comp...</td>\n",
       "      <td>-0.012500</td>\n",
       "    </tr>\n",
       "    <tr>\n",
       "      <th>15</th>\n",
       "      <td>6315</td>\n",
       "      <td>ae1a3173131628123ac7c7579045aa96006c9485&gt;6220e...</td>\n",
       "      <td>explicit</td>\n",
       "      <td>Although our cohort also consisted of treatmen...</td>\n",
       "      <td>result</td>\n",
       "      <td>negative</td>\n",
       "      <td>negative</td>\n",
       "      <td>{'neg': 0.0, 'neu': 0.945, 'pos': 0.055, 'comp...</td>\n",
       "      <td>0.069444</td>\n",
       "    </tr>\n",
       "    <tr>\n",
       "      <th>16</th>\n",
       "      <td>7737</td>\n",
       "      <td>d388588cbc8aef4f1eba7b56f1571191370f6e75&gt;7348e...</td>\n",
       "      <td>explicit</td>\n",
       "      <td>These study areas have all been managed in the...</td>\n",
       "      <td>background</td>\n",
       "      <td>neutral</td>\n",
       "      <td>neutral</td>\n",
       "      <td>{'neg': 0.0, 'neu': 1.0, 'pos': 0.0, 'compound...</td>\n",
       "      <td>-0.092500</td>\n",
       "    </tr>\n",
       "    <tr>\n",
       "      <th>17</th>\n",
       "      <td>7162</td>\n",
       "      <td>e9a4a6cec8b4a268ecd991a9f92700ce1a8960a5&gt;3ef88...</td>\n",
       "      <td>explicit</td>\n",
       "      <td>Assessing Risk of Bias\\nCritical appraisal of ...</td>\n",
       "      <td>method</td>\n",
       "      <td>neutral</td>\n",
       "      <td>neutral</td>\n",
       "      <td>{'neg': 0.122, 'neu': 0.783, 'pos': 0.096, 'co...</td>\n",
       "      <td>0.066667</td>\n",
       "    </tr>\n",
       "    <tr>\n",
       "      <th>18</th>\n",
       "      <td>3758</td>\n",
       "      <td>ea5e02b640e8b354ca4c997f2358a1da8837fc19&gt;2f0f0...</td>\n",
       "      <td>explicit</td>\n",
       "      <td>A retrospective cohort study abstracted medica...</td>\n",
       "      <td>background</td>\n",
       "      <td>neutral</td>\n",
       "      <td>neutral</td>\n",
       "      <td>{'neg': 0.0, 'neu': 0.833, 'pos': 0.167, 'comp...</td>\n",
       "      <td>0.000000</td>\n",
       "    </tr>\n",
       "    <tr>\n",
       "      <th>19</th>\n",
       "      <td>8208</td>\n",
       "      <td>b4bafb8c1ff27c29f0ecef6caa775a0f2d86db00&gt;79b28...</td>\n",
       "      <td>explicit</td>\n",
       "      <td>Cancer cells usually have a different genome s...</td>\n",
       "      <td>background</td>\n",
       "      <td>neutral</td>\n",
       "      <td>neutral</td>\n",
       "      <td>{'neg': 0.15, 'neu': 0.85, 'pos': 0.0, 'compou...</td>\n",
       "      <td>-0.020000</td>\n",
       "    </tr>\n",
       "    <tr>\n",
       "      <th>20</th>\n",
       "      <td>2397</td>\n",
       "      <td>387a4968c48a7f86693bcc455beffa97943cd445&gt;3fdc8...</td>\n",
       "      <td>explicit</td>\n",
       "      <td>%) was a close relative (at 97% identity) of t...</td>\n",
       "      <td>background</td>\n",
       "      <td>neutral</td>\n",
       "      <td>neutral</td>\n",
       "      <td>{'neg': 0.041, 'neu': 0.959, 'pos': 0.0, 'comp...</td>\n",
       "      <td>0.000000</td>\n",
       "    </tr>\n",
       "    <tr>\n",
       "      <th>21</th>\n",
       "      <td>2542</td>\n",
       "      <td>4ba2e2317d3211666340f58f90efc051a3503bef&gt;2a8c2...</td>\n",
       "      <td>explicit</td>\n",
       "      <td>Moreover, phytochelatins have been found to be...</td>\n",
       "      <td>background</td>\n",
       "      <td>positive</td>\n",
       "      <td>neutral</td>\n",
       "      <td>{'neg': 0.177, 'neu': 0.679, 'pos': 0.144, 'co...</td>\n",
       "      <td>0.550000</td>\n",
       "    </tr>\n",
       "    <tr>\n",
       "      <th>22</th>\n",
       "      <td>4697</td>\n",
       "      <td>743a1befaf5e2cd2e5a9162432909b221a1e695c&gt;8bd0c...</td>\n",
       "      <td>explicit</td>\n",
       "      <td>One of the key concerns by induction of reprog...</td>\n",
       "      <td>background</td>\n",
       "      <td>neutral</td>\n",
       "      <td>neutral</td>\n",
       "      <td>{'neg': 0.0, 'neu': 1.0, 'pos': 0.0, 'compound...</td>\n",
       "      <td>0.300000</td>\n",
       "    </tr>\n",
       "    <tr>\n",
       "      <th>23</th>\n",
       "      <td>3954</td>\n",
       "      <td>37e4db73f2c3fa01c121afef0a938656bc03cebd&gt;447b2...</td>\n",
       "      <td>explicit</td>\n",
       "      <td>In [1] and [2], a multilayer directory structu...</td>\n",
       "      <td>background</td>\n",
       "      <td>neutral</td>\n",
       "      <td>positive</td>\n",
       "      <td>{'neg': 0.0, 'neu': 0.906, 'pos': 0.094, 'comp...</td>\n",
       "      <td>0.000000</td>\n",
       "    </tr>\n",
       "    <tr>\n",
       "      <th>24</th>\n",
       "      <td>5098</td>\n",
       "      <td>eafafc708296c462edc9294e1b8f3b1dd3f4dffc&gt;8f125...</td>\n",
       "      <td>explicit</td>\n",
       "      <td>…difference between aspirated and lenis is mer...</td>\n",
       "      <td>background</td>\n",
       "      <td>neutral</td>\n",
       "      <td>neutral</td>\n",
       "      <td>{'neg': 0.048, 'neu': 0.952, 'pos': 0.0, 'comp...</td>\n",
       "      <td>-0.095833</td>\n",
       "    </tr>\n",
       "  </tbody>\n",
       "</table>\n",
       "</div>"
      ],
      "text/plain": [
       "    Unnamed: 0                                      citingPaperID    source  \\\n",
       "0         7792  0244de3610992df3e77b65de794861810a673a48>89634...  explicit   \n",
       "1         3733  f98fa4590950e29e660b3d3179a7bb570ee4e132>cf4b7...  explicit   \n",
       "2         1237  bc103d96366ec97e0dd620894bbb04c8849eb772>919a7...  explicit   \n",
       "3         7052  e3450e8ca6d743f04a1ad41297ab59eeb82299b4>b5fcd...  explicit   \n",
       "4         6524  8ebd0c64a3f1833cac7b8191303ea2bbd05682b5>86fde...  explicit   \n",
       "5         2543  2c0cab0d657f6c225c74736fed02750c381032de>02cdb...  explicit   \n",
       "6         8093  7dda92d7dbb1a5f7fc78bba6f81890b3832cb2d6>e6f6f...  explicit   \n",
       "7         5365  9237db18530d0de2e0281e735c10570d7c235b36>14682...  explicit   \n",
       "8         4663  1ac9706400e1c06a100add4b83a67af503404d8d>1fc59...  explicit   \n",
       "9         3065  4f4c6a035c0c28cfe5855a720a8f7a16a401e9f8>0451f...  explicit   \n",
       "10         372  0fd548a07b8d113f5f6a6255abe191668120ac53>74809...  explicit   \n",
       "11        6346  4289898ef10c52412dd2ee16e35ae8ae4954552f>2b2ac...  explicit   \n",
       "12        2343  70b1e174c0d26a6262355e3891c2655559f79122>45e3f...  explicit   \n",
       "13         600  9a068a63f5ae85227863a972c7204903fdcca978>73619...  explicit   \n",
       "14        3791  af794c74a2bfd33336bca2a410ed42a978d98a89>69157...  explicit   \n",
       "15        6315  ae1a3173131628123ac7c7579045aa96006c9485>6220e...  explicit   \n",
       "16        7737  d388588cbc8aef4f1eba7b56f1571191370f6e75>7348e...  explicit   \n",
       "17        7162  e9a4a6cec8b4a268ecd991a9f92700ce1a8960a5>3ef88...  explicit   \n",
       "18        3758  ea5e02b640e8b354ca4c997f2358a1da8837fc19>2f0f0...  explicit   \n",
       "19        8208  b4bafb8c1ff27c29f0ecef6caa775a0f2d86db00>79b28...  explicit   \n",
       "20        2397  387a4968c48a7f86693bcc455beffa97943cd445>3fdc8...  explicit   \n",
       "21        2542  4ba2e2317d3211666340f58f90efc051a3503bef>2a8c2...  explicit   \n",
       "22        4697  743a1befaf5e2cd2e5a9162432909b221a1e695c>8bd0c...  explicit   \n",
       "23        3954  37e4db73f2c3fa01c121afef0a938656bc03cebd>447b2...  explicit   \n",
       "24        5098  eafafc708296c462edc9294e1b8f3b1dd3f4dffc>8f125...  explicit   \n",
       "\n",
       "                                               string       label  \\\n",
       "0   The self-report component measures interpretat...  background   \n",
       "1   The age of giant nupDNA fragment A was calcula...      method   \n",
       "2   Two representative software of this type are s...      method   \n",
       "3   How are Bcl-2 and Mcl-1 levels regulated in a ...  background   \n",
       "4   Two traits are orthogonal when, based on indiv...  background   \n",
       "5   These results are similar to other reports [34...      result   \n",
       "6   A type I T-cell gene signature that promotes b...  background   \n",
       "7   Resistance to TB involves macrophages [2,4], d...  background   \n",
       "8   While the prevalence of hyperechogenicity is o...  background   \n",
       "9   There have been few animal studies on this sub...  background   \n",
       "10  Although Arpp/Ankrd2 has been reported to be l...  background   \n",
       "11  …memory\\nINTRODUCTION\\nEmerging studies have s...  background   \n",
       "12  The prognosis of FVPTC in our study was excell...      result   \n",
       "13  In addition to expression in the fetus, Igf2 i...  background   \n",
       "14  Other studies suggest that altering affinity t...  background   \n",
       "15  Although our cohort also consisted of treatmen...      result   \n",
       "16  These study areas have all been managed in the...  background   \n",
       "17  Assessing Risk of Bias\\nCritical appraisal of ...      method   \n",
       "18  A retrospective cohort study abstracted medica...  background   \n",
       "19  Cancer cells usually have a different genome s...  background   \n",
       "20  %) was a close relative (at 97% identity) of t...  background   \n",
       "21  Moreover, phytochelatins have been found to be...  background   \n",
       "22  One of the key concerns by induction of reprog...  background   \n",
       "23  In [1] and [2], a multilayer directory structu...  background   \n",
       "24  …difference between aspirated and lenis is mer...  background   \n",
       "\n",
       "   sentiment_chris sentiment_daniel  \\\n",
       "0          neutral          neutral   \n",
       "1          neutral          neutral   \n",
       "2          neutral          neutral   \n",
       "3          neutral          neutral   \n",
       "4          neutral          neutral   \n",
       "5         positive         positive   \n",
       "6         positive         positive   \n",
       "7         positive         positive   \n",
       "8         positive          neutral   \n",
       "9         negative         negative   \n",
       "10        positive         positive   \n",
       "11        positive         positive   \n",
       "12        positive         positive   \n",
       "13         neutral          neutral   \n",
       "14        positive          neutral   \n",
       "15        negative         negative   \n",
       "16         neutral          neutral   \n",
       "17         neutral          neutral   \n",
       "18         neutral          neutral   \n",
       "19         neutral          neutral   \n",
       "20         neutral          neutral   \n",
       "21        positive          neutral   \n",
       "22         neutral          neutral   \n",
       "23         neutral         positive   \n",
       "24         neutral          neutral   \n",
       "\n",
       "                                              sc ores      blob  \n",
       "0   {'neg': 0.176, 'neu': 0.621, 'pos': 0.203, 'co... -0.036364  \n",
       "1   {'neg': 0.0, 'neu': 0.938, 'pos': 0.062, 'comp...  0.100000  \n",
       "2   {'neg': 0.0, 'neu': 1.0, 'pos': 0.0, 'compound...  0.000000  \n",
       "3   {'neg': 0.0, 'neu': 0.931, 'pos': 0.069, 'comp... -0.051852  \n",
       "4   {'neg': 0.0, 'neu': 0.935, 'pos': 0.065, 'comp... -0.144345  \n",
       "5   {'neg': 0.059, 'neu': 0.88, 'pos': 0.062, 'com... -0.062500  \n",
       "6   {'neg': 0.131, 'neu': 0.73, 'pos': 0.139, 'com...  0.000000  \n",
       "7   {'neg': 0.0, 'neu': 0.948, 'pos': 0.052, 'comp...  0.000000  \n",
       "8   {'neg': 0.0, 'neu': 0.87, 'pos': 0.13, 'compou...  0.343750  \n",
       "9   {'neg': 0.0, 'neu': 1.0, 'pos': 0.0, 'compound... -0.183333  \n",
       "10  {'neg': 0.0, 'neu': 1.0, 'pos': 0.0, 'compound...  0.083333  \n",
       "11  {'neg': 0.036, 'neu': 0.964, 'pos': 0.0, 'comp...  0.000000  \n",
       "12  {'neg': 0.0, 'neu': 0.927, 'pos': 0.073, 'comp...  0.103968  \n",
       "13  {'neg': 0.0, 'neu': 1.0, 'pos': 0.0, 'compound... -0.250000  \n",
       "14  {'neg': 0.055, 'neu': 0.945, 'pos': 0.0, 'comp... -0.012500  \n",
       "15  {'neg': 0.0, 'neu': 0.945, 'pos': 0.055, 'comp...  0.069444  \n",
       "16  {'neg': 0.0, 'neu': 1.0, 'pos': 0.0, 'compound... -0.092500  \n",
       "17  {'neg': 0.122, 'neu': 0.783, 'pos': 0.096, 'co...  0.066667  \n",
       "18  {'neg': 0.0, 'neu': 0.833, 'pos': 0.167, 'comp...  0.000000  \n",
       "19  {'neg': 0.15, 'neu': 0.85, 'pos': 0.0, 'compou... -0.020000  \n",
       "20  {'neg': 0.041, 'neu': 0.959, 'pos': 0.0, 'comp...  0.000000  \n",
       "21  {'neg': 0.177, 'neu': 0.679, 'pos': 0.144, 'co...  0.550000  \n",
       "22  {'neg': 0.0, 'neu': 1.0, 'pos': 0.0, 'compound...  0.300000  \n",
       "23  {'neg': 0.0, 'neu': 0.906, 'pos': 0.094, 'comp...  0.000000  \n",
       "24  {'neg': 0.048, 'neu': 0.952, 'pos': 0.0, 'comp... -0.095833  "
      ]
     },
     "execution_count": 28,
     "metadata": {},
     "output_type": "execute_result"
    }
   ],
   "source": [
    "m_df_annotated"
   ]
  }
 ],
 "metadata": {
  "kernelspec": {
   "display_name": "Python 3 (ipykernel)",
   "language": "python",
   "name": "python3"
  },
  "language_info": {
   "codemirror_mode": {
    "name": "ipython",
    "version": 3
   },
   "file_extension": ".py",
   "mimetype": "text/x-python",
   "name": "python",
   "nbconvert_exporter": "python",
   "pygments_lexer": "ipython3",
   "version": "3.9.7"
  }
 },
 "nbformat": 4,
 "nbformat_minor": 5
}