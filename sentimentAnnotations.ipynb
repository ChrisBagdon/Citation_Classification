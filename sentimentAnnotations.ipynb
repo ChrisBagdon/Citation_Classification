{
 "cells": [
  {
   "cell_type": "code",
   "execution_count": 1,
   "id": "d7a6ed2d",
   "metadata": {
    "pycharm": {
     "name": "#%%\n"
    }
   },
   "outputs": [],
   "source": [
    "import numpy as np\n",
    "import pandas as pd"
   ]
  },
  {
   "cell_type": "code",
   "execution_count": 2,
   "id": "f300bf58",
   "metadata": {
    "pycharm": {
     "name": "#%%\n"
    }
   },
   "outputs": [
    {
     "data": {
      "text/plain": "                                       citingPaperID    source  \\\n0  1872080baa7d30ec8fb87be9a65358cd3a7fb649>894be...  explicit   \n1  ce1d09a4a3a8d7fd3405b9328f65f00c952cf64b>b6642...  explicit   \n2  9cdf605beb1aa1078f235c4332b3024daa8b31dc>4e6a1...  explicit   \n3  d9f3207db0c79a3b154f3875c9760cc6b056904b>2cc6f...  explicit   \n4  88b86556857f4374842d2af2e359576806239175>a5bb0...  explicit   \n\n                                              string       label  \n0  However, how frataxin interacts with the Fe-S ...  background  \n1  In the study by Hickey et al. (2012), spikes w...  background  \n2  The drug also reduces catecholamine secretion,...  background  \n3  By clustering with lowly aggressive close kin ...  background  \n4  Ophthalmic symptoms are rare manifestations of...  background  ",
      "text/html": "<div>\n<style scoped>\n    .dataframe tbody tr th:only-of-type {\n        vertical-align: middle;\n    }\n\n    .dataframe tbody tr th {\n        vertical-align: top;\n    }\n\n    .dataframe thead th {\n        text-align: right;\n    }\n</style>\n<table border=\"1\" class=\"dataframe\">\n  <thead>\n    <tr style=\"text-align: right;\">\n      <th></th>\n      <th>citingPaperID</th>\n      <th>source</th>\n      <th>string</th>\n      <th>label</th>\n    </tr>\n  </thead>\n  <tbody>\n    <tr>\n      <th>0</th>\n      <td>1872080baa7d30ec8fb87be9a65358cd3a7fb649&gt;894be...</td>\n      <td>explicit</td>\n      <td>However, how frataxin interacts with the Fe-S ...</td>\n      <td>background</td>\n    </tr>\n    <tr>\n      <th>1</th>\n      <td>ce1d09a4a3a8d7fd3405b9328f65f00c952cf64b&gt;b6642...</td>\n      <td>explicit</td>\n      <td>In the study by Hickey et al. (2012), spikes w...</td>\n      <td>background</td>\n    </tr>\n    <tr>\n      <th>2</th>\n      <td>9cdf605beb1aa1078f235c4332b3024daa8b31dc&gt;4e6a1...</td>\n      <td>explicit</td>\n      <td>The drug also reduces catecholamine secretion,...</td>\n      <td>background</td>\n    </tr>\n    <tr>\n      <th>3</th>\n      <td>d9f3207db0c79a3b154f3875c9760cc6b056904b&gt;2cc6f...</td>\n      <td>explicit</td>\n      <td>By clustering with lowly aggressive close kin ...</td>\n      <td>background</td>\n    </tr>\n    <tr>\n      <th>4</th>\n      <td>88b86556857f4374842d2af2e359576806239175&gt;a5bb0...</td>\n      <td>explicit</td>\n      <td>Ophthalmic symptoms are rare manifestations of...</td>\n      <td>background</td>\n    </tr>\n  </tbody>\n</table>\n</div>"
     },
     "execution_count": 2,
     "metadata": {},
     "output_type": "execute_result"
    }
   ],
   "source": [
    "### Read in training dataset (TSV)\n",
    "# Filepath will be different; set to repo's filepath when we add the corpus files\n",
    "train_tsv = pd.read_csv('scicite/tsv/train.tsv', sep='\\t', \n",
    "                       names=[\"citingPaperID\", \"source\", \"string\", \"label\"]\n",
    "                       )\n",
    "train_tsv.head()"
   ]
  },
  {
   "cell_type": "code",
   "execution_count": 3,
   "id": "3aeb91a4",
   "metadata": {
    "pycharm": {
     "name": "#%%\n"
    }
   },
   "outputs": [],
   "source": [
    "### Getting samples of the data for sentiment annotating\n",
    "train_sentiment = train_tsv.copy()\n",
    "\n",
    "# Chris' subset\n",
    "c_sample = train_sentiment['string'].sample(n=50, random_state=1)\n",
    "c_index = list(c_sample.index)\n",
    "\n",
    "train_sentiment = train_sentiment.drop(c_index)\n",
    "\n",
    "# Daniel's subset\n",
    "d_sample = train_sentiment['string'].sample(n=50, random_state=1)\n",
    "d_index = list(d_sample.index)\n",
    "\n",
    "train_sentiment = train_sentiment.drop(d_index)\n",
    "\n",
    "# Mutual subset (for IAA score)\n",
    "m_sample = train_sentiment['string'].sample(n=25, random_state=1)\n",
    "m_index = list(m_sample.index)"
   ]
  },
  {
   "cell_type": "code",
   "execution_count": 4,
   "id": "38795302",
   "metadata": {
    "pycharm": {
     "name": "#%%\n"
    }
   },
   "outputs": [
    {
     "data": {
      "text/html": [
       "<div>\n",
       "<style scoped>\n",
       "    .dataframe tbody tr th:only-of-type {\n",
       "        vertical-align: middle;\n",
       "    }\n",
       "\n",
       "    .dataframe tbody tr th {\n",
       "        vertical-align: top;\n",
       "    }\n",
       "\n",
       "    .dataframe thead th {\n",
       "        text-align: right;\n",
       "    }\n",
       "</style>\n",
       "<table border=\"1\" class=\"dataframe\">\n",
       "  <thead>\n",
       "    <tr style=\"text-align: right;\">\n",
       "      <th></th>\n",
       "      <th>citingPaperID</th>\n",
       "      <th>source</th>\n",
       "      <th>string</th>\n",
       "      <th>label</th>\n",
       "      <th>sentiment</th>\n",
       "    </tr>\n",
       "  </thead>\n",
       "  <tbody>\n",
       "    <tr>\n",
       "      <th>2305</th>\n",
       "      <td>f6e7d88342d23cdc6dc959b16106b6bb05fa807a&gt;0fee7...</td>\n",
       "      <td>explicit</td>\n",
       "      <td>Utilizing gain-offunction assays, we demonstra...</td>\n",
       "      <td>method</td>\n",
       "      <td></td>\n",
       "    </tr>\n",
       "    <tr>\n",
       "      <th>3210</th>\n",
       "      <td>51439b498621806aa3a915fdbd4aa983473da397&gt;6eb72...</td>\n",
       "      <td>explicit</td>\n",
       "      <td>maticity, refractoriness and conduction of the...</td>\n",
       "      <td>background</td>\n",
       "      <td></td>\n",
       "    </tr>\n",
       "    <tr>\n",
       "      <th>4484</th>\n",
       "      <td>64cf98067d1cadda174e5ffa24fc45a6b3e6426f&gt;2d04a...</td>\n",
       "      <td>explicit</td>\n",
       "      <td>For reovirus 1/L-induced ARDS, at day 9 postin...</td>\n",
       "      <td>background</td>\n",
       "      <td></td>\n",
       "    </tr>\n",
       "    <tr>\n",
       "      <th>5821</th>\n",
       "      <td>9b6d433ab5104713ee41fbeb24b4d0f2b82fe587&gt;95158...</td>\n",
       "      <td>explicit</td>\n",
       "      <td>Besides that, no ameliorate impacts have been ...</td>\n",
       "      <td>background</td>\n",
       "      <td></td>\n",
       "    </tr>\n",
       "    <tr>\n",
       "      <th>3514</th>\n",
       "      <td>15ac5bcd9ca900dc948e969558670084e3d560e0&gt;5297c...</td>\n",
       "      <td>explicit</td>\n",
       "      <td>However, limited information is available abou...</td>\n",
       "      <td>background</td>\n",
       "      <td></td>\n",
       "    </tr>\n",
       "  </tbody>\n",
       "</table>\n",
       "</div>"
      ],
      "text/plain": [
       "                                          citingPaperID    source  \\\n",
       "2305  f6e7d88342d23cdc6dc959b16106b6bb05fa807a>0fee7...  explicit   \n",
       "3210  51439b498621806aa3a915fdbd4aa983473da397>6eb72...  explicit   \n",
       "4484  64cf98067d1cadda174e5ffa24fc45a6b3e6426f>2d04a...  explicit   \n",
       "5821  9b6d433ab5104713ee41fbeb24b4d0f2b82fe587>95158...  explicit   \n",
       "3514  15ac5bcd9ca900dc948e969558670084e3d560e0>5297c...  explicit   \n",
       "\n",
       "                                                 string       label sentiment  \n",
       "2305  Utilizing gain-offunction assays, we demonstra...      method            \n",
       "3210  maticity, refractoriness and conduction of the...  background            \n",
       "4484  For reovirus 1/L-induced ARDS, at day 9 postin...  background            \n",
       "5821  Besides that, no ameliorate impacts have been ...  background            \n",
       "3514  However, limited information is available abou...  background            "
      ]
     },
     "execution_count": 4,
     "metadata": {},
     "output_type": "execute_result"
    }
   ],
   "source": [
    "# Chris' subset in DataFrame form (for adding a sentiment column/feature)\n",
    "c_df = train_tsv.copy()\n",
    "c_df = c_df.iloc[c_index]\n",
    "c_df['sentiment'] = ['']*50\n",
    "c_df.head()"
   ]
  },
  {
   "cell_type": "code",
   "execution_count": 3,
   "id": "3c378edc",
   "metadata": {
    "pycharm": {
     "name": "#%%\n"
    }
   },
   "outputs": [
    {
     "ename": "NameError",
     "evalue": "name 'c_df' is not defined",
     "output_type": "error",
     "traceback": [
      "\u001B[0;31m---------------------------------------------------------------------------\u001B[0m",
      "\u001B[0;31mNameError\u001B[0m                                 Traceback (most recent call last)",
      "Input \u001B[0;32mIn [3]\u001B[0m, in \u001B[0;36m<cell line: 1>\u001B[0;34m()\u001B[0m\n\u001B[0;32m----> 1\u001B[0m \u001B[43mc_df\u001B[49m\u001B[38;5;241m.\u001B[39mto_csv(\u001B[38;5;124m'\u001B[39m\u001B[38;5;124mannotation_C.csv\u001B[39m\u001B[38;5;124m'\u001B[39m)\n",
      "\u001B[0;31mNameError\u001B[0m: name 'c_df' is not defined"
     ]
    }
   ],
   "source": [
    "c_df.to_csv('annotation_C.csv')"
   ]
  },
  {
   "cell_type": "code",
   "execution_count": 4,
   "id": "06080e17",
   "metadata": {
    "pycharm": {
     "name": "#%%\n"
    }
   },
   "outputs": [
    {
     "data": {
      "text/plain": "   Unnamed: 0                                      citingPaperID    source  \\\n0        2305  f6e7d88342d23cdc6dc959b16106b6bb05fa807a>0fee7...  explicit   \n1        3210  51439b498621806aa3a915fdbd4aa983473da397>6eb72...  explicit   \n2        4484  64cf98067d1cadda174e5ffa24fc45a6b3e6426f>2d04a...  explicit   \n3        5821  9b6d433ab5104713ee41fbeb24b4d0f2b82fe587>95158...  explicit   \n4        3514  15ac5bcd9ca900dc948e969558670084e3d560e0>5297c...  explicit   \n\n                                              string       label sentiment  \n0  Utilizing gain-offunction assays, we demonstra...      method  positive  \n1  maticity, refractoriness and conduction of the...  background   neutral  \n2  For reovirus 1/L-induced ARDS, at day 9 postin...  background   neutral  \n3  Besides that, no ameliorate impacts have been ...  background  negative  \n4  However, limited information is available abou...  background  negative  ",
      "text/html": "<div>\n<style scoped>\n    .dataframe tbody tr th:only-of-type {\n        vertical-align: middle;\n    }\n\n    .dataframe tbody tr th {\n        vertical-align: top;\n    }\n\n    .dataframe thead th {\n        text-align: right;\n    }\n</style>\n<table border=\"1\" class=\"dataframe\">\n  <thead>\n    <tr style=\"text-align: right;\">\n      <th></th>\n      <th>Unnamed: 0</th>\n      <th>citingPaperID</th>\n      <th>source</th>\n      <th>string</th>\n      <th>label</th>\n      <th>sentiment</th>\n    </tr>\n  </thead>\n  <tbody>\n    <tr>\n      <th>0</th>\n      <td>2305</td>\n      <td>f6e7d88342d23cdc6dc959b16106b6bb05fa807a&gt;0fee7...</td>\n      <td>explicit</td>\n      <td>Utilizing gain-offunction assays, we demonstra...</td>\n      <td>method</td>\n      <td>positive</td>\n    </tr>\n    <tr>\n      <th>1</th>\n      <td>3210</td>\n      <td>51439b498621806aa3a915fdbd4aa983473da397&gt;6eb72...</td>\n      <td>explicit</td>\n      <td>maticity, refractoriness and conduction of the...</td>\n      <td>background</td>\n      <td>neutral</td>\n    </tr>\n    <tr>\n      <th>2</th>\n      <td>4484</td>\n      <td>64cf98067d1cadda174e5ffa24fc45a6b3e6426f&gt;2d04a...</td>\n      <td>explicit</td>\n      <td>For reovirus 1/L-induced ARDS, at day 9 postin...</td>\n      <td>background</td>\n      <td>neutral</td>\n    </tr>\n    <tr>\n      <th>3</th>\n      <td>5821</td>\n      <td>9b6d433ab5104713ee41fbeb24b4d0f2b82fe587&gt;95158...</td>\n      <td>explicit</td>\n      <td>Besides that, no ameliorate impacts have been ...</td>\n      <td>background</td>\n      <td>negative</td>\n    </tr>\n    <tr>\n      <th>4</th>\n      <td>3514</td>\n      <td>15ac5bcd9ca900dc948e969558670084e3d560e0&gt;5297c...</td>\n      <td>explicit</td>\n      <td>However, limited information is available abou...</td>\n      <td>background</td>\n      <td>negative</td>\n    </tr>\n  </tbody>\n</table>\n</div>"
     },
     "execution_count": 4,
     "metadata": {},
     "output_type": "execute_result"
    }
   ],
   "source": [
    "c_df_annotated = pd.read_csv('annotated_C.csv')\n",
    "c_df_annotated.head()"
   ]
  },
  {
   "cell_type": "code",
   "execution_count": 5,
   "id": "cb8a25ea",
   "metadata": {
    "pycharm": {
     "name": "#%%\n"
    }
   },
   "outputs": [
    {
     "data": {
      "text/html": [
       "<div>\n",
       "<style scoped>\n",
       "    .dataframe tbody tr th:only-of-type {\n",
       "        vertical-align: middle;\n",
       "    }\n",
       "\n",
       "    .dataframe tbody tr th {\n",
       "        vertical-align: top;\n",
       "    }\n",
       "\n",
       "    .dataframe thead th {\n",
       "        text-align: right;\n",
       "    }\n",
       "</style>\n",
       "<table border=\"1\" class=\"dataframe\">\n",
       "  <thead>\n",
       "    <tr style=\"text-align: right;\">\n",
       "      <th></th>\n",
       "      <th>citingPaperID</th>\n",
       "      <th>source</th>\n",
       "      <th>string</th>\n",
       "      <th>label</th>\n",
       "      <th>sentiment</th>\n",
       "    </tr>\n",
       "  </thead>\n",
       "  <tbody>\n",
       "    <tr>\n",
       "      <th>3923</th>\n",
       "      <td>6828a9cc19290ccd8cc99ccc678a042b00d92125&gt;26cad...</td>\n",
       "      <td>explicit</td>\n",
       "      <td>The relationship between DNA content and absor...</td>\n",
       "      <td>background</td>\n",
       "      <td></td>\n",
       "    </tr>\n",
       "    <tr>\n",
       "      <th>4306</th>\n",
       "      <td>5cecd1d9932d3f269b1caa45d07e84e3376c3710&gt;9a0f5...</td>\n",
       "      <td>explicit</td>\n",
       "      <td>With respect to the contradicting results of o...</td>\n",
       "      <td>result</td>\n",
       "      <td></td>\n",
       "    </tr>\n",
       "    <tr>\n",
       "      <th>4960</th>\n",
       "      <td>1890ccd4d2a4d542ba24081b593ab8060e38f101&gt;12732...</td>\n",
       "      <td>explicit</td>\n",
       "      <td>We elected to take this course because formal ...</td>\n",
       "      <td>method</td>\n",
       "      <td></td>\n",
       "    </tr>\n",
       "    <tr>\n",
       "      <th>6921</th>\n",
       "      <td>e2e9ce75aab15707ff3b85378b61f161c0b7886a&gt;39688...</td>\n",
       "      <td>explicit</td>\n",
       "      <td>Nuclear localization of PTOV1 is required for ...</td>\n",
       "      <td>background</td>\n",
       "      <td></td>\n",
       "    </tr>\n",
       "    <tr>\n",
       "      <th>3526</th>\n",
       "      <td>afe94f58975df56a9c0450c8153c2dd43d0b597b&gt;ec694...</td>\n",
       "      <td>explicit</td>\n",
       "      <td>The remaining medial portion of the bone was p...</td>\n",
       "      <td>method</td>\n",
       "      <td></td>\n",
       "    </tr>\n",
       "  </tbody>\n",
       "</table>\n",
       "</div>"
      ],
      "text/plain": [
       "                                          citingPaperID    source  \\\n",
       "3923  6828a9cc19290ccd8cc99ccc678a042b00d92125>26cad...  explicit   \n",
       "4306  5cecd1d9932d3f269b1caa45d07e84e3376c3710>9a0f5...  explicit   \n",
       "4960  1890ccd4d2a4d542ba24081b593ab8060e38f101>12732...  explicit   \n",
       "6921  e2e9ce75aab15707ff3b85378b61f161c0b7886a>39688...  explicit   \n",
       "3526  afe94f58975df56a9c0450c8153c2dd43d0b597b>ec694...  explicit   \n",
       "\n",
       "                                                 string       label sentiment  \n",
       "3923  The relationship between DNA content and absor...  background            \n",
       "4306  With respect to the contradicting results of o...      result            \n",
       "4960  We elected to take this course because formal ...      method            \n",
       "6921  Nuclear localization of PTOV1 is required for ...  background            \n",
       "3526  The remaining medial portion of the bone was p...      method            "
      ]
     },
     "execution_count": 5,
     "metadata": {},
     "output_type": "execute_result"
    }
   ],
   "source": [
    "# Daniel's subset in DataFrame form (for adding a sentiment column/feature)\n",
    "d_df = train_tsv.copy()\n",
    "d_df = d_df.iloc[d_index]\n",
    "d_df['sentiment'] = ['']*50\n",
    "d_df.head()"
   ]
  },
  {
   "cell_type": "code",
   "execution_count": null,
   "outputs": [],
   "source": [
    "d_df.to_csv('annotation_D.csv')"
   ],
   "metadata": {
    "collapsed": false,
    "pycharm": {
     "name": "#%%\n"
    }
   }
  },
  {
   "cell_type": "code",
   "execution_count": 5,
   "outputs": [
    {
     "data": {
      "text/plain": "   Unnamed: 0                                      citingPaperID    source  \\\n0        3923  6828a9cc19290ccd8cc99ccc678a042b00d92125>26cad...  explicit   \n1        4306  5cecd1d9932d3f269b1caa45d07e84e3376c3710>9a0f5...  explicit   \n2        4960  1890ccd4d2a4d542ba24081b593ab8060e38f101>12732...  explicit   \n3        6921  e2e9ce75aab15707ff3b85378b61f161c0b7886a>39688...  explicit   \n4        3526  afe94f58975df56a9c0450c8153c2dd43d0b597b>ec694...  explicit   \n\n                                              string       label sentiment  \n0  The relationship between DNA content and absor...  background  positive  \n1  With respect to the contradicting results of o...      result  negative  \n2  We elected to take this course because formal ...      method   neutral  \n3  Nuclear localization of PTOV1 is required for ...  background   neutral  \n4  The remaining medial portion of the bone was p...      method   neutral  ",
      "text/html": "<div>\n<style scoped>\n    .dataframe tbody tr th:only-of-type {\n        vertical-align: middle;\n    }\n\n    .dataframe tbody tr th {\n        vertical-align: top;\n    }\n\n    .dataframe thead th {\n        text-align: right;\n    }\n</style>\n<table border=\"1\" class=\"dataframe\">\n  <thead>\n    <tr style=\"text-align: right;\">\n      <th></th>\n      <th>Unnamed: 0</th>\n      <th>citingPaperID</th>\n      <th>source</th>\n      <th>string</th>\n      <th>label</th>\n      <th>sentiment</th>\n    </tr>\n  </thead>\n  <tbody>\n    <tr>\n      <th>0</th>\n      <td>3923</td>\n      <td>6828a9cc19290ccd8cc99ccc678a042b00d92125&gt;26cad...</td>\n      <td>explicit</td>\n      <td>The relationship between DNA content and absor...</td>\n      <td>background</td>\n      <td>positive</td>\n    </tr>\n    <tr>\n      <th>1</th>\n      <td>4306</td>\n      <td>5cecd1d9932d3f269b1caa45d07e84e3376c3710&gt;9a0f5...</td>\n      <td>explicit</td>\n      <td>With respect to the contradicting results of o...</td>\n      <td>result</td>\n      <td>negative</td>\n    </tr>\n    <tr>\n      <th>2</th>\n      <td>4960</td>\n      <td>1890ccd4d2a4d542ba24081b593ab8060e38f101&gt;12732...</td>\n      <td>explicit</td>\n      <td>We elected to take this course because formal ...</td>\n      <td>method</td>\n      <td>neutral</td>\n    </tr>\n    <tr>\n      <th>3</th>\n      <td>6921</td>\n      <td>e2e9ce75aab15707ff3b85378b61f161c0b7886a&gt;39688...</td>\n      <td>explicit</td>\n      <td>Nuclear localization of PTOV1 is required for ...</td>\n      <td>background</td>\n      <td>neutral</td>\n    </tr>\n    <tr>\n      <th>4</th>\n      <td>3526</td>\n      <td>afe94f58975df56a9c0450c8153c2dd43d0b597b&gt;ec694...</td>\n      <td>explicit</td>\n      <td>The remaining medial portion of the bone was p...</td>\n      <td>method</td>\n      <td>neutral</td>\n    </tr>\n  </tbody>\n</table>\n</div>"
     },
     "execution_count": 5,
     "metadata": {},
     "output_type": "execute_result"
    }
   ],
   "source": [
    "d_df_annotated = pd.read_csv('annotated_D.csv')\n",
    "d_df_annotated.head()"
   ],
   "metadata": {
    "collapsed": false,
    "pycharm": {
     "name": "#%%\n"
    }
   }
  },
  {
   "cell_type": "code",
   "execution_count": null,
   "outputs": [],
   "source": [
    "# Mutual subset in DataFrame form (for adding IAA sentiment annotations)\n",
    "m_df = train_tsv.copy()\n",
    "m_df = m_df.iloc[m_index]\n",
    "m_df['sentiment_chris'] = ['']*25\n",
    "m_df['sentiment_daniel'] = ['']*25\n",
    "m_df.head()"
   ],
   "metadata": {
    "collapsed": false,
    "pycharm": {
     "name": "#%%\n"
    }
   }
  },
  {
   "cell_type": "code",
   "execution_count": 6,
   "outputs": [
    {
     "data": {
      "text/plain": "   Unnamed: 0                                      citingPaperID    source  \\\n0        7792  0244de3610992df3e77b65de794861810a673a48>89634...  explicit   \n1        3733  f98fa4590950e29e660b3d3179a7bb570ee4e132>cf4b7...  explicit   \n2        1237  bc103d96366ec97e0dd620894bbb04c8849eb772>919a7...  explicit   \n3        7052  e3450e8ca6d743f04a1ad41297ab59eeb82299b4>b5fcd...  explicit   \n4        6524  8ebd0c64a3f1833cac7b8191303ea2bbd05682b5>86fde...  explicit   \n\n                                              string       label  \\\n0  The self-report component measures interpretat...  background   \n1  The age of giant nupDNA fragment A was calcula...      method   \n2  Two representative software of this type are s...      method   \n3  How are Bcl-2 and Mcl-1 levels regulated in a ...  background   \n4  Two traits are orthogonal when, based on indiv...  background   \n\n  sentiment_chris sentiment_daniel  \n0         neutral          neutral  \n1         neutral          neutral  \n2         neutral          neutral  \n3         neutral          neutral  \n4         neutral          neutral  ",
      "text/html": "<div>\n<style scoped>\n    .dataframe tbody tr th:only-of-type {\n        vertical-align: middle;\n    }\n\n    .dataframe tbody tr th {\n        vertical-align: top;\n    }\n\n    .dataframe thead th {\n        text-align: right;\n    }\n</style>\n<table border=\"1\" class=\"dataframe\">\n  <thead>\n    <tr style=\"text-align: right;\">\n      <th></th>\n      <th>Unnamed: 0</th>\n      <th>citingPaperID</th>\n      <th>source</th>\n      <th>string</th>\n      <th>label</th>\n      <th>sentiment_chris</th>\n      <th>sentiment_daniel</th>\n    </tr>\n  </thead>\n  <tbody>\n    <tr>\n      <th>0</th>\n      <td>7792</td>\n      <td>0244de3610992df3e77b65de794861810a673a48&gt;89634...</td>\n      <td>explicit</td>\n      <td>The self-report component measures interpretat...</td>\n      <td>background</td>\n      <td>neutral</td>\n      <td>neutral</td>\n    </tr>\n    <tr>\n      <th>1</th>\n      <td>3733</td>\n      <td>f98fa4590950e29e660b3d3179a7bb570ee4e132&gt;cf4b7...</td>\n      <td>explicit</td>\n      <td>The age of giant nupDNA fragment A was calcula...</td>\n      <td>method</td>\n      <td>neutral</td>\n      <td>neutral</td>\n    </tr>\n    <tr>\n      <th>2</th>\n      <td>1237</td>\n      <td>bc103d96366ec97e0dd620894bbb04c8849eb772&gt;919a7...</td>\n      <td>explicit</td>\n      <td>Two representative software of this type are s...</td>\n      <td>method</td>\n      <td>neutral</td>\n      <td>neutral</td>\n    </tr>\n    <tr>\n      <th>3</th>\n      <td>7052</td>\n      <td>e3450e8ca6d743f04a1ad41297ab59eeb82299b4&gt;b5fcd...</td>\n      <td>explicit</td>\n      <td>How are Bcl-2 and Mcl-1 levels regulated in a ...</td>\n      <td>background</td>\n      <td>neutral</td>\n      <td>neutral</td>\n    </tr>\n    <tr>\n      <th>4</th>\n      <td>6524</td>\n      <td>8ebd0c64a3f1833cac7b8191303ea2bbd05682b5&gt;86fde...</td>\n      <td>explicit</td>\n      <td>Two traits are orthogonal when, based on indiv...</td>\n      <td>background</td>\n      <td>neutral</td>\n      <td>neutral</td>\n    </tr>\n  </tbody>\n</table>\n</div>"
     },
     "execution_count": 6,
     "metadata": {},
     "output_type": "execute_result"
    }
   ],
   "source": [
    "m_df_annotated = pd.read_csv('annotated_m.csv')\n",
    "m_df_annotated.head()"
   ],
   "metadata": {
    "collapsed": false,
    "pycharm": {
     "name": "#%%\n"
    }
   }
  },
  {
   "cell_type": "code",
   "execution_count": 9,
   "id": "efd3de41",
   "metadata": {
    "pycharm": {
     "name": "#%%\n"
    }
   },
   "outputs": [
    {
     "data": {
      "text/html": [
       "<div>\n",
       "<style scoped>\n",
       "    .dataframe tbody tr th:only-of-type {\n",
       "        vertical-align: middle;\n",
       "    }\n",
       "\n",
       "    .dataframe tbody tr th {\n",
       "        vertical-align: top;\n",
       "    }\n",
       "\n",
       "    .dataframe thead th {\n",
       "        text-align: right;\n",
       "    }\n",
       "</style>\n",
       "<table border=\"1\" class=\"dataframe\">\n",
       "  <thead>\n",
       "    <tr style=\"text-align: right;\">\n",
       "      <th></th>\n",
       "      <th>citingPaperID</th>\n",
       "      <th>source</th>\n",
       "      <th>string</th>\n",
       "      <th>label</th>\n",
       "      <th>sentiment_chris</th>\n",
       "      <th>sentiment_daniel</th>\n",
       "    </tr>\n",
       "  </thead>\n",
       "  <tbody>\n",
       "    <tr>\n",
       "      <th>7792</th>\n",
       "      <td>0244de3610992df3e77b65de794861810a673a48&gt;89634...</td>\n",
       "      <td>explicit</td>\n",
       "      <td>The self-report component measures interpretat...</td>\n",
       "      <td>background</td>\n",
       "      <td></td>\n",
       "      <td></td>\n",
       "    </tr>\n",
       "    <tr>\n",
       "      <th>3733</th>\n",
       "      <td>f98fa4590950e29e660b3d3179a7bb570ee4e132&gt;cf4b7...</td>\n",
       "      <td>explicit</td>\n",
       "      <td>The age of giant nupDNA fragment A was calcula...</td>\n",
       "      <td>method</td>\n",
       "      <td></td>\n",
       "      <td></td>\n",
       "    </tr>\n",
       "    <tr>\n",
       "      <th>1237</th>\n",
       "      <td>bc103d96366ec97e0dd620894bbb04c8849eb772&gt;919a7...</td>\n",
       "      <td>explicit</td>\n",
       "      <td>Two representative software of this type are s...</td>\n",
       "      <td>method</td>\n",
       "      <td></td>\n",
       "      <td></td>\n",
       "    </tr>\n",
       "    <tr>\n",
       "      <th>7052</th>\n",
       "      <td>e3450e8ca6d743f04a1ad41297ab59eeb82299b4&gt;b5fcd...</td>\n",
       "      <td>explicit</td>\n",
       "      <td>How are Bcl-2 and Mcl-1 levels regulated in a ...</td>\n",
       "      <td>background</td>\n",
       "      <td></td>\n",
       "      <td></td>\n",
       "    </tr>\n",
       "    <tr>\n",
       "      <th>6524</th>\n",
       "      <td>8ebd0c64a3f1833cac7b8191303ea2bbd05682b5&gt;86fde...</td>\n",
       "      <td>explicit</td>\n",
       "      <td>Two traits are orthogonal when, based on indiv...</td>\n",
       "      <td>background</td>\n",
       "      <td></td>\n",
       "      <td></td>\n",
       "    </tr>\n",
       "  </tbody>\n",
       "</table>\n",
       "</div>"
      ],
      "text/plain": [
       "                                          citingPaperID    source  \\\n",
       "7792  0244de3610992df3e77b65de794861810a673a48>89634...  explicit   \n",
       "3733  f98fa4590950e29e660b3d3179a7bb570ee4e132>cf4b7...  explicit   \n",
       "1237  bc103d96366ec97e0dd620894bbb04c8849eb772>919a7...  explicit   \n",
       "7052  e3450e8ca6d743f04a1ad41297ab59eeb82299b4>b5fcd...  explicit   \n",
       "6524  8ebd0c64a3f1833cac7b8191303ea2bbd05682b5>86fde...  explicit   \n",
       "\n",
       "                                                 string       label  \\\n",
       "7792  The self-report component measures interpretat...  background   \n",
       "3733  The age of giant nupDNA fragment A was calcula...      method   \n",
       "1237  Two representative software of this type are s...      method   \n",
       "7052  How are Bcl-2 and Mcl-1 levels regulated in a ...  background   \n",
       "6524  Two traits are orthogonal when, based on indiv...  background   \n",
       "\n",
       "     sentiment_chris sentiment_daniel  \n",
       "7792                                   \n",
       "3733                                   \n",
       "1237                                   \n",
       "7052                                   \n",
       "6524                                   "
      ]
     },
     "execution_count": 9,
     "metadata": {},
     "output_type": "execute_result"
    }
   ],
   "source": [
    "# Mutual subset in DataFrame form (for adding IAA sentiment annotations)\n",
    "m_df = train_tsv.copy()\n",
    "m_df = m_df.iloc[m_index]\n",
    "m_df['sentiment_chris'] = ['']*25\n",
    "m_df['sentiment_daniel'] = ['']*25\n",
    "m_df.head()"
   ]
  },
  {
   "cell_type": "code",
   "execution_count": 7,
   "id": "81e7b657",
   "metadata": {
    "pycharm": {
     "name": "#%%\n"
    }
   },
   "outputs": [
    {
     "data": {
      "text/plain": "   Unnamed: 0                                      citingPaperID    source  \\\n0        7792  0244de3610992df3e77b65de794861810a673a48>89634...  explicit   \n1        3733  f98fa4590950e29e660b3d3179a7bb570ee4e132>cf4b7...  explicit   \n2        1237  bc103d96366ec97e0dd620894bbb04c8849eb772>919a7...  explicit   \n3        7052  e3450e8ca6d743f04a1ad41297ab59eeb82299b4>b5fcd...  explicit   \n4        6524  8ebd0c64a3f1833cac7b8191303ea2bbd05682b5>86fde...  explicit   \n\n                                              string       label  \\\n0  The self-report component measures interpretat...  background   \n1  The age of giant nupDNA fragment A was calcula...      method   \n2  Two representative software of this type are s...      method   \n3  How are Bcl-2 and Mcl-1 levels regulated in a ...  background   \n4  Two traits are orthogonal when, based on indiv...  background   \n\n  sentiment_chris sentiment_daniel  \n0         neutral          neutral  \n1         neutral          neutral  \n2         neutral          neutral  \n3         neutral          neutral  \n4         neutral          neutral  ",
      "text/html": "<div>\n<style scoped>\n    .dataframe tbody tr th:only-of-type {\n        vertical-align: middle;\n    }\n\n    .dataframe tbody tr th {\n        vertical-align: top;\n    }\n\n    .dataframe thead th {\n        text-align: right;\n    }\n</style>\n<table border=\"1\" class=\"dataframe\">\n  <thead>\n    <tr style=\"text-align: right;\">\n      <th></th>\n      <th>Unnamed: 0</th>\n      <th>citingPaperID</th>\n      <th>source</th>\n      <th>string</th>\n      <th>label</th>\n      <th>sentiment_chris</th>\n      <th>sentiment_daniel</th>\n    </tr>\n  </thead>\n  <tbody>\n    <tr>\n      <th>0</th>\n      <td>7792</td>\n      <td>0244de3610992df3e77b65de794861810a673a48&gt;89634...</td>\n      <td>explicit</td>\n      <td>The self-report component measures interpretat...</td>\n      <td>background</td>\n      <td>neutral</td>\n      <td>neutral</td>\n    </tr>\n    <tr>\n      <th>1</th>\n      <td>3733</td>\n      <td>f98fa4590950e29e660b3d3179a7bb570ee4e132&gt;cf4b7...</td>\n      <td>explicit</td>\n      <td>The age of giant nupDNA fragment A was calcula...</td>\n      <td>method</td>\n      <td>neutral</td>\n      <td>neutral</td>\n    </tr>\n    <tr>\n      <th>2</th>\n      <td>1237</td>\n      <td>bc103d96366ec97e0dd620894bbb04c8849eb772&gt;919a7...</td>\n      <td>explicit</td>\n      <td>Two representative software of this type are s...</td>\n      <td>method</td>\n      <td>neutral</td>\n      <td>neutral</td>\n    </tr>\n    <tr>\n      <th>3</th>\n      <td>7052</td>\n      <td>e3450e8ca6d743f04a1ad41297ab59eeb82299b4&gt;b5fcd...</td>\n      <td>explicit</td>\n      <td>How are Bcl-2 and Mcl-1 levels regulated in a ...</td>\n      <td>background</td>\n      <td>neutral</td>\n      <td>neutral</td>\n    </tr>\n    <tr>\n      <th>4</th>\n      <td>6524</td>\n      <td>8ebd0c64a3f1833cac7b8191303ea2bbd05682b5&gt;86fde...</td>\n      <td>explicit</td>\n      <td>Two traits are orthogonal when, based on indiv...</td>\n      <td>background</td>\n      <td>neutral</td>\n      <td>neutral</td>\n    </tr>\n  </tbody>\n</table>\n</div>"
     },
     "execution_count": 7,
     "metadata": {},
     "output_type": "execute_result"
    }
   ],
   "source": [
    "m_df_annotated = pd.read_csv('annotated_m.csv')\n",
    "m_df_annotated.head()"
   ]
  },
  {
   "cell_type": "code",
   "execution_count": 27,
   "id": "4fa50c25",
   "metadata": {
    "pycharm": {
     "name": "#%%\n"
    }
   },
   "outputs": [],
   "source": [
    "import nltk\n",
    "from nltk.sentiment.vader import SentimentIntensityAnalyzer"
   ]
  },
  {
   "cell_type": "code",
   "execution_count": 28,
   "outputs": [
    {
     "name": "stderr",
     "output_type": "stream",
     "text": [
      "[nltk_data] Downloading package vader_lexicon to\n",
      "[nltk_data]     /home/lolai/nltk_data...\n",
      "[nltk_data]   Package vader_lexicon is already up-to-date!\n"
     ]
    },
    {
     "data": {
      "text/plain": "True"
     },
     "execution_count": 28,
     "metadata": {},
     "output_type": "execute_result"
    }
   ],
   "source": [
    "nltk.download('vader_lexicon')"
   ],
   "metadata": {
    "collapsed": false,
    "pycharm": {
     "name": "#%%\n"
    }
   }
  },
  {
   "cell_type": "code",
   "execution_count": 29,
   "outputs": [],
   "source": [
    "sid = SentimentIntensityAnalyzer"
   ],
   "metadata": {
    "collapsed": false,
    "pycharm": {
     "name": "#%%\n"
    }
   }
  },
  {
   "cell_type": "code",
   "execution_count": 23,
   "outputs": [],
   "source": [
    "m_df_annotated['pos'],m_df_annotated['neg'],m_df_annotated['neu'] = 0,0,0"
   ],
   "metadata": {
    "collapsed": false,
    "pycharm": {
     "name": "#%%\n"
    }
   }
  },
  {
   "cell_type": "code",
   "execution_count": 30,
   "outputs": [],
   "source": [
    "a=m_df_annotated['string'][0]"
   ],
   "metadata": {
    "collapsed": false,
    "pycharm": {
     "name": "#%%\n"
    }
   }
  },
  {
   "cell_type": "code",
   "execution_count": 32,
   "outputs": [
    {
     "ename": "TypeError",
     "evalue": "polarity_scores() missing 1 required positional argument: 'text'",
     "output_type": "error",
     "traceback": [
      "\u001B[0;31m---------------------------------------------------------------------------\u001B[0m",
      "\u001B[0;31mTypeError\u001B[0m                                 Traceback (most recent call last)",
      "Input \u001B[0;32mIn [32]\u001B[0m, in \u001B[0;36m<cell line: 1>\u001B[0;34m()\u001B[0m\n\u001B[0;32m----> 1\u001B[0m output \u001B[38;5;241m=\u001B[39m \u001B[43msid\u001B[49m\u001B[38;5;241;43m.\u001B[39;49m\u001B[43mpolarity_scores\u001B[49m\u001B[43m(\u001B[49m\u001B[38;5;124;43m\"\u001B[39;49m\u001B[38;5;124;43mHello there\u001B[39;49m\u001B[38;5;124;43m\"\u001B[39;49m\u001B[43m)\u001B[49m\n",
      "\u001B[0;31mTypeError\u001B[0m: polarity_scores() missing 1 required positional argument: 'text'"
     ]
    }
   ],
   "source": [
    "output = sid.polarity_scores(\"Hello there\")"
   ],
   "metadata": {
    "collapsed": false,
    "pycharm": {
     "name": "#%%\n"
    }
   }
  },
  {
   "cell_type": "code",
   "execution_count": 13,
   "outputs": [
    {
     "ename": "TypeError",
     "evalue": "polarity_scores() missing 1 required positional argument: 'text'",
     "output_type": "error",
     "traceback": [
      "\u001B[0;31m---------------------------------------------------------------------------\u001B[0m",
      "\u001B[0;31mTypeError\u001B[0m                                 Traceback (most recent call last)",
      "Input \u001B[0;32mIn [13]\u001B[0m, in \u001B[0;36m<cell line: 1>\u001B[0;34m()\u001B[0m\n\u001B[1;32m      1\u001B[0m \u001B[38;5;28;01mfor\u001B[39;00m index, row \u001B[38;5;129;01min\u001B[39;00m m_df_annotated\u001B[38;5;241m.\u001B[39miterrows():\n\u001B[0;32m----> 2\u001B[0m     output \u001B[38;5;241m=\u001B[39m \u001B[43msia\u001B[49m\u001B[38;5;241;43m.\u001B[39;49m\u001B[43mpolarity_scores\u001B[49m\u001B[43m(\u001B[49m\u001B[43mrow\u001B[49m\u001B[43m[\u001B[49m\u001B[38;5;124;43m'\u001B[39;49m\u001B[38;5;124;43mstring\u001B[39;49m\u001B[38;5;124;43m'\u001B[39;49m\u001B[43m]\u001B[49m\u001B[43m)\u001B[49m\n\u001B[1;32m      3\u001B[0m     m_df_annotated\u001B[38;5;241m.\u001B[39mat[index, \u001B[38;5;124m'\u001B[39m\u001B[38;5;124mpos\u001B[39m\u001B[38;5;124m'\u001B[39m] \u001B[38;5;241m=\u001B[39m output[\u001B[38;5;124m'\u001B[39m\u001B[38;5;124mpos\u001B[39m\u001B[38;5;124m'\u001B[39m]\n\u001B[1;32m      4\u001B[0m     m_df_annotated\u001B[38;5;241m.\u001B[39mat[index, \u001B[38;5;124m'\u001B[39m\u001B[38;5;124mneg\u001B[39m\u001B[38;5;124m'\u001B[39m] \u001B[38;5;241m=\u001B[39m output[\u001B[38;5;124m'\u001B[39m\u001B[38;5;124mneg\u001B[39m\u001B[38;5;124m'\u001B[39m]\n",
      "\u001B[0;31mTypeError\u001B[0m: polarity_scores() missing 1 required positional argument: 'text'"
     ]
    }
   ],
   "source": [
    "for index, row in m_df_annotated.iterrows():\n",
    "    output = sia.polarity_scores(row['string'])\n",
    "    m_df_annotated.at[index, 'pos'] = output['pos']\n",
    "    m_df_annotated.at[index, 'neg'] = output['neg']\n",
    "    m_df_annotated.at[index, 'neu'] = output['neu']"
   ],
   "metadata": {
    "collapsed": false,
    "pycharm": {
     "name": "#%%\n"
    }
   }
  },
  {
   "cell_type": "code",
   "execution_count": 19,
   "outputs": [
    {
     "ename": "TypeError",
     "evalue": "polarity_scores() missing 1 required positional argument: 'text'",
     "output_type": "error",
     "traceback": [
      "\u001B[0;31m---------------------------------------------------------------------------\u001B[0m",
      "\u001B[0;31mTypeError\u001B[0m                                 Traceback (most recent call last)",
      "Input \u001B[0;32mIn [19]\u001B[0m, in \u001B[0;36m<cell line: 1>\u001B[0;34m()\u001B[0m\n\u001B[0;32m----> 1\u001B[0m m_df_annotated[\u001B[38;5;124m'\u001B[39m\u001B[38;5;124msc ores\u001B[39m\u001B[38;5;124m'\u001B[39m] \u001B[38;5;241m=\u001B[39m \u001B[43mm_df_annotated\u001B[49m\u001B[43m[\u001B[49m\u001B[38;5;124;43m'\u001B[39;49m\u001B[38;5;124;43mstring\u001B[39;49m\u001B[38;5;124;43m'\u001B[39;49m\u001B[43m]\u001B[49m\u001B[38;5;241;43m.\u001B[39;49m\u001B[43mapply\u001B[49m\u001B[43m(\u001B[49m\u001B[38;5;28;43;01mlambda\u001B[39;49;00m\u001B[43m \u001B[49m\u001B[43mstring\u001B[49m\u001B[43m:\u001B[49m\u001B[43m \u001B[49m\u001B[43msia\u001B[49m\u001B[38;5;241;43m.\u001B[39;49m\u001B[43mpolarity_scores\u001B[49m\u001B[43m(\u001B[49m\u001B[43mstring\u001B[49m\u001B[43m)\u001B[49m\u001B[43m)\u001B[49m\n",
      "File \u001B[0;32m~/PycharmProjects/pythonProject/venv/lib/python3.8/site-packages/pandas/core/series.py:4433\u001B[0m, in \u001B[0;36mSeries.apply\u001B[0;34m(self, func, convert_dtype, args, **kwargs)\u001B[0m\n\u001B[1;32m   4323\u001B[0m \u001B[38;5;28;01mdef\u001B[39;00m \u001B[38;5;21mapply\u001B[39m(\n\u001B[1;32m   4324\u001B[0m     \u001B[38;5;28mself\u001B[39m,\n\u001B[1;32m   4325\u001B[0m     func: AggFuncType,\n\u001B[0;32m   (...)\u001B[0m\n\u001B[1;32m   4328\u001B[0m     \u001B[38;5;241m*\u001B[39m\u001B[38;5;241m*\u001B[39mkwargs,\n\u001B[1;32m   4329\u001B[0m ) \u001B[38;5;241m-\u001B[39m\u001B[38;5;241m>\u001B[39m DataFrame \u001B[38;5;241m|\u001B[39m Series:\n\u001B[1;32m   4330\u001B[0m     \u001B[38;5;124;03m\"\"\"\u001B[39;00m\n\u001B[1;32m   4331\u001B[0m \u001B[38;5;124;03m    Invoke function on values of Series.\u001B[39;00m\n\u001B[1;32m   4332\u001B[0m \n\u001B[0;32m   (...)\u001B[0m\n\u001B[1;32m   4431\u001B[0m \u001B[38;5;124;03m    dtype: float64\u001B[39;00m\n\u001B[1;32m   4432\u001B[0m \u001B[38;5;124;03m    \"\"\"\u001B[39;00m\n\u001B[0;32m-> 4433\u001B[0m     \u001B[38;5;28;01mreturn\u001B[39;00m \u001B[43mSeriesApply\u001B[49m\u001B[43m(\u001B[49m\u001B[38;5;28;43mself\u001B[39;49m\u001B[43m,\u001B[49m\u001B[43m \u001B[49m\u001B[43mfunc\u001B[49m\u001B[43m,\u001B[49m\u001B[43m \u001B[49m\u001B[43mconvert_dtype\u001B[49m\u001B[43m,\u001B[49m\u001B[43m \u001B[49m\u001B[43margs\u001B[49m\u001B[43m,\u001B[49m\u001B[43m \u001B[49m\u001B[43mkwargs\u001B[49m\u001B[43m)\u001B[49m\u001B[38;5;241;43m.\u001B[39;49m\u001B[43mapply\u001B[49m\u001B[43m(\u001B[49m\u001B[43m)\u001B[49m\n",
      "File \u001B[0;32m~/PycharmProjects/pythonProject/venv/lib/python3.8/site-packages/pandas/core/apply.py:1082\u001B[0m, in \u001B[0;36mSeriesApply.apply\u001B[0;34m(self)\u001B[0m\n\u001B[1;32m   1078\u001B[0m \u001B[38;5;28;01mif\u001B[39;00m \u001B[38;5;28misinstance\u001B[39m(\u001B[38;5;28mself\u001B[39m\u001B[38;5;241m.\u001B[39mf, \u001B[38;5;28mstr\u001B[39m):\n\u001B[1;32m   1079\u001B[0m     \u001B[38;5;66;03m# if we are a string, try to dispatch\u001B[39;00m\n\u001B[1;32m   1080\u001B[0m     \u001B[38;5;28;01mreturn\u001B[39;00m \u001B[38;5;28mself\u001B[39m\u001B[38;5;241m.\u001B[39mapply_str()\n\u001B[0;32m-> 1082\u001B[0m \u001B[38;5;28;01mreturn\u001B[39;00m \u001B[38;5;28;43mself\u001B[39;49m\u001B[38;5;241;43m.\u001B[39;49m\u001B[43mapply_standard\u001B[49m\u001B[43m(\u001B[49m\u001B[43m)\u001B[49m\n",
      "File \u001B[0;32m~/PycharmProjects/pythonProject/venv/lib/python3.8/site-packages/pandas/core/apply.py:1137\u001B[0m, in \u001B[0;36mSeriesApply.apply_standard\u001B[0;34m(self)\u001B[0m\n\u001B[1;32m   1131\u001B[0m         values \u001B[38;5;241m=\u001B[39m obj\u001B[38;5;241m.\u001B[39mastype(\u001B[38;5;28mobject\u001B[39m)\u001B[38;5;241m.\u001B[39m_values\n\u001B[1;32m   1132\u001B[0m         \u001B[38;5;66;03m# error: Argument 2 to \"map_infer\" has incompatible type\u001B[39;00m\n\u001B[1;32m   1133\u001B[0m         \u001B[38;5;66;03m# \"Union[Callable[..., Any], str, List[Union[Callable[..., Any], str]],\u001B[39;00m\n\u001B[1;32m   1134\u001B[0m         \u001B[38;5;66;03m# Dict[Hashable, Union[Union[Callable[..., Any], str],\u001B[39;00m\n\u001B[1;32m   1135\u001B[0m         \u001B[38;5;66;03m# List[Union[Callable[..., Any], str]]]]]\"; expected\u001B[39;00m\n\u001B[1;32m   1136\u001B[0m         \u001B[38;5;66;03m# \"Callable[[Any], Any]\"\u001B[39;00m\n\u001B[0;32m-> 1137\u001B[0m         mapped \u001B[38;5;241m=\u001B[39m \u001B[43mlib\u001B[49m\u001B[38;5;241;43m.\u001B[39;49m\u001B[43mmap_infer\u001B[49m\u001B[43m(\u001B[49m\n\u001B[1;32m   1138\u001B[0m \u001B[43m            \u001B[49m\u001B[43mvalues\u001B[49m\u001B[43m,\u001B[49m\n\u001B[1;32m   1139\u001B[0m \u001B[43m            \u001B[49m\u001B[43mf\u001B[49m\u001B[43m,\u001B[49m\u001B[43m  \u001B[49m\u001B[38;5;66;43;03m# type: ignore[arg-type]\u001B[39;49;00m\n\u001B[1;32m   1140\u001B[0m \u001B[43m            \u001B[49m\u001B[43mconvert\u001B[49m\u001B[38;5;241;43m=\u001B[39;49m\u001B[38;5;28;43mself\u001B[39;49m\u001B[38;5;241;43m.\u001B[39;49m\u001B[43mconvert_dtype\u001B[49m\u001B[43m,\u001B[49m\n\u001B[1;32m   1141\u001B[0m \u001B[43m        \u001B[49m\u001B[43m)\u001B[49m\n\u001B[1;32m   1143\u001B[0m \u001B[38;5;28;01mif\u001B[39;00m \u001B[38;5;28mlen\u001B[39m(mapped) \u001B[38;5;129;01mand\u001B[39;00m \u001B[38;5;28misinstance\u001B[39m(mapped[\u001B[38;5;241m0\u001B[39m], ABCSeries):\n\u001B[1;32m   1144\u001B[0m     \u001B[38;5;66;03m# GH#43986 Need to do list(mapped) in order to get treated as nested\u001B[39;00m\n\u001B[1;32m   1145\u001B[0m     \u001B[38;5;66;03m#  See also GH#25959 regarding EA support\u001B[39;00m\n\u001B[1;32m   1146\u001B[0m     \u001B[38;5;28;01mreturn\u001B[39;00m obj\u001B[38;5;241m.\u001B[39m_constructor_expanddim(\u001B[38;5;28mlist\u001B[39m(mapped), index\u001B[38;5;241m=\u001B[39mobj\u001B[38;5;241m.\u001B[39mindex)\n",
      "File \u001B[0;32m~/PycharmProjects/pythonProject/venv/lib/python3.8/site-packages/pandas/_libs/lib.pyx:2870\u001B[0m, in \u001B[0;36mpandas._libs.lib.map_infer\u001B[0;34m()\u001B[0m\n",
      "Input \u001B[0;32mIn [19]\u001B[0m, in \u001B[0;36m<lambda>\u001B[0;34m(string)\u001B[0m\n\u001B[0;32m----> 1\u001B[0m m_df_annotated[\u001B[38;5;124m'\u001B[39m\u001B[38;5;124msc ores\u001B[39m\u001B[38;5;124m'\u001B[39m] \u001B[38;5;241m=\u001B[39m m_df_annotated[\u001B[38;5;124m'\u001B[39m\u001B[38;5;124mstring\u001B[39m\u001B[38;5;124m'\u001B[39m]\u001B[38;5;241m.\u001B[39mapply(\u001B[38;5;28;01mlambda\u001B[39;00m string: \u001B[43msia\u001B[49m\u001B[38;5;241;43m.\u001B[39;49m\u001B[43mpolarity_scores\u001B[49m\u001B[43m(\u001B[49m\u001B[43mstring\u001B[49m\u001B[43m)\u001B[49m)\n",
      "\u001B[0;31mTypeError\u001B[0m: polarity_scores() missing 1 required positional argument: 'text'"
     ]
    }
   ],
   "source": [
    "m_df_annotated['sc ores'] = m_df_annotated['string'].apply(lambda string: sia.polarity_scores(string))\n"
   ],
   "metadata": {
    "collapsed": false,
    "pycharm": {
     "name": "#%%\n"
    }
   }
  }
 ],
 "metadata": {
  "kernelspec": {
   "display_name": "Python 3 (ipykernel)",
   "language": "python",
   "name": "python3"
  },
  "language_info": {
   "codemirror_mode": {
    "name": "ipython",
    "version": 3
   },
   "file_extension": ".py",
   "mimetype": "text/x-python",
   "name": "python",
   "nbconvert_exporter": "python",
   "pygments_lexer": "ipython3",
   "version": "3.9.7"
  }
 },
 "nbformat": 4,
 "nbformat_minor": 5
}