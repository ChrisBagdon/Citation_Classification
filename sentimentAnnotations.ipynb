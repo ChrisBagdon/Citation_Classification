{
 "cells": [
  {
   "cell_type": "code",
   "execution_count": 1,
   "id": "d7a6ed2d",
   "metadata": {
    "pycharm": {
     "name": "#%%\n"
    }
   },
   "outputs": [],
   "source": [
    "import numpy as np\n",
    "import pandas as pd"
   ]
  },
  {
   "cell_type": "code",
   "execution_count": 2,
   "id": "f300bf58",
   "metadata": {
    "pycharm": {
     "name": "#%%\n"
    }
   },
   "outputs": [
    {
     "data": {
      "text/plain": "                                       citingPaperID    source  \\\n0  1872080baa7d30ec8fb87be9a65358cd3a7fb649>894be...  explicit   \n1  ce1d09a4a3a8d7fd3405b9328f65f00c952cf64b>b6642...  explicit   \n2  9cdf605beb1aa1078f235c4332b3024daa8b31dc>4e6a1...  explicit   \n3  d9f3207db0c79a3b154f3875c9760cc6b056904b>2cc6f...  explicit   \n4  88b86556857f4374842d2af2e359576806239175>a5bb0...  explicit   \n\n                                              string       label  \n0  However, how frataxin interacts with the Fe-S ...  background  \n1  In the study by Hickey et al. (2012), spikes w...  background  \n2  The drug also reduces catecholamine secretion,...  background  \n3  By clustering with lowly aggressive close kin ...  background  \n4  Ophthalmic symptoms are rare manifestations of...  background  ",
      "text/html": "<div>\n<style scoped>\n    .dataframe tbody tr th:only-of-type {\n        vertical-align: middle;\n    }\n\n    .dataframe tbody tr th {\n        vertical-align: top;\n    }\n\n    .dataframe thead th {\n        text-align: right;\n    }\n</style>\n<table border=\"1\" class=\"dataframe\">\n  <thead>\n    <tr style=\"text-align: right;\">\n      <th></th>\n      <th>citingPaperID</th>\n      <th>source</th>\n      <th>string</th>\n      <th>label</th>\n    </tr>\n  </thead>\n  <tbody>\n    <tr>\n      <th>0</th>\n      <td>1872080baa7d30ec8fb87be9a65358cd3a7fb649&gt;894be...</td>\n      <td>explicit</td>\n      <td>However, how frataxin interacts with the Fe-S ...</td>\n      <td>background</td>\n    </tr>\n    <tr>\n      <th>1</th>\n      <td>ce1d09a4a3a8d7fd3405b9328f65f00c952cf64b&gt;b6642...</td>\n      <td>explicit</td>\n      <td>In the study by Hickey et al. (2012), spikes w...</td>\n      <td>background</td>\n    </tr>\n    <tr>\n      <th>2</th>\n      <td>9cdf605beb1aa1078f235c4332b3024daa8b31dc&gt;4e6a1...</td>\n      <td>explicit</td>\n      <td>The drug also reduces catecholamine secretion,...</td>\n      <td>background</td>\n    </tr>\n    <tr>\n      <th>3</th>\n      <td>d9f3207db0c79a3b154f3875c9760cc6b056904b&gt;2cc6f...</td>\n      <td>explicit</td>\n      <td>By clustering with lowly aggressive close kin ...</td>\n      <td>background</td>\n    </tr>\n    <tr>\n      <th>4</th>\n      <td>88b86556857f4374842d2af2e359576806239175&gt;a5bb0...</td>\n      <td>explicit</td>\n      <td>Ophthalmic symptoms are rare manifestations of...</td>\n      <td>background</td>\n    </tr>\n  </tbody>\n</table>\n</div>"
     },
     "execution_count": 2,
     "metadata": {},
     "output_type": "execute_result"
    }
   ],
   "source": [
    "### Read in training dataset (TSV)\n",
    "# Filepath will be different; set to repo's filepath when we add the corpus files\n",
    "train_tsv = pd.read_csv('scicite/tsv/train.tsv', sep='\\t', \n",
    "                       names=[\"citingPaperID\", \"source\", \"string\", \"label\"]\n",
    "                       )\n",
    "train_tsv.head()"
   ]
  },
  {
   "cell_type": "code",
   "execution_count": 3,
   "id": "3aeb91a4",
   "metadata": {
    "pycharm": {
     "name": "#%%\n"
    }
   },
   "outputs": [],
   "source": [
    "### Getting samples of the data for sentiment annotating\n",
    "train_sentiment = train_tsv.copy()\n",
    "\n",
    "# Chris' subset\n",
    "c_sample = train_sentiment['string'].sample(n=50, random_state=1)\n",
    "c_index = list(c_sample.index)\n",
    "\n",
    "train_sentiment = train_sentiment.drop(c_index)\n",
    "\n",
    "# Daniel's subset\n",
    "d_sample = train_sentiment['string'].sample(n=50, random_state=1)\n",
    "d_index = list(d_sample.index)\n",
    "\n",
    "train_sentiment = train_sentiment.drop(d_index)\n",
    "\n",
    "# Mutual subset (for IAA score)\n",
    "m_sample = train_sentiment['string'].sample(n=25, random_state=1)\n",
    "m_index = list(m_sample.index)"
   ]
  },
  {
   "cell_type": "code",
   "execution_count": 4,
   "id": "38795302",
   "metadata": {
    "pycharm": {
     "name": "#%%\n"
    }
   },
   "outputs": [
    {
     "data": {
      "text/html": [
       "<div>\n",
       "<style scoped>\n",
       "    .dataframe tbody tr th:only-of-type {\n",
       "        vertical-align: middle;\n",
       "    }\n",
       "\n",
       "    .dataframe tbody tr th {\n",
       "        vertical-align: top;\n",
       "    }\n",
       "\n",
       "    .dataframe thead th {\n",
       "        text-align: right;\n",
       "    }\n",
       "</style>\n",
       "<table border=\"1\" class=\"dataframe\">\n",
       "  <thead>\n",
       "    <tr style=\"text-align: right;\">\n",
       "      <th></th>\n",
       "      <th>citingPaperID</th>\n",
       "      <th>source</th>\n",
       "      <th>string</th>\n",
       "      <th>label</th>\n",
       "      <th>sentiment</th>\n",
       "    </tr>\n",
       "  </thead>\n",
       "  <tbody>\n",
       "    <tr>\n",
       "      <th>2305</th>\n",
       "      <td>f6e7d88342d23cdc6dc959b16106b6bb05fa807a&gt;0fee7...</td>\n",
       "      <td>explicit</td>\n",
       "      <td>Utilizing gain-offunction assays, we demonstra...</td>\n",
       "      <td>method</td>\n",
       "      <td></td>\n",
       "    </tr>\n",
       "    <tr>\n",
       "      <th>3210</th>\n",
       "      <td>51439b498621806aa3a915fdbd4aa983473da397&gt;6eb72...</td>\n",
       "      <td>explicit</td>\n",
       "      <td>maticity, refractoriness and conduction of the...</td>\n",
       "      <td>background</td>\n",
       "      <td></td>\n",
       "    </tr>\n",
       "    <tr>\n",
       "      <th>4484</th>\n",
       "      <td>64cf98067d1cadda174e5ffa24fc45a6b3e6426f&gt;2d04a...</td>\n",
       "      <td>explicit</td>\n",
       "      <td>For reovirus 1/L-induced ARDS, at day 9 postin...</td>\n",
       "      <td>background</td>\n",
       "      <td></td>\n",
       "    </tr>\n",
       "    <tr>\n",
       "      <th>5821</th>\n",
       "      <td>9b6d433ab5104713ee41fbeb24b4d0f2b82fe587&gt;95158...</td>\n",
       "      <td>explicit</td>\n",
       "      <td>Besides that, no ameliorate impacts have been ...</td>\n",
       "      <td>background</td>\n",
       "      <td></td>\n",
       "    </tr>\n",
       "    <tr>\n",
       "      <th>3514</th>\n",
       "      <td>15ac5bcd9ca900dc948e969558670084e3d560e0&gt;5297c...</td>\n",
       "      <td>explicit</td>\n",
       "      <td>However, limited information is available abou...</td>\n",
       "      <td>background</td>\n",
       "      <td></td>\n",
       "    </tr>\n",
       "  </tbody>\n",
       "</table>\n",
       "</div>"
      ],
      "text/plain": [
       "                                          citingPaperID    source  \\\n",
       "2305  f6e7d88342d23cdc6dc959b16106b6bb05fa807a>0fee7...  explicit   \n",
       "3210  51439b498621806aa3a915fdbd4aa983473da397>6eb72...  explicit   \n",
       "4484  64cf98067d1cadda174e5ffa24fc45a6b3e6426f>2d04a...  explicit   \n",
       "5821  9b6d433ab5104713ee41fbeb24b4d0f2b82fe587>95158...  explicit   \n",
       "3514  15ac5bcd9ca900dc948e969558670084e3d560e0>5297c...  explicit   \n",
       "\n",
       "                                                 string       label sentiment  \n",
       "2305  Utilizing gain-offunction assays, we demonstra...      method            \n",
       "3210  maticity, refractoriness and conduction of the...  background            \n",
       "4484  For reovirus 1/L-induced ARDS, at day 9 postin...  background            \n",
       "5821  Besides that, no ameliorate impacts have been ...  background            \n",
       "3514  However, limited information is available abou...  background            "
      ]
     },
     "execution_count": 4,
     "metadata": {},
     "output_type": "execute_result"
    }
   ],
   "source": [
    "# Chris' subset in DataFrame form (for adding a sentiment column/feature)\n",
    "c_df = train_tsv.copy()\n",
    "c_df = c_df.iloc[c_index]\n",
    "c_df['sentiment'] = ['']*50\n",
    "c_df.head()"
   ]
  },
  {
   "cell_type": "code",
   "execution_count": 3,
   "id": "3c378edc",
   "metadata": {
    "pycharm": {
     "name": "#%%\n"
    }
   },
   "outputs": [
    {
     "ename": "NameError",
     "evalue": "name 'c_df' is not defined",
     "output_type": "error",
     "traceback": [
      "\u001B[0;31m---------------------------------------------------------------------------\u001B[0m",
      "\u001B[0;31mNameError\u001B[0m                                 Traceback (most recent call last)",
      "Input \u001B[0;32mIn [3]\u001B[0m, in \u001B[0;36m<cell line: 1>\u001B[0;34m()\u001B[0m\n\u001B[0;32m----> 1\u001B[0m \u001B[43mc_df\u001B[49m\u001B[38;5;241m.\u001B[39mto_csv(\u001B[38;5;124m'\u001B[39m\u001B[38;5;124mannotation_C.csv\u001B[39m\u001B[38;5;124m'\u001B[39m)\n",
      "\u001B[0;31mNameError\u001B[0m: name 'c_df' is not defined"
     ]
    }
   ],
   "source": [
    "c_df.to_csv('annotation_C.csv')"
   ]
  },
  {
   "cell_type": "code",
   "execution_count": 4,
   "id": "06080e17",
   "metadata": {
    "pycharm": {
     "name": "#%%\n"
    }
   },
   "outputs": [
    {
     "data": {
      "text/plain": "   Unnamed: 0                                      citingPaperID    source  \\\n0        2305  f6e7d88342d23cdc6dc959b16106b6bb05fa807a>0fee7...  explicit   \n1        3210  51439b498621806aa3a915fdbd4aa983473da397>6eb72...  explicit   \n2        4484  64cf98067d1cadda174e5ffa24fc45a6b3e6426f>2d04a...  explicit   \n3        5821  9b6d433ab5104713ee41fbeb24b4d0f2b82fe587>95158...  explicit   \n4        3514  15ac5bcd9ca900dc948e969558670084e3d560e0>5297c...  explicit   \n\n                                              string       label sentiment  \n0  Utilizing gain-offunction assays, we demonstra...      method  positive  \n1  maticity, refractoriness and conduction of the...  background   neutral  \n2  For reovirus 1/L-induced ARDS, at day 9 postin...  background   neutral  \n3  Besides that, no ameliorate impacts have been ...  background  negative  \n4  However, limited information is available abou...  background  negative  ",
      "text/html": "<div>\n<style scoped>\n    .dataframe tbody tr th:only-of-type {\n        vertical-align: middle;\n    }\n\n    .dataframe tbody tr th {\n        vertical-align: top;\n    }\n\n    .dataframe thead th {\n        text-align: right;\n    }\n</style>\n<table border=\"1\" class=\"dataframe\">\n  <thead>\n    <tr style=\"text-align: right;\">\n      <th></th>\n      <th>Unnamed: 0</th>\n      <th>citingPaperID</th>\n      <th>source</th>\n      <th>string</th>\n      <th>label</th>\n      <th>sentiment</th>\n    </tr>\n  </thead>\n  <tbody>\n    <tr>\n      <th>0</th>\n      <td>2305</td>\n      <td>f6e7d88342d23cdc6dc959b16106b6bb05fa807a&gt;0fee7...</td>\n      <td>explicit</td>\n      <td>Utilizing gain-offunction assays, we demonstra...</td>\n      <td>method</td>\n      <td>positive</td>\n    </tr>\n    <tr>\n      <th>1</th>\n      <td>3210</td>\n      <td>51439b498621806aa3a915fdbd4aa983473da397&gt;6eb72...</td>\n      <td>explicit</td>\n      <td>maticity, refractoriness and conduction of the...</td>\n      <td>background</td>\n      <td>neutral</td>\n    </tr>\n    <tr>\n      <th>2</th>\n      <td>4484</td>\n      <td>64cf98067d1cadda174e5ffa24fc45a6b3e6426f&gt;2d04a...</td>\n      <td>explicit</td>\n      <td>For reovirus 1/L-induced ARDS, at day 9 postin...</td>\n      <td>background</td>\n      <td>neutral</td>\n    </tr>\n    <tr>\n      <th>3</th>\n      <td>5821</td>\n      <td>9b6d433ab5104713ee41fbeb24b4d0f2b82fe587&gt;95158...</td>\n      <td>explicit</td>\n      <td>Besides that, no ameliorate impacts have been ...</td>\n      <td>background</td>\n      <td>negative</td>\n    </tr>\n    <tr>\n      <th>4</th>\n      <td>3514</td>\n      <td>15ac5bcd9ca900dc948e969558670084e3d560e0&gt;5297c...</td>\n      <td>explicit</td>\n      <td>However, limited information is available abou...</td>\n      <td>background</td>\n      <td>negative</td>\n    </tr>\n  </tbody>\n</table>\n</div>"
     },
     "execution_count": 4,
     "metadata": {},
     "output_type": "execute_result"
    }
   ],
   "source": [
    "c_df_annotated = pd.read_csv('annotated_C.csv')\n",
    "c_df_annotated.head()"
   ]
  },
  {
   "cell_type": "code",
   "execution_count": 5,
   "id": "cb8a25ea",
   "metadata": {
    "pycharm": {
     "name": "#%%\n"
    }
   },
   "outputs": [
    {
     "data": {
      "text/html": [
       "<div>\n",
       "<style scoped>\n",
       "    .dataframe tbody tr th:only-of-type {\n",
       "        vertical-align: middle;\n",
       "    }\n",
       "\n",
       "    .dataframe tbody tr th {\n",
       "        vertical-align: top;\n",
       "    }\n",
       "\n",
       "    .dataframe thead th {\n",
       "        text-align: right;\n",
       "    }\n",
       "</style>\n",
       "<table border=\"1\" class=\"dataframe\">\n",
       "  <thead>\n",
       "    <tr style=\"text-align: right;\">\n",
       "      <th></th>\n",
       "      <th>citingPaperID</th>\n",
       "      <th>source</th>\n",
       "      <th>string</th>\n",
       "      <th>label</th>\n",
       "      <th>sentiment</th>\n",
       "    </tr>\n",
       "  </thead>\n",
       "  <tbody>\n",
       "    <tr>\n",
       "      <th>3923</th>\n",
       "      <td>6828a9cc19290ccd8cc99ccc678a042b00d92125&gt;26cad...</td>\n",
       "      <td>explicit</td>\n",
       "      <td>The relationship between DNA content and absor...</td>\n",
       "      <td>background</td>\n",
       "      <td></td>\n",
       "    </tr>\n",
       "    <tr>\n",
       "      <th>4306</th>\n",
       "      <td>5cecd1d9932d3f269b1caa45d07e84e3376c3710&gt;9a0f5...</td>\n",
       "      <td>explicit</td>\n",
       "      <td>With respect to the contradicting results of o...</td>\n",
       "      <td>result</td>\n",
       "      <td></td>\n",
       "    </tr>\n",
       "    <tr>\n",
       "      <th>4960</th>\n",
       "      <td>1890ccd4d2a4d542ba24081b593ab8060e38f101&gt;12732...</td>\n",
       "      <td>explicit</td>\n",
       "      <td>We elected to take this course because formal ...</td>\n",
       "      <td>method</td>\n",
       "      <td></td>\n",
       "    </tr>\n",
       "    <tr>\n",
       "      <th>6921</th>\n",
       "      <td>e2e9ce75aab15707ff3b85378b61f161c0b7886a&gt;39688...</td>\n",
       "      <td>explicit</td>\n",
       "      <td>Nuclear localization of PTOV1 is required for ...</td>\n",
       "      <td>background</td>\n",
       "      <td></td>\n",
       "    </tr>\n",
       "    <tr>\n",
       "      <th>3526</th>\n",
       "      <td>afe94f58975df56a9c0450c8153c2dd43d0b597b&gt;ec694...</td>\n",
       "      <td>explicit</td>\n",
       "      <td>The remaining medial portion of the bone was p...</td>\n",
       "      <td>method</td>\n",
       "      <td></td>\n",
       "    </tr>\n",
       "  </tbody>\n",
       "</table>\n",
       "</div>"
      ],
      "text/plain": [
       "                                          citingPaperID    source  \\\n",
       "3923  6828a9cc19290ccd8cc99ccc678a042b00d92125>26cad...  explicit   \n",
       "4306  5cecd1d9932d3f269b1caa45d07e84e3376c3710>9a0f5...  explicit   \n",
       "4960  1890ccd4d2a4d542ba24081b593ab8060e38f101>12732...  explicit   \n",
       "6921  e2e9ce75aab15707ff3b85378b61f161c0b7886a>39688...  explicit   \n",
       "3526  afe94f58975df56a9c0450c8153c2dd43d0b597b>ec694...  explicit   \n",
       "\n",
       "                                                 string       label sentiment  \n",
       "3923  The relationship between DNA content and absor...  background            \n",
       "4306  With respect to the contradicting results of o...      result            \n",
       "4960  We elected to take this course because formal ...      method            \n",
       "6921  Nuclear localization of PTOV1 is required for ...  background            \n",
       "3526  The remaining medial portion of the bone was p...      method            "
      ]
     },
     "execution_count": 5,
     "metadata": {},
     "output_type": "execute_result"
    }
   ],
   "source": [
    "# Daniel's subset in DataFrame form (for adding a sentiment column/feature)\n",
    "d_df = train_tsv.copy()\n",
    "d_df = d_df.iloc[d_index]\n",
    "d_df['sentiment'] = ['']*50\n",
    "d_df.head()"
   ]
  },
  {
   "cell_type": "code",
   "execution_count": null,
   "outputs": [],
   "source": [
    "d_df.to_csv('annotation_D.csv')"
   ],
   "metadata": {
    "collapsed": false,
    "pycharm": {
     "name": "#%%\n"
    }
   }
  },
  {
   "cell_type": "code",
   "execution_count": 5,
   "outputs": [
    {
     "data": {
      "text/plain": "   Unnamed: 0                                      citingPaperID    source  \\\n0        3923  6828a9cc19290ccd8cc99ccc678a042b00d92125>26cad...  explicit   \n1        4306  5cecd1d9932d3f269b1caa45d07e84e3376c3710>9a0f5...  explicit   \n2        4960  1890ccd4d2a4d542ba24081b593ab8060e38f101>12732...  explicit   \n3        6921  e2e9ce75aab15707ff3b85378b61f161c0b7886a>39688...  explicit   \n4        3526  afe94f58975df56a9c0450c8153c2dd43d0b597b>ec694...  explicit   \n\n                                              string       label sentiment  \n0  The relationship between DNA content and absor...  background  positive  \n1  With respect to the contradicting results of o...      result  negative  \n2  We elected to take this course because formal ...      method   neutral  \n3  Nuclear localization of PTOV1 is required for ...  background   neutral  \n4  The remaining medial portion of the bone was p...      method   neutral  ",
      "text/html": "<div>\n<style scoped>\n    .dataframe tbody tr th:only-of-type {\n        vertical-align: middle;\n    }\n\n    .dataframe tbody tr th {\n        vertical-align: top;\n    }\n\n    .dataframe thead th {\n        text-align: right;\n    }\n</style>\n<table border=\"1\" class=\"dataframe\">\n  <thead>\n    <tr style=\"text-align: right;\">\n      <th></th>\n      <th>Unnamed: 0</th>\n      <th>citingPaperID</th>\n      <th>source</th>\n      <th>string</th>\n      <th>label</th>\n      <th>sentiment</th>\n    </tr>\n  </thead>\n  <tbody>\n    <tr>\n      <th>0</th>\n      <td>3923</td>\n      <td>6828a9cc19290ccd8cc99ccc678a042b00d92125&gt;26cad...</td>\n      <td>explicit</td>\n      <td>The relationship between DNA content and absor...</td>\n      <td>background</td>\n      <td>positive</td>\n    </tr>\n    <tr>\n      <th>1</th>\n      <td>4306</td>\n      <td>5cecd1d9932d3f269b1caa45d07e84e3376c3710&gt;9a0f5...</td>\n      <td>explicit</td>\n      <td>With respect to the contradicting results of o...</td>\n      <td>result</td>\n      <td>negative</td>\n    </tr>\n    <tr>\n      <th>2</th>\n      <td>4960</td>\n      <td>1890ccd4d2a4d542ba24081b593ab8060e38f101&gt;12732...</td>\n      <td>explicit</td>\n      <td>We elected to take this course because formal ...</td>\n      <td>method</td>\n      <td>neutral</td>\n    </tr>\n    <tr>\n      <th>3</th>\n      <td>6921</td>\n      <td>e2e9ce75aab15707ff3b85378b61f161c0b7886a&gt;39688...</td>\n      <td>explicit</td>\n      <td>Nuclear localization of PTOV1 is required for ...</td>\n      <td>background</td>\n      <td>neutral</td>\n    </tr>\n    <tr>\n      <th>4</th>\n      <td>3526</td>\n      <td>afe94f58975df56a9c0450c8153c2dd43d0b597b&gt;ec694...</td>\n      <td>explicit</td>\n      <td>The remaining medial portion of the bone was p...</td>\n      <td>method</td>\n      <td>neutral</td>\n    </tr>\n  </tbody>\n</table>\n</div>"
     },
     "execution_count": 5,
     "metadata": {},
     "output_type": "execute_result"
    }
   ],
   "source": [
    "d_df_annotated = pd.read_csv('annotated_D.csv')\n",
    "d_df_annotated.head()"
   ],
   "metadata": {
    "collapsed": false,
    "pycharm": {
     "name": "#%%\n"
    }
   }
  },
  {
   "cell_type": "code",
   "execution_count": null,
   "outputs": [],
   "source": [
    "# Mutual subset in DataFrame form (for adding IAA sentiment annotations)\n",
    "m_df = train_tsv.copy()\n",
    "m_df = m_df.iloc[m_index]\n",
    "m_df['sentiment_chris'] = ['']*25\n",
    "m_df['sentiment_daniel'] = ['']*25\n",
    "m_df.head()"
   ],
   "metadata": {
    "collapsed": false,
    "pycharm": {
     "name": "#%%\n"
    }
   }
  },
  {
   "cell_type": "code",
   "execution_count": 2,
   "outputs": [
    {
     "data": {
      "text/plain": "   Unnamed: 0                                      citingPaperID    source  \\\n0        7792  0244de3610992df3e77b65de794861810a673a48>89634...  explicit   \n1        3733  f98fa4590950e29e660b3d3179a7bb570ee4e132>cf4b7...  explicit   \n2        1237  bc103d96366ec97e0dd620894bbb04c8849eb772>919a7...  explicit   \n3        7052  e3450e8ca6d743f04a1ad41297ab59eeb82299b4>b5fcd...  explicit   \n4        6524  8ebd0c64a3f1833cac7b8191303ea2bbd05682b5>86fde...  explicit   \n\n                                              string       label  \\\n0  The self-report component measures interpretat...  background   \n1  The age of giant nupDNA fragment A was calcula...      method   \n2  Two representative software of this type are s...      method   \n3  How are Bcl-2 and Mcl-1 levels regulated in a ...  background   \n4  Two traits are orthogonal when, based on indiv...  background   \n\n  sentiment_chris sentiment_daniel  \n0         neutral          neutral  \n1         neutral          neutral  \n2         neutral          neutral  \n3         neutral          neutral  \n4         neutral          neutral  ",
      "text/html": "<div>\n<style scoped>\n    .dataframe tbody tr th:only-of-type {\n        vertical-align: middle;\n    }\n\n    .dataframe tbody tr th {\n        vertical-align: top;\n    }\n\n    .dataframe thead th {\n        text-align: right;\n    }\n</style>\n<table border=\"1\" class=\"dataframe\">\n  <thead>\n    <tr style=\"text-align: right;\">\n      <th></th>\n      <th>Unnamed: 0</th>\n      <th>citingPaperID</th>\n      <th>source</th>\n      <th>string</th>\n      <th>label</th>\n      <th>sentiment_chris</th>\n      <th>sentiment_daniel</th>\n    </tr>\n  </thead>\n  <tbody>\n    <tr>\n      <th>0</th>\n      <td>7792</td>\n      <td>0244de3610992df3e77b65de794861810a673a48&gt;89634...</td>\n      <td>explicit</td>\n      <td>The self-report component measures interpretat...</td>\n      <td>background</td>\n      <td>neutral</td>\n      <td>neutral</td>\n    </tr>\n    <tr>\n      <th>1</th>\n      <td>3733</td>\n      <td>f98fa4590950e29e660b3d3179a7bb570ee4e132&gt;cf4b7...</td>\n      <td>explicit</td>\n      <td>The age of giant nupDNA fragment A was calcula...</td>\n      <td>method</td>\n      <td>neutral</td>\n      <td>neutral</td>\n    </tr>\n    <tr>\n      <th>2</th>\n      <td>1237</td>\n      <td>bc103d96366ec97e0dd620894bbb04c8849eb772&gt;919a7...</td>\n      <td>explicit</td>\n      <td>Two representative software of this type are s...</td>\n      <td>method</td>\n      <td>neutral</td>\n      <td>neutral</td>\n    </tr>\n    <tr>\n      <th>3</th>\n      <td>7052</td>\n      <td>e3450e8ca6d743f04a1ad41297ab59eeb82299b4&gt;b5fcd...</td>\n      <td>explicit</td>\n      <td>How are Bcl-2 and Mcl-1 levels regulated in a ...</td>\n      <td>background</td>\n      <td>neutral</td>\n      <td>neutral</td>\n    </tr>\n    <tr>\n      <th>4</th>\n      <td>6524</td>\n      <td>8ebd0c64a3f1833cac7b8191303ea2bbd05682b5&gt;86fde...</td>\n      <td>explicit</td>\n      <td>Two traits are orthogonal when, based on indiv...</td>\n      <td>background</td>\n      <td>neutral</td>\n      <td>neutral</td>\n    </tr>\n  </tbody>\n</table>\n</div>"
     },
     "execution_count": 2,
     "metadata": {},
     "output_type": "execute_result"
    }
   ],
   "source": [
    "m_df_annotated = pd.read_csv('annotated_m.csv')\n",
    "m_df_annotated.head()"
   ],
   "metadata": {
    "collapsed": false,
    "pycharm": {
     "name": "#%%\n"
    }
   }
  },
  {
   "cell_type": "code",
   "execution_count": 9,
   "id": "efd3de41",
   "metadata": {
    "pycharm": {
     "name": "#%%\n"
    }
   },
   "outputs": [
    {
     "data": {
      "text/html": [
       "<div>\n",
       "<style scoped>\n",
       "    .dataframe tbody tr th:only-of-type {\n",
       "        vertical-align: middle;\n",
       "    }\n",
       "\n",
       "    .dataframe tbody tr th {\n",
       "        vertical-align: top;\n",
       "    }\n",
       "\n",
       "    .dataframe thead th {\n",
       "        text-align: right;\n",
       "    }\n",
       "</style>\n",
       "<table border=\"1\" class=\"dataframe\">\n",
       "  <thead>\n",
       "    <tr style=\"text-align: right;\">\n",
       "      <th></th>\n",
       "      <th>citingPaperID</th>\n",
       "      <th>source</th>\n",
       "      <th>string</th>\n",
       "      <th>label</th>\n",
       "      <th>sentiment_chris</th>\n",
       "      <th>sentiment_daniel</th>\n",
       "    </tr>\n",
       "  </thead>\n",
       "  <tbody>\n",
       "    <tr>\n",
       "      <th>7792</th>\n",
       "      <td>0244de3610992df3e77b65de794861810a673a48&gt;89634...</td>\n",
       "      <td>explicit</td>\n",
       "      <td>The self-report component measures interpretat...</td>\n",
       "      <td>background</td>\n",
       "      <td></td>\n",
       "      <td></td>\n",
       "    </tr>\n",
       "    <tr>\n",
       "      <th>3733</th>\n",
       "      <td>f98fa4590950e29e660b3d3179a7bb570ee4e132&gt;cf4b7...</td>\n",
       "      <td>explicit</td>\n",
       "      <td>The age of giant nupDNA fragment A was calcula...</td>\n",
       "      <td>method</td>\n",
       "      <td></td>\n",
       "      <td></td>\n",
       "    </tr>\n",
       "    <tr>\n",
       "      <th>1237</th>\n",
       "      <td>bc103d96366ec97e0dd620894bbb04c8849eb772&gt;919a7...</td>\n",
       "      <td>explicit</td>\n",
       "      <td>Two representative software of this type are s...</td>\n",
       "      <td>method</td>\n",
       "      <td></td>\n",
       "      <td></td>\n",
       "    </tr>\n",
       "    <tr>\n",
       "      <th>7052</th>\n",
       "      <td>e3450e8ca6d743f04a1ad41297ab59eeb82299b4&gt;b5fcd...</td>\n",
       "      <td>explicit</td>\n",
       "      <td>How are Bcl-2 and Mcl-1 levels regulated in a ...</td>\n",
       "      <td>background</td>\n",
       "      <td></td>\n",
       "      <td></td>\n",
       "    </tr>\n",
       "    <tr>\n",
       "      <th>6524</th>\n",
       "      <td>8ebd0c64a3f1833cac7b8191303ea2bbd05682b5&gt;86fde...</td>\n",
       "      <td>explicit</td>\n",
       "      <td>Two traits are orthogonal when, based on indiv...</td>\n",
       "      <td>background</td>\n",
       "      <td></td>\n",
       "      <td></td>\n",
       "    </tr>\n",
       "  </tbody>\n",
       "</table>\n",
       "</div>"
      ],
      "text/plain": [
       "                                          citingPaperID    source  \\\n",
       "7792  0244de3610992df3e77b65de794861810a673a48>89634...  explicit   \n",
       "3733  f98fa4590950e29e660b3d3179a7bb570ee4e132>cf4b7...  explicit   \n",
       "1237  bc103d96366ec97e0dd620894bbb04c8849eb772>919a7...  explicit   \n",
       "7052  e3450e8ca6d743f04a1ad41297ab59eeb82299b4>b5fcd...  explicit   \n",
       "6524  8ebd0c64a3f1833cac7b8191303ea2bbd05682b5>86fde...  explicit   \n",
       "\n",
       "                                                 string       label  \\\n",
       "7792  The self-report component measures interpretat...  background   \n",
       "3733  The age of giant nupDNA fragment A was calcula...      method   \n",
       "1237  Two representative software of this type are s...      method   \n",
       "7052  How are Bcl-2 and Mcl-1 levels regulated in a ...  background   \n",
       "6524  Two traits are orthogonal when, based on indiv...  background   \n",
       "\n",
       "     sentiment_chris sentiment_daniel  \n",
       "7792                                   \n",
       "3733                                   \n",
       "1237                                   \n",
       "7052                                   \n",
       "6524                                   "
      ]
     },
     "execution_count": 9,
     "metadata": {},
     "output_type": "execute_result"
    }
   ],
   "source": [
    "# Mutual subset in DataFrame form (for adding IAA sentiment annotations)\n",
    "m_df = train_tsv.copy()\n",
    "m_df = m_df.iloc[m_index]\n",
    "m_df['sentiment_chris'] = ['']*25\n",
    "m_df['sentiment_daniel'] = ['']*25\n",
    "m_df.head()"
   ]
  },
  {
   "cell_type": "code",
   "execution_count": 7,
   "id": "81e7b657",
   "metadata": {
    "pycharm": {
     "name": "#%%\n"
    }
   },
   "outputs": [
    {
     "data": {
      "text/plain": "   Unnamed: 0                                      citingPaperID    source  \\\n0        7792  0244de3610992df3e77b65de794861810a673a48>89634...  explicit   \n1        3733  f98fa4590950e29e660b3d3179a7bb570ee4e132>cf4b7...  explicit   \n2        1237  bc103d96366ec97e0dd620894bbb04c8849eb772>919a7...  explicit   \n3        7052  e3450e8ca6d743f04a1ad41297ab59eeb82299b4>b5fcd...  explicit   \n4        6524  8ebd0c64a3f1833cac7b8191303ea2bbd05682b5>86fde...  explicit   \n\n                                              string       label  \\\n0  The self-report component measures interpretat...  background   \n1  The age of giant nupDNA fragment A was calcula...      method   \n2  Two representative software of this type are s...      method   \n3  How are Bcl-2 and Mcl-1 levels regulated in a ...  background   \n4  Two traits are orthogonal when, based on indiv...  background   \n\n  sentiment_chris sentiment_daniel  \n0         neutral          neutral  \n1         neutral          neutral  \n2         neutral          neutral  \n3         neutral          neutral  \n4         neutral          neutral  ",
      "text/html": "<div>\n<style scoped>\n    .dataframe tbody tr th:only-of-type {\n        vertical-align: middle;\n    }\n\n    .dataframe tbody tr th {\n        vertical-align: top;\n    }\n\n    .dataframe thead th {\n        text-align: right;\n    }\n</style>\n<table border=\"1\" class=\"dataframe\">\n  <thead>\n    <tr style=\"text-align: right;\">\n      <th></th>\n      <th>Unnamed: 0</th>\n      <th>citingPaperID</th>\n      <th>source</th>\n      <th>string</th>\n      <th>label</th>\n      <th>sentiment_chris</th>\n      <th>sentiment_daniel</th>\n    </tr>\n  </thead>\n  <tbody>\n    <tr>\n      <th>0</th>\n      <td>7792</td>\n      <td>0244de3610992df3e77b65de794861810a673a48&gt;89634...</td>\n      <td>explicit</td>\n      <td>The self-report component measures interpretat...</td>\n      <td>background</td>\n      <td>neutral</td>\n      <td>neutral</td>\n    </tr>\n    <tr>\n      <th>1</th>\n      <td>3733</td>\n      <td>f98fa4590950e29e660b3d3179a7bb570ee4e132&gt;cf4b7...</td>\n      <td>explicit</td>\n      <td>The age of giant nupDNA fragment A was calcula...</td>\n      <td>method</td>\n      <td>neutral</td>\n      <td>neutral</td>\n    </tr>\n    <tr>\n      <th>2</th>\n      <td>1237</td>\n      <td>bc103d96366ec97e0dd620894bbb04c8849eb772&gt;919a7...</td>\n      <td>explicit</td>\n      <td>Two representative software of this type are s...</td>\n      <td>method</td>\n      <td>neutral</td>\n      <td>neutral</td>\n    </tr>\n    <tr>\n      <th>3</th>\n      <td>7052</td>\n      <td>e3450e8ca6d743f04a1ad41297ab59eeb82299b4&gt;b5fcd...</td>\n      <td>explicit</td>\n      <td>How are Bcl-2 and Mcl-1 levels regulated in a ...</td>\n      <td>background</td>\n      <td>neutral</td>\n      <td>neutral</td>\n    </tr>\n    <tr>\n      <th>4</th>\n      <td>6524</td>\n      <td>8ebd0c64a3f1833cac7b8191303ea2bbd05682b5&gt;86fde...</td>\n      <td>explicit</td>\n      <td>Two traits are orthogonal when, based on indiv...</td>\n      <td>background</td>\n      <td>neutral</td>\n      <td>neutral</td>\n    </tr>\n  </tbody>\n</table>\n</div>"
     },
     "execution_count": 7,
     "metadata": {},
     "output_type": "execute_result"
    }
   ],
   "source": [
    "m_df_annotated = pd.read_csv('annotated_m.csv')\n",
    "m_df_annotated.head()"
   ]
  },
  {
   "cell_type": "code",
   "execution_count": 3,
   "id": "4fa50c25",
   "metadata": {
    "pycharm": {
     "name": "#%%\n"
    }
   },
   "outputs": [],
   "source": [
    "import nltk\n",
    "from nltk.sentiment.vader import SentimentIntensityAnalyzer"
   ]
  },
  {
   "cell_type": "code",
   "execution_count": 4,
   "outputs": [
    {
     "name": "stderr",
     "output_type": "stream",
     "text": [
      "[nltk_data] Downloading package vader_lexicon to\n",
      "[nltk_data]     /home/lolai/nltk_data...\n",
      "[nltk_data]   Package vader_lexicon is already up-to-date!\n"
     ]
    },
    {
     "data": {
      "text/plain": "True"
     },
     "execution_count": 4,
     "metadata": {},
     "output_type": "execute_result"
    }
   ],
   "source": [
    "nltk.download('vader_lexicon')"
   ],
   "metadata": {
    "collapsed": false,
    "pycharm": {
     "name": "#%%\n"
    }
   }
  },
  {
   "cell_type": "code",
   "execution_count": 7,
   "outputs": [],
   "source": [
    "sid = SentimentIntensityAnalyzer()"
   ],
   "metadata": {
    "collapsed": false,
    "pycharm": {
     "name": "#%%\n"
    }
   }
  },
  {
   "cell_type": "code",
   "execution_count": 23,
   "outputs": [],
   "source": [
    "m_df_annotated['pos'],m_df_annotated['neg'],m_df_annotated['neu'] = 0,0,0"
   ],
   "metadata": {
    "collapsed": false,
    "pycharm": {
     "name": "#%%\n"
    }
   }
  },
  {
   "cell_type": "code",
   "execution_count": 30,
   "outputs": [],
   "source": [
    "a=m_df_annotated['string'][0]"
   ],
   "metadata": {
    "collapsed": false,
    "pycharm": {
     "name": "#%%\n"
    }
   }
  },
  {
   "cell_type": "code",
   "execution_count": 8,
   "outputs": [],
   "source": [
    "output = sid.polarity_scores(\"Hello there\")"
   ],
   "metadata": {
    "collapsed": false,
    "pycharm": {
     "name": "#%%\n"
    }
   }
  },
  {
   "cell_type": "code",
   "execution_count": 13,
   "outputs": [
    {
     "ename": "TypeError",
     "evalue": "polarity_scores() missing 1 required positional argument: 'text'",
     "output_type": "error",
     "traceback": [
      "\u001B[0;31m---------------------------------------------------------------------------\u001B[0m",
      "\u001B[0;31mTypeError\u001B[0m                                 Traceback (most recent call last)",
      "Input \u001B[0;32mIn [13]\u001B[0m, in \u001B[0;36m<cell line: 1>\u001B[0;34m()\u001B[0m\n\u001B[1;32m      1\u001B[0m \u001B[38;5;28;01mfor\u001B[39;00m index, row \u001B[38;5;129;01min\u001B[39;00m m_df_annotated\u001B[38;5;241m.\u001B[39miterrows():\n\u001B[0;32m----> 2\u001B[0m     output \u001B[38;5;241m=\u001B[39m \u001B[43msia\u001B[49m\u001B[38;5;241;43m.\u001B[39;49m\u001B[43mpolarity_scores\u001B[49m\u001B[43m(\u001B[49m\u001B[43mrow\u001B[49m\u001B[43m[\u001B[49m\u001B[38;5;124;43m'\u001B[39;49m\u001B[38;5;124;43mstring\u001B[39;49m\u001B[38;5;124;43m'\u001B[39;49m\u001B[43m]\u001B[49m\u001B[43m)\u001B[49m\n\u001B[1;32m      3\u001B[0m     m_df_annotated\u001B[38;5;241m.\u001B[39mat[index, \u001B[38;5;124m'\u001B[39m\u001B[38;5;124mpos\u001B[39m\u001B[38;5;124m'\u001B[39m] \u001B[38;5;241m=\u001B[39m output[\u001B[38;5;124m'\u001B[39m\u001B[38;5;124mpos\u001B[39m\u001B[38;5;124m'\u001B[39m]\n\u001B[1;32m      4\u001B[0m     m_df_annotated\u001B[38;5;241m.\u001B[39mat[index, \u001B[38;5;124m'\u001B[39m\u001B[38;5;124mneg\u001B[39m\u001B[38;5;124m'\u001B[39m] \u001B[38;5;241m=\u001B[39m output[\u001B[38;5;124m'\u001B[39m\u001B[38;5;124mneg\u001B[39m\u001B[38;5;124m'\u001B[39m]\n",
      "\u001B[0;31mTypeError\u001B[0m: polarity_scores() missing 1 required positional argument: 'text'"
     ]
    }
   ],
   "source": [],
   "metadata": {
    "collapsed": false,
    "pycharm": {
     "name": "#%%\n"
    }
   }
  },
  {
   "cell_type": "code",
   "execution_count": 9,
   "outputs": [],
   "source": [
    "m_df_annotated['sc ores'] = m_df_annotated['string'].apply(lambda string: sid.polarity_scores(string))"
   ],
   "metadata": {
    "collapsed": false,
    "pycharm": {
     "name": "#%%\n"
    }
   }
  },
  {
   "cell_type": "code",
   "execution_count": 10,
   "outputs": [
    {
     "data": {
      "text/plain": "    Unnamed: 0                                      citingPaperID    source  \\\n0         7792  0244de3610992df3e77b65de794861810a673a48>89634...  explicit   \n1         3733  f98fa4590950e29e660b3d3179a7bb570ee4e132>cf4b7...  explicit   \n2         1237  bc103d96366ec97e0dd620894bbb04c8849eb772>919a7...  explicit   \n3         7052  e3450e8ca6d743f04a1ad41297ab59eeb82299b4>b5fcd...  explicit   \n4         6524  8ebd0c64a3f1833cac7b8191303ea2bbd05682b5>86fde...  explicit   \n5         2543  2c0cab0d657f6c225c74736fed02750c381032de>02cdb...  explicit   \n6         8093  7dda92d7dbb1a5f7fc78bba6f81890b3832cb2d6>e6f6f...  explicit   \n7         5365  9237db18530d0de2e0281e735c10570d7c235b36>14682...  explicit   \n8         4663  1ac9706400e1c06a100add4b83a67af503404d8d>1fc59...  explicit   \n9         3065  4f4c6a035c0c28cfe5855a720a8f7a16a401e9f8>0451f...  explicit   \n10         372  0fd548a07b8d113f5f6a6255abe191668120ac53>74809...  explicit   \n11        6346  4289898ef10c52412dd2ee16e35ae8ae4954552f>2b2ac...  explicit   \n12        2343  70b1e174c0d26a6262355e3891c2655559f79122>45e3f...  explicit   \n13         600  9a068a63f5ae85227863a972c7204903fdcca978>73619...  explicit   \n14        3791  af794c74a2bfd33336bca2a410ed42a978d98a89>69157...  explicit   \n15        6315  ae1a3173131628123ac7c7579045aa96006c9485>6220e...  explicit   \n16        7737  d388588cbc8aef4f1eba7b56f1571191370f6e75>7348e...  explicit   \n17        7162  e9a4a6cec8b4a268ecd991a9f92700ce1a8960a5>3ef88...  explicit   \n18        3758  ea5e02b640e8b354ca4c997f2358a1da8837fc19>2f0f0...  explicit   \n19        8208  b4bafb8c1ff27c29f0ecef6caa775a0f2d86db00>79b28...  explicit   \n20        2397  387a4968c48a7f86693bcc455beffa97943cd445>3fdc8...  explicit   \n21        2542  4ba2e2317d3211666340f58f90efc051a3503bef>2a8c2...  explicit   \n22        4697  743a1befaf5e2cd2e5a9162432909b221a1e695c>8bd0c...  explicit   \n23        3954  37e4db73f2c3fa01c121afef0a938656bc03cebd>447b2...  explicit   \n24        5098  eafafc708296c462edc9294e1b8f3b1dd3f4dffc>8f125...  explicit   \n\n                                               string       label  \\\n0   The self-report component measures interpretat...  background   \n1   The age of giant nupDNA fragment A was calcula...      method   \n2   Two representative software of this type are s...      method   \n3   How are Bcl-2 and Mcl-1 levels regulated in a ...  background   \n4   Two traits are orthogonal when, based on indiv...  background   \n5   These results are similar to other reports [34...      result   \n6   A type I T-cell gene signature that promotes b...  background   \n7   Resistance to TB involves macrophages [2,4], d...  background   \n8   While the prevalence of hyperechogenicity is o...  background   \n9   There have been few animal studies on this sub...  background   \n10  Although Arpp/Ankrd2 has been reported to be l...  background   \n11  …memory\\nINTRODUCTION\\nEmerging studies have s...  background   \n12  The prognosis of FVPTC in our study was excell...      result   \n13  In addition to expression in the fetus, Igf2 i...  background   \n14  Other studies suggest that altering affinity t...  background   \n15  Although our cohort also consisted of treatmen...      result   \n16  These study areas have all been managed in the...  background   \n17  Assessing Risk of Bias\\nCritical appraisal of ...      method   \n18  A retrospective cohort study abstracted medica...  background   \n19  Cancer cells usually have a different genome s...  background   \n20  %) was a close relative (at 97% identity) of t...  background   \n21  Moreover, phytochelatins have been found to be...  background   \n22  One of the key concerns by induction of reprog...  background   \n23  In [1] and [2], a multilayer directory structu...  background   \n24  …difference between aspirated and lenis is mer...  background   \n\n   sentiment_chris sentiment_daniel  \\\n0          neutral          neutral   \n1          neutral          neutral   \n2          neutral          neutral   \n3          neutral          neutral   \n4          neutral          neutral   \n5         positive         positive   \n6         positive         positive   \n7         positive         positive   \n8         positive          neutral   \n9         negative         negative   \n10        positive         positive   \n11        positive         positive   \n12        positive         positive   \n13         neutral          neutral   \n14        positive          neutral   \n15        negative         negative   \n16         neutral          neutral   \n17         neutral          neutral   \n18         neutral          neutral   \n19         neutral          neutral   \n20         neutral          neutral   \n21        positive          neutral   \n22         neutral          neutral   \n23         neutral         positive   \n24         neutral          neutral   \n\n                                              sc ores  \n0   {'neg': 0.176, 'neu': 0.621, 'pos': 0.203, 'co...  \n1   {'neg': 0.0, 'neu': 0.938, 'pos': 0.062, 'comp...  \n2   {'neg': 0.0, 'neu': 1.0, 'pos': 0.0, 'compound...  \n3   {'neg': 0.0, 'neu': 0.931, 'pos': 0.069, 'comp...  \n4   {'neg': 0.0, 'neu': 0.935, 'pos': 0.065, 'comp...  \n5   {'neg': 0.059, 'neu': 0.88, 'pos': 0.062, 'com...  \n6   {'neg': 0.131, 'neu': 0.73, 'pos': 0.139, 'com...  \n7   {'neg': 0.0, 'neu': 0.948, 'pos': 0.052, 'comp...  \n8   {'neg': 0.0, 'neu': 0.87, 'pos': 0.13, 'compou...  \n9   {'neg': 0.0, 'neu': 1.0, 'pos': 0.0, 'compound...  \n10  {'neg': 0.0, 'neu': 1.0, 'pos': 0.0, 'compound...  \n11  {'neg': 0.036, 'neu': 0.964, 'pos': 0.0, 'comp...  \n12  {'neg': 0.0, 'neu': 0.927, 'pos': 0.073, 'comp...  \n13  {'neg': 0.0, 'neu': 1.0, 'pos': 0.0, 'compound...  \n14  {'neg': 0.055, 'neu': 0.945, 'pos': 0.0, 'comp...  \n15  {'neg': 0.0, 'neu': 0.945, 'pos': 0.055, 'comp...  \n16  {'neg': 0.0, 'neu': 1.0, 'pos': 0.0, 'compound...  \n17  {'neg': 0.122, 'neu': 0.783, 'pos': 0.096, 'co...  \n18  {'neg': 0.0, 'neu': 0.833, 'pos': 0.167, 'comp...  \n19  {'neg': 0.15, 'neu': 0.85, 'pos': 0.0, 'compou...  \n20  {'neg': 0.041, 'neu': 0.959, 'pos': 0.0, 'comp...  \n21  {'neg': 0.177, 'neu': 0.679, 'pos': 0.144, 'co...  \n22  {'neg': 0.0, 'neu': 1.0, 'pos': 0.0, 'compound...  \n23  {'neg': 0.0, 'neu': 0.906, 'pos': 0.094, 'comp...  \n24  {'neg': 0.048, 'neu': 0.952, 'pos': 0.0, 'comp...  ",
      "text/html": "<div>\n<style scoped>\n    .dataframe tbody tr th:only-of-type {\n        vertical-align: middle;\n    }\n\n    .dataframe tbody tr th {\n        vertical-align: top;\n    }\n\n    .dataframe thead th {\n        text-align: right;\n    }\n</style>\n<table border=\"1\" class=\"dataframe\">\n  <thead>\n    <tr style=\"text-align: right;\">\n      <th></th>\n      <th>Unnamed: 0</th>\n      <th>citingPaperID</th>\n      <th>source</th>\n      <th>string</th>\n      <th>label</th>\n      <th>sentiment_chris</th>\n      <th>sentiment_daniel</th>\n      <th>sc ores</th>\n    </tr>\n  </thead>\n  <tbody>\n    <tr>\n      <th>0</th>\n      <td>7792</td>\n      <td>0244de3610992df3e77b65de794861810a673a48&gt;89634...</td>\n      <td>explicit</td>\n      <td>The self-report component measures interpretat...</td>\n      <td>background</td>\n      <td>neutral</td>\n      <td>neutral</td>\n      <td>{'neg': 0.176, 'neu': 0.621, 'pos': 0.203, 'co...</td>\n    </tr>\n    <tr>\n      <th>1</th>\n      <td>3733</td>\n      <td>f98fa4590950e29e660b3d3179a7bb570ee4e132&gt;cf4b7...</td>\n      <td>explicit</td>\n      <td>The age of giant nupDNA fragment A was calcula...</td>\n      <td>method</td>\n      <td>neutral</td>\n      <td>neutral</td>\n      <td>{'neg': 0.0, 'neu': 0.938, 'pos': 0.062, 'comp...</td>\n    </tr>\n    <tr>\n      <th>2</th>\n      <td>1237</td>\n      <td>bc103d96366ec97e0dd620894bbb04c8849eb772&gt;919a7...</td>\n      <td>explicit</td>\n      <td>Two representative software of this type are s...</td>\n      <td>method</td>\n      <td>neutral</td>\n      <td>neutral</td>\n      <td>{'neg': 0.0, 'neu': 1.0, 'pos': 0.0, 'compound...</td>\n    </tr>\n    <tr>\n      <th>3</th>\n      <td>7052</td>\n      <td>e3450e8ca6d743f04a1ad41297ab59eeb82299b4&gt;b5fcd...</td>\n      <td>explicit</td>\n      <td>How are Bcl-2 and Mcl-1 levels regulated in a ...</td>\n      <td>background</td>\n      <td>neutral</td>\n      <td>neutral</td>\n      <td>{'neg': 0.0, 'neu': 0.931, 'pos': 0.069, 'comp...</td>\n    </tr>\n    <tr>\n      <th>4</th>\n      <td>6524</td>\n      <td>8ebd0c64a3f1833cac7b8191303ea2bbd05682b5&gt;86fde...</td>\n      <td>explicit</td>\n      <td>Two traits are orthogonal when, based on indiv...</td>\n      <td>background</td>\n      <td>neutral</td>\n      <td>neutral</td>\n      <td>{'neg': 0.0, 'neu': 0.935, 'pos': 0.065, 'comp...</td>\n    </tr>\n    <tr>\n      <th>5</th>\n      <td>2543</td>\n      <td>2c0cab0d657f6c225c74736fed02750c381032de&gt;02cdb...</td>\n      <td>explicit</td>\n      <td>These results are similar to other reports [34...</td>\n      <td>result</td>\n      <td>positive</td>\n      <td>positive</td>\n      <td>{'neg': 0.059, 'neu': 0.88, 'pos': 0.062, 'com...</td>\n    </tr>\n    <tr>\n      <th>6</th>\n      <td>8093</td>\n      <td>7dda92d7dbb1a5f7fc78bba6f81890b3832cb2d6&gt;e6f6f...</td>\n      <td>explicit</td>\n      <td>A type I T-cell gene signature that promotes b...</td>\n      <td>background</td>\n      <td>positive</td>\n      <td>positive</td>\n      <td>{'neg': 0.131, 'neu': 0.73, 'pos': 0.139, 'com...</td>\n    </tr>\n    <tr>\n      <th>7</th>\n      <td>5365</td>\n      <td>9237db18530d0de2e0281e735c10570d7c235b36&gt;14682...</td>\n      <td>explicit</td>\n      <td>Resistance to TB involves macrophages [2,4], d...</td>\n      <td>background</td>\n      <td>positive</td>\n      <td>positive</td>\n      <td>{'neg': 0.0, 'neu': 0.948, 'pos': 0.052, 'comp...</td>\n    </tr>\n    <tr>\n      <th>8</th>\n      <td>4663</td>\n      <td>1ac9706400e1c06a100add4b83a67af503404d8d&gt;1fc59...</td>\n      <td>explicit</td>\n      <td>While the prevalence of hyperechogenicity is o...</td>\n      <td>background</td>\n      <td>positive</td>\n      <td>neutral</td>\n      <td>{'neg': 0.0, 'neu': 0.87, 'pos': 0.13, 'compou...</td>\n    </tr>\n    <tr>\n      <th>9</th>\n      <td>3065</td>\n      <td>4f4c6a035c0c28cfe5855a720a8f7a16a401e9f8&gt;0451f...</td>\n      <td>explicit</td>\n      <td>There have been few animal studies on this sub...</td>\n      <td>background</td>\n      <td>negative</td>\n      <td>negative</td>\n      <td>{'neg': 0.0, 'neu': 1.0, 'pos': 0.0, 'compound...</td>\n    </tr>\n    <tr>\n      <th>10</th>\n      <td>372</td>\n      <td>0fd548a07b8d113f5f6a6255abe191668120ac53&gt;74809...</td>\n      <td>explicit</td>\n      <td>Although Arpp/Ankrd2 has been reported to be l...</td>\n      <td>background</td>\n      <td>positive</td>\n      <td>positive</td>\n      <td>{'neg': 0.0, 'neu': 1.0, 'pos': 0.0, 'compound...</td>\n    </tr>\n    <tr>\n      <th>11</th>\n      <td>6346</td>\n      <td>4289898ef10c52412dd2ee16e35ae8ae4954552f&gt;2b2ac...</td>\n      <td>explicit</td>\n      <td>…memory\\nINTRODUCTION\\nEmerging studies have s...</td>\n      <td>background</td>\n      <td>positive</td>\n      <td>positive</td>\n      <td>{'neg': 0.036, 'neu': 0.964, 'pos': 0.0, 'comp...</td>\n    </tr>\n    <tr>\n      <th>12</th>\n      <td>2343</td>\n      <td>70b1e174c0d26a6262355e3891c2655559f79122&gt;45e3f...</td>\n      <td>explicit</td>\n      <td>The prognosis of FVPTC in our study was excell...</td>\n      <td>result</td>\n      <td>positive</td>\n      <td>positive</td>\n      <td>{'neg': 0.0, 'neu': 0.927, 'pos': 0.073, 'comp...</td>\n    </tr>\n    <tr>\n      <th>13</th>\n      <td>600</td>\n      <td>9a068a63f5ae85227863a972c7204903fdcca978&gt;73619...</td>\n      <td>explicit</td>\n      <td>In addition to expression in the fetus, Igf2 i...</td>\n      <td>background</td>\n      <td>neutral</td>\n      <td>neutral</td>\n      <td>{'neg': 0.0, 'neu': 1.0, 'pos': 0.0, 'compound...</td>\n    </tr>\n    <tr>\n      <th>14</th>\n      <td>3791</td>\n      <td>af794c74a2bfd33336bca2a410ed42a978d98a89&gt;69157...</td>\n      <td>explicit</td>\n      <td>Other studies suggest that altering affinity t...</td>\n      <td>background</td>\n      <td>positive</td>\n      <td>neutral</td>\n      <td>{'neg': 0.055, 'neu': 0.945, 'pos': 0.0, 'comp...</td>\n    </tr>\n    <tr>\n      <th>15</th>\n      <td>6315</td>\n      <td>ae1a3173131628123ac7c7579045aa96006c9485&gt;6220e...</td>\n      <td>explicit</td>\n      <td>Although our cohort also consisted of treatmen...</td>\n      <td>result</td>\n      <td>negative</td>\n      <td>negative</td>\n      <td>{'neg': 0.0, 'neu': 0.945, 'pos': 0.055, 'comp...</td>\n    </tr>\n    <tr>\n      <th>16</th>\n      <td>7737</td>\n      <td>d388588cbc8aef4f1eba7b56f1571191370f6e75&gt;7348e...</td>\n      <td>explicit</td>\n      <td>These study areas have all been managed in the...</td>\n      <td>background</td>\n      <td>neutral</td>\n      <td>neutral</td>\n      <td>{'neg': 0.0, 'neu': 1.0, 'pos': 0.0, 'compound...</td>\n    </tr>\n    <tr>\n      <th>17</th>\n      <td>7162</td>\n      <td>e9a4a6cec8b4a268ecd991a9f92700ce1a8960a5&gt;3ef88...</td>\n      <td>explicit</td>\n      <td>Assessing Risk of Bias\\nCritical appraisal of ...</td>\n      <td>method</td>\n      <td>neutral</td>\n      <td>neutral</td>\n      <td>{'neg': 0.122, 'neu': 0.783, 'pos': 0.096, 'co...</td>\n    </tr>\n    <tr>\n      <th>18</th>\n      <td>3758</td>\n      <td>ea5e02b640e8b354ca4c997f2358a1da8837fc19&gt;2f0f0...</td>\n      <td>explicit</td>\n      <td>A retrospective cohort study abstracted medica...</td>\n      <td>background</td>\n      <td>neutral</td>\n      <td>neutral</td>\n      <td>{'neg': 0.0, 'neu': 0.833, 'pos': 0.167, 'comp...</td>\n    </tr>\n    <tr>\n      <th>19</th>\n      <td>8208</td>\n      <td>b4bafb8c1ff27c29f0ecef6caa775a0f2d86db00&gt;79b28...</td>\n      <td>explicit</td>\n      <td>Cancer cells usually have a different genome s...</td>\n      <td>background</td>\n      <td>neutral</td>\n      <td>neutral</td>\n      <td>{'neg': 0.15, 'neu': 0.85, 'pos': 0.0, 'compou...</td>\n    </tr>\n    <tr>\n      <th>20</th>\n      <td>2397</td>\n      <td>387a4968c48a7f86693bcc455beffa97943cd445&gt;3fdc8...</td>\n      <td>explicit</td>\n      <td>%) was a close relative (at 97% identity) of t...</td>\n      <td>background</td>\n      <td>neutral</td>\n      <td>neutral</td>\n      <td>{'neg': 0.041, 'neu': 0.959, 'pos': 0.0, 'comp...</td>\n    </tr>\n    <tr>\n      <th>21</th>\n      <td>2542</td>\n      <td>4ba2e2317d3211666340f58f90efc051a3503bef&gt;2a8c2...</td>\n      <td>explicit</td>\n      <td>Moreover, phytochelatins have been found to be...</td>\n      <td>background</td>\n      <td>positive</td>\n      <td>neutral</td>\n      <td>{'neg': 0.177, 'neu': 0.679, 'pos': 0.144, 'co...</td>\n    </tr>\n    <tr>\n      <th>22</th>\n      <td>4697</td>\n      <td>743a1befaf5e2cd2e5a9162432909b221a1e695c&gt;8bd0c...</td>\n      <td>explicit</td>\n      <td>One of the key concerns by induction of reprog...</td>\n      <td>background</td>\n      <td>neutral</td>\n      <td>neutral</td>\n      <td>{'neg': 0.0, 'neu': 1.0, 'pos': 0.0, 'compound...</td>\n    </tr>\n    <tr>\n      <th>23</th>\n      <td>3954</td>\n      <td>37e4db73f2c3fa01c121afef0a938656bc03cebd&gt;447b2...</td>\n      <td>explicit</td>\n      <td>In [1] and [2], a multilayer directory structu...</td>\n      <td>background</td>\n      <td>neutral</td>\n      <td>positive</td>\n      <td>{'neg': 0.0, 'neu': 0.906, 'pos': 0.094, 'comp...</td>\n    </tr>\n    <tr>\n      <th>24</th>\n      <td>5098</td>\n      <td>eafafc708296c462edc9294e1b8f3b1dd3f4dffc&gt;8f125...</td>\n      <td>explicit</td>\n      <td>…difference between aspirated and lenis is mer...</td>\n      <td>background</td>\n      <td>neutral</td>\n      <td>neutral</td>\n      <td>{'neg': 0.048, 'neu': 0.952, 'pos': 0.0, 'comp...</td>\n    </tr>\n  </tbody>\n</table>\n</div>"
     },
     "execution_count": 10,
     "metadata": {},
     "output_type": "execute_result"
    }
   ],
   "source": [
    "m_df_annotated"
   ],
   "metadata": {
    "collapsed": false,
    "pycharm": {
     "name": "#%%\n"
    }
   }
  },
  {
   "cell_type": "code",
   "execution_count": 17,
   "outputs": [
    {
     "name": "stderr",
     "output_type": "stream",
     "text": [
      "[nltk_data] Downloading package movie_reviews to\n",
      "[nltk_data]     /home/lolai/nltk_data...\n",
      "[nltk_data]   Package movie_reviews is already up-to-date!\n",
      "[nltk_data] Downloading package punkt to /home/lolai/nltk_data...\n",
      "[nltk_data]   Unzipping tokenizers/punkt.zip.\n"
     ]
    },
    {
     "data": {
      "text/plain": "True"
     },
     "execution_count": 17,
     "metadata": {},
     "output_type": "execute_result"
    }
   ],
   "source": [
    "from textblob import TextBlob\n",
    "from textblob.sentiments import NaiveBayesAnalyzer\n",
    "nltk.download('movie_reviews')\n",
    "nltk.download('punkt')"
   ],
   "metadata": {
    "collapsed": false,
    "pycharm": {
     "name": "#%%\n"
    }
   }
  },
  {
   "cell_type": "code",
   "execution_count": 18,
   "outputs": [],
   "source": [
    "for index, row in m_df_annotated.iterrows():\n",
    "    blob = TextBlob(row['string'], analyzer=NaiveBayesAnalyzer())\n",
    "    m_df_annotated.at[index, 'blob'] = blob.sentiment"
   ],
   "metadata": {
    "collapsed": false,
    "pycharm": {
     "name": "#%%\n"
    }
   }
  },
  {
   "cell_type": "code",
   "execution_count": 19,
   "outputs": [
    {
     "data": {
      "text/plain": "    Unnamed: 0                                      citingPaperID    source  \\\n0         7792  0244de3610992df3e77b65de794861810a673a48>89634...  explicit   \n1         3733  f98fa4590950e29e660b3d3179a7bb570ee4e132>cf4b7...  explicit   \n2         1237  bc103d96366ec97e0dd620894bbb04c8849eb772>919a7...  explicit   \n3         7052  e3450e8ca6d743f04a1ad41297ab59eeb82299b4>b5fcd...  explicit   \n4         6524  8ebd0c64a3f1833cac7b8191303ea2bbd05682b5>86fde...  explicit   \n5         2543  2c0cab0d657f6c225c74736fed02750c381032de>02cdb...  explicit   \n6         8093  7dda92d7dbb1a5f7fc78bba6f81890b3832cb2d6>e6f6f...  explicit   \n7         5365  9237db18530d0de2e0281e735c10570d7c235b36>14682...  explicit   \n8         4663  1ac9706400e1c06a100add4b83a67af503404d8d>1fc59...  explicit   \n9         3065  4f4c6a035c0c28cfe5855a720a8f7a16a401e9f8>0451f...  explicit   \n10         372  0fd548a07b8d113f5f6a6255abe191668120ac53>74809...  explicit   \n11        6346  4289898ef10c52412dd2ee16e35ae8ae4954552f>2b2ac...  explicit   \n12        2343  70b1e174c0d26a6262355e3891c2655559f79122>45e3f...  explicit   \n13         600  9a068a63f5ae85227863a972c7204903fdcca978>73619...  explicit   \n14        3791  af794c74a2bfd33336bca2a410ed42a978d98a89>69157...  explicit   \n15        6315  ae1a3173131628123ac7c7579045aa96006c9485>6220e...  explicit   \n16        7737  d388588cbc8aef4f1eba7b56f1571191370f6e75>7348e...  explicit   \n17        7162  e9a4a6cec8b4a268ecd991a9f92700ce1a8960a5>3ef88...  explicit   \n18        3758  ea5e02b640e8b354ca4c997f2358a1da8837fc19>2f0f0...  explicit   \n19        8208  b4bafb8c1ff27c29f0ecef6caa775a0f2d86db00>79b28...  explicit   \n20        2397  387a4968c48a7f86693bcc455beffa97943cd445>3fdc8...  explicit   \n21        2542  4ba2e2317d3211666340f58f90efc051a3503bef>2a8c2...  explicit   \n22        4697  743a1befaf5e2cd2e5a9162432909b221a1e695c>8bd0c...  explicit   \n23        3954  37e4db73f2c3fa01c121afef0a938656bc03cebd>447b2...  explicit   \n24        5098  eafafc708296c462edc9294e1b8f3b1dd3f4dffc>8f125...  explicit   \n\n                                               string       label  \\\n0   The self-report component measures interpretat...  background   \n1   The age of giant nupDNA fragment A was calcula...      method   \n2   Two representative software of this type are s...      method   \n3   How are Bcl-2 and Mcl-1 levels regulated in a ...  background   \n4   Two traits are orthogonal when, based on indiv...  background   \n5   These results are similar to other reports [34...      result   \n6   A type I T-cell gene signature that promotes b...  background   \n7   Resistance to TB involves macrophages [2,4], d...  background   \n8   While the prevalence of hyperechogenicity is o...  background   \n9   There have been few animal studies on this sub...  background   \n10  Although Arpp/Ankrd2 has been reported to be l...  background   \n11  …memory\\nINTRODUCTION\\nEmerging studies have s...  background   \n12  The prognosis of FVPTC in our study was excell...      result   \n13  In addition to expression in the fetus, Igf2 i...  background   \n14  Other studies suggest that altering affinity t...  background   \n15  Although our cohort also consisted of treatmen...      result   \n16  These study areas have all been managed in the...  background   \n17  Assessing Risk of Bias\\nCritical appraisal of ...      method   \n18  A retrospective cohort study abstracted medica...  background   \n19  Cancer cells usually have a different genome s...  background   \n20  %) was a close relative (at 97% identity) of t...  background   \n21  Moreover, phytochelatins have been found to be...  background   \n22  One of the key concerns by induction of reprog...  background   \n23  In [1] and [2], a multilayer directory structu...  background   \n24  …difference between aspirated and lenis is mer...  background   \n\n   sentiment_chris sentiment_daniel  \\\n0          neutral          neutral   \n1          neutral          neutral   \n2          neutral          neutral   \n3          neutral          neutral   \n4          neutral          neutral   \n5         positive         positive   \n6         positive         positive   \n7         positive         positive   \n8         positive          neutral   \n9         negative         negative   \n10        positive         positive   \n11        positive         positive   \n12        positive         positive   \n13         neutral          neutral   \n14        positive          neutral   \n15        negative         negative   \n16         neutral          neutral   \n17         neutral          neutral   \n18         neutral          neutral   \n19         neutral          neutral   \n20         neutral          neutral   \n21        positive          neutral   \n22         neutral          neutral   \n23         neutral         positive   \n24         neutral          neutral   \n\n                                              sc ores  \\\n0   {'neg': 0.176, 'neu': 0.621, 'pos': 0.203, 'co...   \n1   {'neg': 0.0, 'neu': 0.938, 'pos': 0.062, 'comp...   \n2   {'neg': 0.0, 'neu': 1.0, 'pos': 0.0, 'compound...   \n3   {'neg': 0.0, 'neu': 0.931, 'pos': 0.069, 'comp...   \n4   {'neg': 0.0, 'neu': 0.935, 'pos': 0.065, 'comp...   \n5   {'neg': 0.059, 'neu': 0.88, 'pos': 0.062, 'com...   \n6   {'neg': 0.131, 'neu': 0.73, 'pos': 0.139, 'com...   \n7   {'neg': 0.0, 'neu': 0.948, 'pos': 0.052, 'comp...   \n8   {'neg': 0.0, 'neu': 0.87, 'pos': 0.13, 'compou...   \n9   {'neg': 0.0, 'neu': 1.0, 'pos': 0.0, 'compound...   \n10  {'neg': 0.0, 'neu': 1.0, 'pos': 0.0, 'compound...   \n11  {'neg': 0.036, 'neu': 0.964, 'pos': 0.0, 'comp...   \n12  {'neg': 0.0, 'neu': 0.927, 'pos': 0.073, 'comp...   \n13  {'neg': 0.0, 'neu': 1.0, 'pos': 0.0, 'compound...   \n14  {'neg': 0.055, 'neu': 0.945, 'pos': 0.0, 'comp...   \n15  {'neg': 0.0, 'neu': 0.945, 'pos': 0.055, 'comp...   \n16  {'neg': 0.0, 'neu': 1.0, 'pos': 0.0, 'compound...   \n17  {'neg': 0.122, 'neu': 0.783, 'pos': 0.096, 'co...   \n18  {'neg': 0.0, 'neu': 0.833, 'pos': 0.167, 'comp...   \n19  {'neg': 0.15, 'neu': 0.85, 'pos': 0.0, 'compou...   \n20  {'neg': 0.041, 'neu': 0.959, 'pos': 0.0, 'comp...   \n21  {'neg': 0.177, 'neu': 0.679, 'pos': 0.144, 'co...   \n22  {'neg': 0.0, 'neu': 1.0, 'pos': 0.0, 'compound...   \n23  {'neg': 0.0, 'neu': 0.906, 'pos': 0.094, 'comp...   \n24  {'neg': 0.048, 'neu': 0.952, 'pos': 0.0, 'comp...   \n\n                                                 blob  \n0       (pos, 0.5102799966208181, 0.4897200033791817)  \n1       (pos, 0.891223523881184, 0.10877647611881786)  \n2      (pos, 0.6687384291293584, 0.33126157087064273)  \n3     (pos, 0.9440573356099139, 0.055942664390083885)  \n4      (pos, 0.7766364321170403, 0.22336356788295983)  \n5    (pos, 0.9964398195896027, 0.0035601804103927276)  \n6       (pos, 0.9057728681437488, 0.0942271318562523)  \n7     (pos, 0.9955546542501073, 0.004445345749895256)  \n8       (pos, 0.857541546199535, 0.14245845380046687)  \n9      (pos, 0.7172959945462293, 0.28270400545377067)  \n10    (pos, 0.9762558782839142, 0.023744121716083557)  \n11   (pos, 0.999565424764716, 0.00043457523528077504)  \n12  (pos, 0.9998177994906067, 0.00018220050939675152)  \n13     (pos, 0.8087941318121952, 0.19120586818780427)  \n14   (pos, 0.9996784350973744, 0.0003215649026292492)  \n15    (pos, 0.9848593082223132, 0.015140691777683249)  \n16   (pos, 0.9980201410172951, 0.0019798589827116774)  \n17  (pos, 0.9998046597903255, 0.00019534020967395898)  \n18     (pos, 0.7747089503156659, 0.22529104968433494)  \n19    (pos, 0.9762772830360156, 0.023722716963980813)  \n20     (neg, 0.30610500218940334, 0.6938949978105958)  \n21     (pos, 0.7750549045265896, 0.22494509547340819)  \n22      (pos, 0.953644059972674, 0.04635594002732383)  \n23     (pos, 0.9331308148402522, 0.06686918515974714)  \n24     (neg, 0.05334283633013736, 0.9466571636698655)  ",
      "text/html": "<div>\n<style scoped>\n    .dataframe tbody tr th:only-of-type {\n        vertical-align: middle;\n    }\n\n    .dataframe tbody tr th {\n        vertical-align: top;\n    }\n\n    .dataframe thead th {\n        text-align: right;\n    }\n</style>\n<table border=\"1\" class=\"dataframe\">\n  <thead>\n    <tr style=\"text-align: right;\">\n      <th></th>\n      <th>Unnamed: 0</th>\n      <th>citingPaperID</th>\n      <th>source</th>\n      <th>string</th>\n      <th>label</th>\n      <th>sentiment_chris</th>\n      <th>sentiment_daniel</th>\n      <th>sc ores</th>\n      <th>blob</th>\n    </tr>\n  </thead>\n  <tbody>\n    <tr>\n      <th>0</th>\n      <td>7792</td>\n      <td>0244de3610992df3e77b65de794861810a673a48&gt;89634...</td>\n      <td>explicit</td>\n      <td>The self-report component measures interpretat...</td>\n      <td>background</td>\n      <td>neutral</td>\n      <td>neutral</td>\n      <td>{'neg': 0.176, 'neu': 0.621, 'pos': 0.203, 'co...</td>\n      <td>(pos, 0.5102799966208181, 0.4897200033791817)</td>\n    </tr>\n    <tr>\n      <th>1</th>\n      <td>3733</td>\n      <td>f98fa4590950e29e660b3d3179a7bb570ee4e132&gt;cf4b7...</td>\n      <td>explicit</td>\n      <td>The age of giant nupDNA fragment A was calcula...</td>\n      <td>method</td>\n      <td>neutral</td>\n      <td>neutral</td>\n      <td>{'neg': 0.0, 'neu': 0.938, 'pos': 0.062, 'comp...</td>\n      <td>(pos, 0.891223523881184, 0.10877647611881786)</td>\n    </tr>\n    <tr>\n      <th>2</th>\n      <td>1237</td>\n      <td>bc103d96366ec97e0dd620894bbb04c8849eb772&gt;919a7...</td>\n      <td>explicit</td>\n      <td>Two representative software of this type are s...</td>\n      <td>method</td>\n      <td>neutral</td>\n      <td>neutral</td>\n      <td>{'neg': 0.0, 'neu': 1.0, 'pos': 0.0, 'compound...</td>\n      <td>(pos, 0.6687384291293584, 0.33126157087064273)</td>\n    </tr>\n    <tr>\n      <th>3</th>\n      <td>7052</td>\n      <td>e3450e8ca6d743f04a1ad41297ab59eeb82299b4&gt;b5fcd...</td>\n      <td>explicit</td>\n      <td>How are Bcl-2 and Mcl-1 levels regulated in a ...</td>\n      <td>background</td>\n      <td>neutral</td>\n      <td>neutral</td>\n      <td>{'neg': 0.0, 'neu': 0.931, 'pos': 0.069, 'comp...</td>\n      <td>(pos, 0.9440573356099139, 0.055942664390083885)</td>\n    </tr>\n    <tr>\n      <th>4</th>\n      <td>6524</td>\n      <td>8ebd0c64a3f1833cac7b8191303ea2bbd05682b5&gt;86fde...</td>\n      <td>explicit</td>\n      <td>Two traits are orthogonal when, based on indiv...</td>\n      <td>background</td>\n      <td>neutral</td>\n      <td>neutral</td>\n      <td>{'neg': 0.0, 'neu': 0.935, 'pos': 0.065, 'comp...</td>\n      <td>(pos, 0.7766364321170403, 0.22336356788295983)</td>\n    </tr>\n    <tr>\n      <th>5</th>\n      <td>2543</td>\n      <td>2c0cab0d657f6c225c74736fed02750c381032de&gt;02cdb...</td>\n      <td>explicit</td>\n      <td>These results are similar to other reports [34...</td>\n      <td>result</td>\n      <td>positive</td>\n      <td>positive</td>\n      <td>{'neg': 0.059, 'neu': 0.88, 'pos': 0.062, 'com...</td>\n      <td>(pos, 0.9964398195896027, 0.0035601804103927276)</td>\n    </tr>\n    <tr>\n      <th>6</th>\n      <td>8093</td>\n      <td>7dda92d7dbb1a5f7fc78bba6f81890b3832cb2d6&gt;e6f6f...</td>\n      <td>explicit</td>\n      <td>A type I T-cell gene signature that promotes b...</td>\n      <td>background</td>\n      <td>positive</td>\n      <td>positive</td>\n      <td>{'neg': 0.131, 'neu': 0.73, 'pos': 0.139, 'com...</td>\n      <td>(pos, 0.9057728681437488, 0.0942271318562523)</td>\n    </tr>\n    <tr>\n      <th>7</th>\n      <td>5365</td>\n      <td>9237db18530d0de2e0281e735c10570d7c235b36&gt;14682...</td>\n      <td>explicit</td>\n      <td>Resistance to TB involves macrophages [2,4], d...</td>\n      <td>background</td>\n      <td>positive</td>\n      <td>positive</td>\n      <td>{'neg': 0.0, 'neu': 0.948, 'pos': 0.052, 'comp...</td>\n      <td>(pos, 0.9955546542501073, 0.004445345749895256)</td>\n    </tr>\n    <tr>\n      <th>8</th>\n      <td>4663</td>\n      <td>1ac9706400e1c06a100add4b83a67af503404d8d&gt;1fc59...</td>\n      <td>explicit</td>\n      <td>While the prevalence of hyperechogenicity is o...</td>\n      <td>background</td>\n      <td>positive</td>\n      <td>neutral</td>\n      <td>{'neg': 0.0, 'neu': 0.87, 'pos': 0.13, 'compou...</td>\n      <td>(pos, 0.857541546199535, 0.14245845380046687)</td>\n    </tr>\n    <tr>\n      <th>9</th>\n      <td>3065</td>\n      <td>4f4c6a035c0c28cfe5855a720a8f7a16a401e9f8&gt;0451f...</td>\n      <td>explicit</td>\n      <td>There have been few animal studies on this sub...</td>\n      <td>background</td>\n      <td>negative</td>\n      <td>negative</td>\n      <td>{'neg': 0.0, 'neu': 1.0, 'pos': 0.0, 'compound...</td>\n      <td>(pos, 0.7172959945462293, 0.28270400545377067)</td>\n    </tr>\n    <tr>\n      <th>10</th>\n      <td>372</td>\n      <td>0fd548a07b8d113f5f6a6255abe191668120ac53&gt;74809...</td>\n      <td>explicit</td>\n      <td>Although Arpp/Ankrd2 has been reported to be l...</td>\n      <td>background</td>\n      <td>positive</td>\n      <td>positive</td>\n      <td>{'neg': 0.0, 'neu': 1.0, 'pos': 0.0, 'compound...</td>\n      <td>(pos, 0.9762558782839142, 0.023744121716083557)</td>\n    </tr>\n    <tr>\n      <th>11</th>\n      <td>6346</td>\n      <td>4289898ef10c52412dd2ee16e35ae8ae4954552f&gt;2b2ac...</td>\n      <td>explicit</td>\n      <td>…memory\\nINTRODUCTION\\nEmerging studies have s...</td>\n      <td>background</td>\n      <td>positive</td>\n      <td>positive</td>\n      <td>{'neg': 0.036, 'neu': 0.964, 'pos': 0.0, 'comp...</td>\n      <td>(pos, 0.999565424764716, 0.00043457523528077504)</td>\n    </tr>\n    <tr>\n      <th>12</th>\n      <td>2343</td>\n      <td>70b1e174c0d26a6262355e3891c2655559f79122&gt;45e3f...</td>\n      <td>explicit</td>\n      <td>The prognosis of FVPTC in our study was excell...</td>\n      <td>result</td>\n      <td>positive</td>\n      <td>positive</td>\n      <td>{'neg': 0.0, 'neu': 0.927, 'pos': 0.073, 'comp...</td>\n      <td>(pos, 0.9998177994906067, 0.00018220050939675152)</td>\n    </tr>\n    <tr>\n      <th>13</th>\n      <td>600</td>\n      <td>9a068a63f5ae85227863a972c7204903fdcca978&gt;73619...</td>\n      <td>explicit</td>\n      <td>In addition to expression in the fetus, Igf2 i...</td>\n      <td>background</td>\n      <td>neutral</td>\n      <td>neutral</td>\n      <td>{'neg': 0.0, 'neu': 1.0, 'pos': 0.0, 'compound...</td>\n      <td>(pos, 0.8087941318121952, 0.19120586818780427)</td>\n    </tr>\n    <tr>\n      <th>14</th>\n      <td>3791</td>\n      <td>af794c74a2bfd33336bca2a410ed42a978d98a89&gt;69157...</td>\n      <td>explicit</td>\n      <td>Other studies suggest that altering affinity t...</td>\n      <td>background</td>\n      <td>positive</td>\n      <td>neutral</td>\n      <td>{'neg': 0.055, 'neu': 0.945, 'pos': 0.0, 'comp...</td>\n      <td>(pos, 0.9996784350973744, 0.0003215649026292492)</td>\n    </tr>\n    <tr>\n      <th>15</th>\n      <td>6315</td>\n      <td>ae1a3173131628123ac7c7579045aa96006c9485&gt;6220e...</td>\n      <td>explicit</td>\n      <td>Although our cohort also consisted of treatmen...</td>\n      <td>result</td>\n      <td>negative</td>\n      <td>negative</td>\n      <td>{'neg': 0.0, 'neu': 0.945, 'pos': 0.055, 'comp...</td>\n      <td>(pos, 0.9848593082223132, 0.015140691777683249)</td>\n    </tr>\n    <tr>\n      <th>16</th>\n      <td>7737</td>\n      <td>d388588cbc8aef4f1eba7b56f1571191370f6e75&gt;7348e...</td>\n      <td>explicit</td>\n      <td>These study areas have all been managed in the...</td>\n      <td>background</td>\n      <td>neutral</td>\n      <td>neutral</td>\n      <td>{'neg': 0.0, 'neu': 1.0, 'pos': 0.0, 'compound...</td>\n      <td>(pos, 0.9980201410172951, 0.0019798589827116774)</td>\n    </tr>\n    <tr>\n      <th>17</th>\n      <td>7162</td>\n      <td>e9a4a6cec8b4a268ecd991a9f92700ce1a8960a5&gt;3ef88...</td>\n      <td>explicit</td>\n      <td>Assessing Risk of Bias\\nCritical appraisal of ...</td>\n      <td>method</td>\n      <td>neutral</td>\n      <td>neutral</td>\n      <td>{'neg': 0.122, 'neu': 0.783, 'pos': 0.096, 'co...</td>\n      <td>(pos, 0.9998046597903255, 0.00019534020967395898)</td>\n    </tr>\n    <tr>\n      <th>18</th>\n      <td>3758</td>\n      <td>ea5e02b640e8b354ca4c997f2358a1da8837fc19&gt;2f0f0...</td>\n      <td>explicit</td>\n      <td>A retrospective cohort study abstracted medica...</td>\n      <td>background</td>\n      <td>neutral</td>\n      <td>neutral</td>\n      <td>{'neg': 0.0, 'neu': 0.833, 'pos': 0.167, 'comp...</td>\n      <td>(pos, 0.7747089503156659, 0.22529104968433494)</td>\n    </tr>\n    <tr>\n      <th>19</th>\n      <td>8208</td>\n      <td>b4bafb8c1ff27c29f0ecef6caa775a0f2d86db00&gt;79b28...</td>\n      <td>explicit</td>\n      <td>Cancer cells usually have a different genome s...</td>\n      <td>background</td>\n      <td>neutral</td>\n      <td>neutral</td>\n      <td>{'neg': 0.15, 'neu': 0.85, 'pos': 0.0, 'compou...</td>\n      <td>(pos, 0.9762772830360156, 0.023722716963980813)</td>\n    </tr>\n    <tr>\n      <th>20</th>\n      <td>2397</td>\n      <td>387a4968c48a7f86693bcc455beffa97943cd445&gt;3fdc8...</td>\n      <td>explicit</td>\n      <td>%) was a close relative (at 97% identity) of t...</td>\n      <td>background</td>\n      <td>neutral</td>\n      <td>neutral</td>\n      <td>{'neg': 0.041, 'neu': 0.959, 'pos': 0.0, 'comp...</td>\n      <td>(neg, 0.30610500218940334, 0.6938949978105958)</td>\n    </tr>\n    <tr>\n      <th>21</th>\n      <td>2542</td>\n      <td>4ba2e2317d3211666340f58f90efc051a3503bef&gt;2a8c2...</td>\n      <td>explicit</td>\n      <td>Moreover, phytochelatins have been found to be...</td>\n      <td>background</td>\n      <td>positive</td>\n      <td>neutral</td>\n      <td>{'neg': 0.177, 'neu': 0.679, 'pos': 0.144, 'co...</td>\n      <td>(pos, 0.7750549045265896, 0.22494509547340819)</td>\n    </tr>\n    <tr>\n      <th>22</th>\n      <td>4697</td>\n      <td>743a1befaf5e2cd2e5a9162432909b221a1e695c&gt;8bd0c...</td>\n      <td>explicit</td>\n      <td>One of the key concerns by induction of reprog...</td>\n      <td>background</td>\n      <td>neutral</td>\n      <td>neutral</td>\n      <td>{'neg': 0.0, 'neu': 1.0, 'pos': 0.0, 'compound...</td>\n      <td>(pos, 0.953644059972674, 0.04635594002732383)</td>\n    </tr>\n    <tr>\n      <th>23</th>\n      <td>3954</td>\n      <td>37e4db73f2c3fa01c121afef0a938656bc03cebd&gt;447b2...</td>\n      <td>explicit</td>\n      <td>In [1] and [2], a multilayer directory structu...</td>\n      <td>background</td>\n      <td>neutral</td>\n      <td>positive</td>\n      <td>{'neg': 0.0, 'neu': 0.906, 'pos': 0.094, 'comp...</td>\n      <td>(pos, 0.9331308148402522, 0.06686918515974714)</td>\n    </tr>\n    <tr>\n      <th>24</th>\n      <td>5098</td>\n      <td>eafafc708296c462edc9294e1b8f3b1dd3f4dffc&gt;8f125...</td>\n      <td>explicit</td>\n      <td>…difference between aspirated and lenis is mer...</td>\n      <td>background</td>\n      <td>neutral</td>\n      <td>neutral</td>\n      <td>{'neg': 0.048, 'neu': 0.952, 'pos': 0.0, 'comp...</td>\n      <td>(neg, 0.05334283633013736, 0.9466571636698655)</td>\n    </tr>\n  </tbody>\n</table>\n</div>"
     },
     "execution_count": 19,
     "metadata": {},
     "output_type": "execute_result"
    }
   ],
   "source": [
    "m_df_annotated"
   ],
   "metadata": {
    "collapsed": false,
    "pycharm": {
     "name": "#%%\n"
    }
   }
  }
 ],
 "metadata": {
  "kernelspec": {
   "display_name": "Python 3 (ipykernel)",
   "language": "python",
   "name": "python3"
  },
  "language_info": {
   "codemirror_mode": {
    "name": "ipython",
    "version": 3
   },
   "file_extension": ".py",
   "mimetype": "text/x-python",
   "name": "python",
   "nbconvert_exporter": "python",
   "pygments_lexer": "ipython3",
   "version": "3.9.7"
  }
 },
 "nbformat": 4,
 "nbformat_minor": 5
}