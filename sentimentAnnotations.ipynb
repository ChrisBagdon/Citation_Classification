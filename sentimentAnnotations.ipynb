{
 "cells": [
  {
   "cell_type": "code",
   "execution_count": 1,
   "id": "d7a6ed2d",
   "metadata": {
    "pycharm": {
     "name": "#%%\n"
    }
   },
   "outputs": [],
   "source": [
    "import numpy as np\n",
    "import pandas as pd"
   ]
  },
  {
   "cell_type": "code",
   "execution_count": 2,
   "id": "f300bf58",
   "metadata": {
    "pycharm": {
     "name": "#%%\n"
    }
   },
   "outputs": [
    {
     "data": {
      "text/plain": "                                       citingPaperID    source  \\\n0  1872080baa7d30ec8fb87be9a65358cd3a7fb649>894be...  explicit   \n1  ce1d09a4a3a8d7fd3405b9328f65f00c952cf64b>b6642...  explicit   \n2  9cdf605beb1aa1078f235c4332b3024daa8b31dc>4e6a1...  explicit   \n3  d9f3207db0c79a3b154f3875c9760cc6b056904b>2cc6f...  explicit   \n4  88b86556857f4374842d2af2e359576806239175>a5bb0...  explicit   \n\n                                              string       label  \n0  However, how frataxin interacts with the Fe-S ...  background  \n1  In the study by Hickey et al. (2012), spikes w...  background  \n2  The drug also reduces catecholamine secretion,...  background  \n3  By clustering with lowly aggressive close kin ...  background  \n4  Ophthalmic symptoms are rare manifestations of...  background  ",
      "text/html": "<div>\n<style scoped>\n    .dataframe tbody tr th:only-of-type {\n        vertical-align: middle;\n    }\n\n    .dataframe tbody tr th {\n        vertical-align: top;\n    }\n\n    .dataframe thead th {\n        text-align: right;\n    }\n</style>\n<table border=\"1\" class=\"dataframe\">\n  <thead>\n    <tr style=\"text-align: right;\">\n      <th></th>\n      <th>citingPaperID</th>\n      <th>source</th>\n      <th>string</th>\n      <th>label</th>\n    </tr>\n  </thead>\n  <tbody>\n    <tr>\n      <th>0</th>\n      <td>1872080baa7d30ec8fb87be9a65358cd3a7fb649&gt;894be...</td>\n      <td>explicit</td>\n      <td>However, how frataxin interacts with the Fe-S ...</td>\n      <td>background</td>\n    </tr>\n    <tr>\n      <th>1</th>\n      <td>ce1d09a4a3a8d7fd3405b9328f65f00c952cf64b&gt;b6642...</td>\n      <td>explicit</td>\n      <td>In the study by Hickey et al. (2012), spikes w...</td>\n      <td>background</td>\n    </tr>\n    <tr>\n      <th>2</th>\n      <td>9cdf605beb1aa1078f235c4332b3024daa8b31dc&gt;4e6a1...</td>\n      <td>explicit</td>\n      <td>The drug also reduces catecholamine secretion,...</td>\n      <td>background</td>\n    </tr>\n    <tr>\n      <th>3</th>\n      <td>d9f3207db0c79a3b154f3875c9760cc6b056904b&gt;2cc6f...</td>\n      <td>explicit</td>\n      <td>By clustering with lowly aggressive close kin ...</td>\n      <td>background</td>\n    </tr>\n    <tr>\n      <th>4</th>\n      <td>88b86556857f4374842d2af2e359576806239175&gt;a5bb0...</td>\n      <td>explicit</td>\n      <td>Ophthalmic symptoms are rare manifestations of...</td>\n      <td>background</td>\n    </tr>\n  </tbody>\n</table>\n</div>"
     },
     "execution_count": 2,
     "metadata": {},
     "output_type": "execute_result"
    }
   ],
   "source": [
    "### Read in training dataset (TSV)\n",
    "# Filepath will be different; set to repo's filepath when we add the corpus files\n",
    "train_tsv = pd.read_csv('scicite/tsv/train.tsv', sep='\\t', \n",
    "                       names=[\"citingPaperID\", \"source\", \"string\", \"label\"]\n",
    "                       )\n",
    "train_tsv.head()"
   ]
  },
  {
   "cell_type": "code",
   "execution_count": 3,
   "id": "3aeb91a4",
   "metadata": {
    "pycharm": {
     "name": "#%%\n"
    }
   },
   "outputs": [],
   "source": [
    "### Getting samples of the data for sentiment annotating\n",
    "train_sentiment = train_tsv.copy()\n",
    "\n",
    "# Chris' subset\n",
    "c_sample = train_sentiment['string'].sample(n=50, random_state=1)\n",
    "c_index = list(c_sample.index)\n",
    "\n",
    "train_sentiment = train_sentiment.drop(c_index)\n",
    "\n",
    "# Daniel's subset\n",
    "d_sample = train_sentiment['string'].sample(n=50, random_state=1)\n",
    "d_index = list(d_sample.index)\n",
    "\n",
    "train_sentiment = train_sentiment.drop(d_index)\n",
    "\n",
    "# Mutual subset (for IAA score)\n",
    "m_sample = train_sentiment['string'].sample(n=25, random_state=1)\n",
    "m_index = list(m_sample.index)"
   ]
  },
  {
   "cell_type": "code",
   "execution_count": 4,
   "id": "38795302",
   "metadata": {
    "pycharm": {
     "name": "#%%\n"
    }
   },
   "outputs": [
    {
     "data": {
      "text/plain": "                                          citingPaperID    source  \\\n2305  f6e7d88342d23cdc6dc959b16106b6bb05fa807a>0fee7...  explicit   \n3210  51439b498621806aa3a915fdbd4aa983473da397>6eb72...  explicit   \n4484  64cf98067d1cadda174e5ffa24fc45a6b3e6426f>2d04a...  explicit   \n5821  9b6d433ab5104713ee41fbeb24b4d0f2b82fe587>95158...  explicit   \n3514  15ac5bcd9ca900dc948e969558670084e3d560e0>5297c...  explicit   \n\n                                                 string       label sentiment  \n2305  Utilizing gain-offunction assays, we demonstra...      method            \n3210  maticity, refractoriness and conduction of the...  background            \n4484  For reovirus 1/L-induced ARDS, at day 9 postin...  background            \n5821  Besides that, no ameliorate impacts have been ...  background            \n3514  However, limited information is available abou...  background            ",
      "text/html": "<div>\n<style scoped>\n    .dataframe tbody tr th:only-of-type {\n        vertical-align: middle;\n    }\n\n    .dataframe tbody tr th {\n        vertical-align: top;\n    }\n\n    .dataframe thead th {\n        text-align: right;\n    }\n</style>\n<table border=\"1\" class=\"dataframe\">\n  <thead>\n    <tr style=\"text-align: right;\">\n      <th></th>\n      <th>citingPaperID</th>\n      <th>source</th>\n      <th>string</th>\n      <th>label</th>\n      <th>sentiment</th>\n    </tr>\n  </thead>\n  <tbody>\n    <tr>\n      <th>2305</th>\n      <td>f6e7d88342d23cdc6dc959b16106b6bb05fa807a&gt;0fee7...</td>\n      <td>explicit</td>\n      <td>Utilizing gain-offunction assays, we demonstra...</td>\n      <td>method</td>\n      <td></td>\n    </tr>\n    <tr>\n      <th>3210</th>\n      <td>51439b498621806aa3a915fdbd4aa983473da397&gt;6eb72...</td>\n      <td>explicit</td>\n      <td>maticity, refractoriness and conduction of the...</td>\n      <td>background</td>\n      <td></td>\n    </tr>\n    <tr>\n      <th>4484</th>\n      <td>64cf98067d1cadda174e5ffa24fc45a6b3e6426f&gt;2d04a...</td>\n      <td>explicit</td>\n      <td>For reovirus 1/L-induced ARDS, at day 9 postin...</td>\n      <td>background</td>\n      <td></td>\n    </tr>\n    <tr>\n      <th>5821</th>\n      <td>9b6d433ab5104713ee41fbeb24b4d0f2b82fe587&gt;95158...</td>\n      <td>explicit</td>\n      <td>Besides that, no ameliorate impacts have been ...</td>\n      <td>background</td>\n      <td></td>\n    </tr>\n    <tr>\n      <th>3514</th>\n      <td>15ac5bcd9ca900dc948e969558670084e3d560e0&gt;5297c...</td>\n      <td>explicit</td>\n      <td>However, limited information is available abou...</td>\n      <td>background</td>\n      <td></td>\n    </tr>\n  </tbody>\n</table>\n</div>"
     },
     "execution_count": 4,
     "metadata": {},
     "output_type": "execute_result"
    }
   ],
   "source": [
    "# Chris' subset in DataFrame form (for adding a sentiment column/feature)\n",
    "c_df = train_tsv.copy()\n",
    "c_df = c_df.iloc[c_index]\n",
    "c_df['sentiment'] = ['']*50\n",
    "c_df.head()"
   ]
  },
  {
   "cell_type": "code",
   "execution_count": null,
   "outputs": [],
   "source": [
    "c_df.to_csv('annotation_C.csv')"
   ],
   "metadata": {
    "collapsed": false,
    "pycharm": {
     "name": "#%%\n"
    }
   }
  },
  {
   "cell_type": "code",
   "execution_count": 7,
   "outputs": [
    {
     "data": {
      "text/plain": "   Unnamed: 0                                      citingPaperID    source  \\\n0        2305  f6e7d88342d23cdc6dc959b16106b6bb05fa807a>0fee7...  explicit   \n1        3210  51439b498621806aa3a915fdbd4aa983473da397>6eb72...  explicit   \n2        4484  64cf98067d1cadda174e5ffa24fc45a6b3e6426f>2d04a...  explicit   \n3        5821  9b6d433ab5104713ee41fbeb24b4d0f2b82fe587>95158...  explicit   \n4        3514  15ac5bcd9ca900dc948e969558670084e3d560e0>5297c...  explicit   \n\n                                              string       label sentiment  \n0  Utilizing gain-offunction assays, we demonstra...      method  positive  \n1  maticity, refractoriness and conduction of the...  background   neutral  \n2  For reovirus 1/L-induced ARDS, at day 9 postin...  background   neutral  \n3  Besides that, no ameliorate impacts have been ...  background  negative  \n4  However, limited information is available abou...  background  negative  ",
      "text/html": "<div>\n<style scoped>\n    .dataframe tbody tr th:only-of-type {\n        vertical-align: middle;\n    }\n\n    .dataframe tbody tr th {\n        vertical-align: top;\n    }\n\n    .dataframe thead th {\n        text-align: right;\n    }\n</style>\n<table border=\"1\" class=\"dataframe\">\n  <thead>\n    <tr style=\"text-align: right;\">\n      <th></th>\n      <th>Unnamed: 0</th>\n      <th>citingPaperID</th>\n      <th>source</th>\n      <th>string</th>\n      <th>label</th>\n      <th>sentiment</th>\n    </tr>\n  </thead>\n  <tbody>\n    <tr>\n      <th>0</th>\n      <td>2305</td>\n      <td>f6e7d88342d23cdc6dc959b16106b6bb05fa807a&gt;0fee7...</td>\n      <td>explicit</td>\n      <td>Utilizing gain-offunction assays, we demonstra...</td>\n      <td>method</td>\n      <td>positive</td>\n    </tr>\n    <tr>\n      <th>1</th>\n      <td>3210</td>\n      <td>51439b498621806aa3a915fdbd4aa983473da397&gt;6eb72...</td>\n      <td>explicit</td>\n      <td>maticity, refractoriness and conduction of the...</td>\n      <td>background</td>\n      <td>neutral</td>\n    </tr>\n    <tr>\n      <th>2</th>\n      <td>4484</td>\n      <td>64cf98067d1cadda174e5ffa24fc45a6b3e6426f&gt;2d04a...</td>\n      <td>explicit</td>\n      <td>For reovirus 1/L-induced ARDS, at day 9 postin...</td>\n      <td>background</td>\n      <td>neutral</td>\n    </tr>\n    <tr>\n      <th>3</th>\n      <td>5821</td>\n      <td>9b6d433ab5104713ee41fbeb24b4d0f2b82fe587&gt;95158...</td>\n      <td>explicit</td>\n      <td>Besides that, no ameliorate impacts have been ...</td>\n      <td>background</td>\n      <td>negative</td>\n    </tr>\n    <tr>\n      <th>4</th>\n      <td>3514</td>\n      <td>15ac5bcd9ca900dc948e969558670084e3d560e0&gt;5297c...</td>\n      <td>explicit</td>\n      <td>However, limited information is available abou...</td>\n      <td>background</td>\n      <td>negative</td>\n    </tr>\n  </tbody>\n</table>\n</div>"
     },
     "execution_count": 7,
     "metadata": {},
     "output_type": "execute_result"
    }
   ],
   "source": [
    "c_df_annotated = pd.read_csv('annotated_C.csv')\n",
    "c_df_annotated.head()"
   ],
   "metadata": {
    "collapsed": false,
    "pycharm": {
     "name": "#%%\n"
    }
   }
  },
  {
   "cell_type": "code",
   "execution_count": 47,
   "id": "cb8a25ea",
   "metadata": {
    "pycharm": {
     "name": "#%%\n"
    }
   },
   "outputs": [
    {
     "data": {
      "text/html": [
       "<div>\n",
       "<style scoped>\n",
       "    .dataframe tbody tr th:only-of-type {\n",
       "        vertical-align: middle;\n",
       "    }\n",
       "\n",
       "    .dataframe tbody tr th {\n",
       "        vertical-align: top;\n",
       "    }\n",
       "\n",
       "    .dataframe thead th {\n",
       "        text-align: right;\n",
       "    }\n",
       "</style>\n",
       "<table border=\"1\" class=\"dataframe\">\n",
       "  <thead>\n",
       "    <tr style=\"text-align: right;\">\n",
       "      <th></th>\n",
       "      <th>citingPaperID</th>\n",
       "      <th>source</th>\n",
       "      <th>string</th>\n",
       "      <th>label</th>\n",
       "      <th>sentiment</th>\n",
       "    </tr>\n",
       "  </thead>\n",
       "  <tbody>\n",
       "    <tr>\n",
       "      <th>3923</th>\n",
       "      <td>6828a9cc19290ccd8cc99ccc678a042b00d92125&gt;26cad...</td>\n",
       "      <td>explicit</td>\n",
       "      <td>The relationship between DNA content and absor...</td>\n",
       "      <td>background</td>\n",
       "      <td></td>\n",
       "    </tr>\n",
       "    <tr>\n",
       "      <th>4306</th>\n",
       "      <td>5cecd1d9932d3f269b1caa45d07e84e3376c3710&gt;9a0f5...</td>\n",
       "      <td>explicit</td>\n",
       "      <td>With respect to the contradicting results of o...</td>\n",
       "      <td>result</td>\n",
       "      <td></td>\n",
       "    </tr>\n",
       "    <tr>\n",
       "      <th>4960</th>\n",
       "      <td>1890ccd4d2a4d542ba24081b593ab8060e38f101&gt;12732...</td>\n",
       "      <td>explicit</td>\n",
       "      <td>We elected to take this course because formal ...</td>\n",
       "      <td>method</td>\n",
       "      <td></td>\n",
       "    </tr>\n",
       "    <tr>\n",
       "      <th>6921</th>\n",
       "      <td>e2e9ce75aab15707ff3b85378b61f161c0b7886a&gt;39688...</td>\n",
       "      <td>explicit</td>\n",
       "      <td>Nuclear localization of PTOV1 is required for ...</td>\n",
       "      <td>background</td>\n",
       "      <td></td>\n",
       "    </tr>\n",
       "    <tr>\n",
       "      <th>3526</th>\n",
       "      <td>afe94f58975df56a9c0450c8153c2dd43d0b597b&gt;ec694...</td>\n",
       "      <td>explicit</td>\n",
       "      <td>The remaining medial portion of the bone was p...</td>\n",
       "      <td>method</td>\n",
       "      <td></td>\n",
       "    </tr>\n",
       "  </tbody>\n",
       "</table>\n",
       "</div>"
      ],
      "text/plain": [
       "                                          citingPaperID    source  \\\n",
       "3923  6828a9cc19290ccd8cc99ccc678a042b00d92125>26cad...  explicit   \n",
       "4306  5cecd1d9932d3f269b1caa45d07e84e3376c3710>9a0f5...  explicit   \n",
       "4960  1890ccd4d2a4d542ba24081b593ab8060e38f101>12732...  explicit   \n",
       "6921  e2e9ce75aab15707ff3b85378b61f161c0b7886a>39688...  explicit   \n",
       "3526  afe94f58975df56a9c0450c8153c2dd43d0b597b>ec694...  explicit   \n",
       "\n",
       "                                                 string       label sentiment  \n",
       "3923  The relationship between DNA content and absor...  background            \n",
       "4306  With respect to the contradicting results of o...      result            \n",
       "4960  We elected to take this course because formal ...      method            \n",
       "6921  Nuclear localization of PTOV1 is required for ...  background            \n",
       "3526  The remaining medial portion of the bone was p...      method            "
      ]
     },
     "execution_count": 47,
     "metadata": {},
     "output_type": "execute_result"
    }
   ],
   "source": [
    "# Daniel's subset in DataFrame form (for adding a sentiment column/feature)\n",
    "d_df = train_tsv.copy()\n",
    "d_df = d_df.iloc[d_index]\n",
    "d_df['sentiment'] = ['']*50\n",
    "d_df.head()"
   ]
  },
  {
   "cell_type": "code",
   "execution_count": 9,
   "id": "efd3de41",
   "metadata": {
    "pycharm": {
     "name": "#%%\n"
    }
   },
   "outputs": [
    {
     "data": {
      "text/plain": "                                          citingPaperID    source  \\\n7792  0244de3610992df3e77b65de794861810a673a48>89634...  explicit   \n3733  f98fa4590950e29e660b3d3179a7bb570ee4e132>cf4b7...  explicit   \n1237  bc103d96366ec97e0dd620894bbb04c8849eb772>919a7...  explicit   \n7052  e3450e8ca6d743f04a1ad41297ab59eeb82299b4>b5fcd...  explicit   \n6524  8ebd0c64a3f1833cac7b8191303ea2bbd05682b5>86fde...  explicit   \n\n                                                 string       label  \\\n7792  The self-report component measures interpretat...  background   \n3733  The age of giant nupDNA fragment A was calcula...      method   \n1237  Two representative software of this type are s...      method   \n7052  How are Bcl-2 and Mcl-1 levels regulated in a ...  background   \n6524  Two traits are orthogonal when, based on indiv...  background   \n\n     sentiment_chris sentiment_daniel  \n7792                                   \n3733                                   \n1237                                   \n7052                                   \n6524                                   ",
      "text/html": "<div>\n<style scoped>\n    .dataframe tbody tr th:only-of-type {\n        vertical-align: middle;\n    }\n\n    .dataframe tbody tr th {\n        vertical-align: top;\n    }\n\n    .dataframe thead th {\n        text-align: right;\n    }\n</style>\n<table border=\"1\" class=\"dataframe\">\n  <thead>\n    <tr style=\"text-align: right;\">\n      <th></th>\n      <th>citingPaperID</th>\n      <th>source</th>\n      <th>string</th>\n      <th>label</th>\n      <th>sentiment_chris</th>\n      <th>sentiment_daniel</th>\n    </tr>\n  </thead>\n  <tbody>\n    <tr>\n      <th>7792</th>\n      <td>0244de3610992df3e77b65de794861810a673a48&gt;89634...</td>\n      <td>explicit</td>\n      <td>The self-report component measures interpretat...</td>\n      <td>background</td>\n      <td></td>\n      <td></td>\n    </tr>\n    <tr>\n      <th>3733</th>\n      <td>f98fa4590950e29e660b3d3179a7bb570ee4e132&gt;cf4b7...</td>\n      <td>explicit</td>\n      <td>The age of giant nupDNA fragment A was calcula...</td>\n      <td>method</td>\n      <td></td>\n      <td></td>\n    </tr>\n    <tr>\n      <th>1237</th>\n      <td>bc103d96366ec97e0dd620894bbb04c8849eb772&gt;919a7...</td>\n      <td>explicit</td>\n      <td>Two representative software of this type are s...</td>\n      <td>method</td>\n      <td></td>\n      <td></td>\n    </tr>\n    <tr>\n      <th>7052</th>\n      <td>e3450e8ca6d743f04a1ad41297ab59eeb82299b4&gt;b5fcd...</td>\n      <td>explicit</td>\n      <td>How are Bcl-2 and Mcl-1 levels regulated in a ...</td>\n      <td>background</td>\n      <td></td>\n      <td></td>\n    </tr>\n    <tr>\n      <th>6524</th>\n      <td>8ebd0c64a3f1833cac7b8191303ea2bbd05682b5&gt;86fde...</td>\n      <td>explicit</td>\n      <td>Two traits are orthogonal when, based on indiv...</td>\n      <td>background</td>\n      <td></td>\n      <td></td>\n    </tr>\n  </tbody>\n</table>\n</div>"
     },
     "execution_count": 9,
     "metadata": {},
     "output_type": "execute_result"
    }
   ],
   "source": [
    "# Mutual subset in DataFrame form (for adding IAA sentiment annotations)\n",
    "m_df = train_tsv.copy()\n",
    "m_df = m_df.iloc[m_index]\n",
    "m_df['sentiment_chris'] = ['']*25\n",
    "m_df['sentiment_daniel'] = ['']*25\n",
    "m_df.head()"
   ]
  },
  {
   "cell_type": "code",
   "execution_count": 10,
   "outputs": [],
   "source": [
    "m_df.to_csv('annotation_m.csv')"
   ],
   "metadata": {
    "collapsed": false,
    "pycharm": {
     "name": "#%%\n"
    }
   }
  },
  {
   "cell_type": "code",
   "execution_count": null,
   "id": "4fa50c25",
   "metadata": {
    "pycharm": {
     "name": "#%%\n"
    }
   },
   "outputs": [],
   "source": []
  },
  {
   "cell_type": "code",
   "execution_count": 5,
   "outputs": [],
   "source": [],
   "metadata": {
    "collapsed": false,
    "pycharm": {
     "name": "#%%\n"
    }
   }
  }
 ],
 "metadata": {
  "kernelspec": {
   "display_name": "Python 3 (ipykernel)",
   "language": "python",
   "name": "python3"
  },
  "language_info": {
   "codemirror_mode": {
    "name": "ipython",
    "version": 3
   },
   "file_extension": ".py",
   "mimetype": "text/x-python",
   "name": "python",
   "nbconvert_exporter": "python",
   "pygments_lexer": "ipython3",
   "version": "3.9.7"
  }
 },
 "nbformat": 4,
 "nbformat_minor": 5
}