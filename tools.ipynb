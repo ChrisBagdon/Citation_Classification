{
  "nbformat": 4,
  "nbformat_minor": 0,
  "metadata": {
    "colab": {
      "name": "tools.ipynb",
      "provenance": [],
      "authorship_tag": "ABX9TyM2haVmCY50Z2W2Q7078JBB",
      "include_colab_link": true
    },
    "kernelspec": {
      "name": "python3",
      "display_name": "Python 3"
    },
    "language_info": {
      "name": "python"
    }
  },
  "cells": [
    {
      "cell_type": "markdown",
      "metadata": {
        "id": "view-in-github",
        "colab_type": "text"
      },
      "source": [
        "<a href=\"https://colab.research.google.com/github/ChrisBagdon/Citation_Classification/blob/main/tools.ipynb\" target=\"_parent\"><img src=\"https://colab.research.google.com/assets/colab-badge.svg\" alt=\"Open In Colab\"/></a>"
      ]
    },
    {
      "cell_type": "code",
      "source": [
        "from string import punctuation\n",
        "from math import log"
      ],
      "metadata": {
        "id": "xpJHlwHakRy5"
      },
      "execution_count": 2,
      "outputs": []
    },
    {
      "cell_type": "code",
      "execution_count": 1,
      "metadata": {
        "id": "kCQhwgzRiA5C"
      },
      "outputs": [],
      "source": [
        "text = \"By clustering with lowly aggressive close kin (King 1989a,b; Viblanc et al. 2010; Arnaud, Dobson & Murie 2012), breeding females may decrease the time/energy cost of maintaining territorial boundaries (Festa-Bianchet & Boag 1982; Murie & Harris 1988), which could ultimately lead to increases in net energy income (TA) or higher allocations in somatic or reproductive functions.\""
      ]
    },
    {
      "cell_type": "code",
      "source": [
        "tokens = {}"
      ],
      "metadata": {
        "id": "NBobkWpckjCT"
      },
      "execution_count": 27,
      "outputs": []
    },
    {
      "cell_type": "code",
      "source": [
        "def tokenize(text, tokens):\n",
        "  cur_token =\"\"\n",
        "  for char in text:\n",
        "    # Check if is apart of token\n",
        "    if char.isalnum() or char == \"'\":\n",
        "      cur_token += char\n",
        "      continue\n",
        "    # Check for space\n",
        "    elif char == \" \":\n",
        "      if len(cur_token) > 0:\n",
        "        if cur_token in tokens:\n",
        "          tokens[cur_token] += 1\n",
        "          cur_token = \"\"\n",
        "          continue\n",
        "        else:\n",
        "          tokens[cur_token] = 1\n",
        "          cur_token = \"\"\n",
        "          continue\n",
        "    # Check if punctuation\n",
        "    else:\n",
        "      if len(cur_token) > 0:\n",
        "        if cur_token in tokens:\n",
        "          tokens[cur_token] += 1\n",
        "          cur_token = \"\"\n",
        "        else:\n",
        "          tokens[cur_token] = 1\n",
        "          cur_token = \"\"\n",
        "      if char in tokens:\n",
        "        tokens[char] += 1\n",
        "        continue\n",
        "      else:\n",
        "        tokens[char] = 1\n",
        "        continue\n",
        "\n"
      ],
      "metadata": {
        "id": "CX6pYen8ifHG"
      },
      "execution_count": 26,
      "outputs": []
    },
    {
      "cell_type": "code",
      "source": [
        "tokenize(text, tokens)"
      ],
      "metadata": {
        "id": "pVmzIP3xnDoi"
      },
      "execution_count": 28,
      "outputs": []
    },
    {
      "cell_type": "code",
      "source": [
        "text_2 = \"Ophthalmic symptoms are rare manifestations of the intracranial arachnoid cyst, and include unilateral exophthalmos, visual field abnormality, decreased visual acuity and isolated palsies of the third, fourth and sixth cranial nerves [1–5].\""
      ],
      "metadata": {
        "id": "9aQFDG0ynLDv"
      },
      "execution_count": 29,
      "outputs": []
    },
    {
      "cell_type": "code",
      "source": [
        "tokenize(text_2, tokens)"
      ],
      "metadata": {
        "id": "mTIqlyUPncnT"
      },
      "execution_count": 30,
      "outputs": []
    },
    {
      "cell_type": "code",
      "source": [
        "print(tokens.items())"
      ],
      "metadata": {
        "colab": {
          "base_uri": "https://localhost:8080/"
        },
        "id": "uClSzDMulpqk",
        "outputId": "df4fb6c7-835e-46d5-fca4-de644897cc77"
      },
      "execution_count": 31,
      "outputs": [
        {
          "output_type": "stream",
          "name": "stdout",
          "text": [
            "dict_items([('By', 1), ('clustering', 1), ('with', 1), ('lowly', 1), ('aggressive', 1), ('close', 1), ('kin', 1), ('(', 3), ('King', 1), ('1989a', 1), (',', 8), ('b', 1), (';', 3), ('Viblanc', 1), ('et', 1), ('al', 1), ('.', 3), ('2010', 1), ('Arnaud', 1), ('Dobson', 1), ('&', 3), ('Murie', 2), ('2012', 1), (')', 3), ('breeding', 1), ('females', 1), ('may', 1), ('decrease', 1), ('the', 3), ('time', 1), ('/', 1), ('energy', 2), ('cost', 1), ('of', 3), ('maintaining', 1), ('territorial', 1), ('boundaries', 1), ('Festa', 1), ('-', 1), ('Bianchet', 1), ('Boag', 1), ('1982', 1), ('Harris', 1), ('1988', 1), ('which', 1), ('could', 1), ('ultimately', 1), ('lead', 1), ('to', 1), ('increases', 1), ('in', 2), ('net', 1), ('income', 1), ('TA', 1), ('or', 2), ('higher', 1), ('allocations', 1), ('somatic', 1), ('reproductive', 1), ('functions', 1), ('Ophthalmic', 1), ('symptoms', 1), ('are', 1), ('rare', 1), ('manifestations', 1), ('intracranial', 1), ('arachnoid', 1), ('cyst', 1), ('and', 3), ('include', 1), ('unilateral', 1), ('exophthalmos', 1), ('visual', 2), ('field', 1), ('abnormality', 1), ('decreased', 1), ('acuity', 1), ('isolated', 1), ('palsies', 1), ('third', 1), ('fourth', 1), ('sixth', 1), ('cranial', 1), ('nerves', 1), ('[', 1), ('1', 1), ('–', 1), ('5', 1), (']', 1)])\n"
          ]
        }
      ]
    },
    {
      "cell_type": "code",
      "source": [
        "class naive_bayes:\n",
        "  def __init__(self):\n",
        "      self.labels = {}\n",
        "      self.doc_count = 0\n",
        "      self.bin_size = 0\n",
        "  \n",
        "  def train(self, X, Y):\n",
        "    for string, label in zip(X, Y):\n",
        "      # Count instances of labels\n",
        "      if label not in self.labels:\n",
        "        self.labels[label] = {'count':1, 'terms':{}}\n",
        "      else:\n",
        "        self.labels[label]['count'] += 1\n",
        "      # Count tokens from document\n",
        "      tokenize(string, self.labels[label]['terms'])\n",
        "      # Increase total document count\n",
        "      self.doc_count += 1\n",
        "    \n",
        "    # Tally bin_size for smoothing\n",
        "    for label, labels_dic in self.labels.items():\n",
        "      self.bin_size += len(labels_dic['terms'].keys())\n",
        "    # Calculate class statistics\n",
        "    for label, labels_dic in self.labels.items():\n",
        "      # Calculate label prior probability\n",
        "      self.labels[label][\"prior\"] = labels_dic['count'] / self.doc_count\n",
        "      # Save total number of tokens in label + smoothing\n",
        "      self.labels[label][\"term_count\"] = sum(labels_dic['terms'].values()+self.bin_size)\n",
        "      # Calculate probability of each token in label + smoothing\n",
        "      terms = labels_dic['terms'].keys()\n",
        "      self.labels[label][\"term_probs\"] = {term:labels_dic['terms'][term]+1 /\n",
        "                                          labels_dic[\"term_count\"]\n",
        "                                           for term in terms}\n",
        "\n",
        "  def predict(self, X):\n",
        "    predictions = []\n",
        "\n",
        "    for string in X:\n",
        "      tokens = {}\n",
        "      tokenize(string, tokens)\n",
        "      probabilities = []\n",
        "      for label, label_dic in self.labels.items():\n",
        "        prob = sum(log(label_dic[\"term_probs\"][token])*count if token in label_dic\n",
        "                       else log(1/label_dic['term_count'])*count \n",
        "                       for token, count in tokens.items()) \\\n",
        "               + log(label_dic['prior'])\n",
        "        probabilities.append((label, prob))\n",
        "      predictions.append(max(probabilities, key=lambda item:item[1])[0])\n",
        "\n",
        "    return predictions\n",
        "\n",
        "      \n",
        "\n"
      ],
      "metadata": {
        "id": "QATbs-Sf5uEd"
      },
      "execution_count": null,
      "outputs": []
    },
    {
      "cell_type": "code",
      "source": [
        "\n"
      ],
      "metadata": {
        "id": "3URnBWLHoliU"
      },
      "execution_count": null,
      "outputs": []
    }
  ]
}