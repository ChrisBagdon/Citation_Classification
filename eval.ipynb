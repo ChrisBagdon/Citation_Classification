{
 "cells": [
  {
   "cell_type": "markdown",
   "metadata": {
    "colab_type": "text",
    "id": "view-in-github"
   },
   "source": [
    "<a href=\"https://colab.research.google.com/github/ChrisBagdon/Citation_Classification/blob/main/eval.ipynb\" target=\"_parent\"><img src=\"https://colab.research.google.com/assets/colab-badge.svg\" alt=\"Open In Colab\"/></a>"
   ]
  },
  {
   "cell_type": "code",
   "execution_count": 1,
   "metadata": {
    "id": "oXDRwIFumoJ3"
   },
   "outputs": [],
   "source": [
    "import pandas as pd\n",
    "import numpy as np"
   ]
  },
  {
   "cell_type": "code",
   "execution_count": 8,
   "metadata": {
    "id": "8-LNBFYim6dZ"
   },
   "outputs": [],
   "source": [
    "def evaluate(predictions, gold_standard):\n",
    "    # Collect all unique labels from predictions and gold_std\n",
    "    labels_set = set(predictions + gold_standard)\n",
    "    labels = {}\n",
    "    for i, label in enumerate(labels_set):\n",
    "        labels[label] = i\n",
    "    # Create confusion matrix\n",
    "    confusion_matrix = np.zeros((len(labels_set),len(labels_set)))\n",
    "    for pred, gold in zip(predictions, gold_standard):\n",
    "        confusion_matrix[labels[pred]][labels[gold]] += 1\n",
    "    labels_index = list(labels_set); labels_index.append('overall')\n",
    "    columns = []\n",
    "    # Create scores table\n",
    "    scores = pd.DataFrame(np.zeros((len(labels_set), 3)))\n",
    "    scores.columns = ['Precision', 'Recall', 'F1']\n",
    "    overall_TP = 0\n",
    "    # Calculate P, R, F1 and populate scores table\n",
    "    for label in labels_set:\n",
    "        i = labels[label]\n",
    "        scores['Precision'][i] = confusion_matrix[i][i] / np.sum(confusion_matrix, axis=0)[i]\n",
    "        scores['Recall'][i] = confusion_matrix[i][i] / np.sum(confusion_matrix, axis=1)[i]\n",
    "        # Possible error case: P == 0 == R; divide by 0\n",
    "        if scores['Precision'][i] == 0 and scores['Recall'][i] == 0:\n",
    "            scores['F1'][i] = 0\n",
    "        else:\n",
    "            scores['F1'][i] = 2 * (scores['Precision'][i]*scores['Recall'][i]/(scores['Precision'][i]+scores['Recall'][i]))\n",
    "        overall_TP += confusion_matrix[i][i]\n",
    "    scores.loc[len(labels_set)] = [overall_TP / np.sum(confusion_matrix)] * 3\n",
    "    scores.index = labels_index\n",
    "    return (confusion_matrix, scores)"
   ]
  },
  {
   "cell_type": "code",
   "execution_count": 3,
   "metadata": {
    "colab": {
     "base_uri": "https://localhost:8080/"
    },
    "id": "owQz9gdsz2S2",
    "outputId": "67764de7-afa1-4d52-be1b-687d9ba38671"
   },
   "outputs": [],
   "source": [
    "### Saves a scores DataFrame labeled by which model and feature values were used as a CSV\n",
    "# Inputs: scores DataFrame, model_name string, feature_names list\n",
    "# Outputs: model_name_feature_names CSV file\n",
    "def save_scores(scores, model_name, feature_names):\n",
    "    # Create full filepath and pass to df.to_csv\n",
    "    output_directory = 'output_files_CSV/'\n",
    "    filename = model_name\n",
    "    for feature in feature_names:\n",
    "        filename += '_' + feature\n",
    "    filepath = output_directory + filename\n",
    "    scores.to_csv(filepath)"
   ]
  },
  {
   "cell_type": "code",
   "execution_count": 13,
   "metadata": {
    "id": "6ZgDMvTnOHWA"
   },
   "outputs": [
    {
     "name": "stdout",
     "output_type": "stream",
     "text": [
      "         Precision  Recall   F1\n",
      "blue           1.0     1.0  1.0\n",
      "green          1.0     1.0  1.0\n",
      "red            1.0     1.0  1.0\n",
      "overall        1.0     1.0  1.0\n",
      "         Precision  Recall   F1\n",
      "red            0.0     0.0  0.0\n",
      "blue           0.0     0.0  0.0\n",
      "green          0.0     0.0  0.0\n",
      "overall        0.0     0.0  0.0\n",
      "         Precision  Recall   F1\n",
      "blue           0.5     0.5  0.5\n",
      "green          0.5     0.5  0.5\n",
      "red            0.5     0.5  0.5\n",
      "overall        0.5     0.5  0.5\n",
      "         Precision  Recall        F1\n",
      "asdf           NaN     0.0       NaN\n",
      "blue           0.5     1.0  0.666667\n",
      "!@#$           NaN     0.0       NaN\n",
      "1234           NaN     0.0       NaN\n",
      "green          0.5     1.0  0.666667\n",
      "red            0.5     1.0  0.666667\n",
      "overall        0.5     0.5  0.500000\n"
     ]
    },
    {
     "name": "stderr",
     "output_type": "stream",
     "text": [
      "/var/folders/r4/khrk0fgj6kv4zm8547gj8mt40000gn/T/ipykernel_12615/4167707041.py:17: RuntimeWarning: invalid value encountered in double_scalars\n",
      "  scores['Precision'][i] = confusion_matrix[i][i] / np.sum(confusion_matrix, axis=0)[i]\n"
     ]
    }
   ],
   "source": [
    "### Testing evaluate methods\n",
    "Y = ['red','red','green','green','blue','blue']\n",
    "\n",
    "# Prediction-Truth 100% case\n",
    "X_100 = ['red','red','green','green','blue','blue']\n",
    "test_100_confusionMatrix, test_100_scores = evaluate(X_100, Y)\n",
    "print(test_100_scores)\n",
    "\n",
    "# Prediction-Truth 0% case\n",
    "X_0 = ['green', 'green', 'blue', 'blue', 'red', 'red']\n",
    "test_0_confusionMatrix, test_0_scores = evaluate(X_0, Y)\n",
    "print(test_0_scores)\n",
    "\n",
    "# Prediction-Truth 50% case\n",
    "X_50 = ['red', 'green', 'blue', 'green', 'red', 'blue']\n",
    "test_50_confusionMatrix, test_50_scores = evaluate(X_50, Y)\n",
    "print(test_50_scores)\n",
    "\n",
    "# Prediction-Truth varying labels\n",
    "X_diffLabels = ['asdf', 'red', '1234', 'green', '!@#$', 'blue']\n",
    "test_diffLabels_confusionMatrix, test_diffLabels_scores = evaluate(X_diffLabels, Y)\n",
    "print(test_diffLabels_scores)"
   ]
  },
  {
   "cell_type": "code",
   "execution_count": 14,
   "metadata": {},
   "outputs": [
    {
     "name": "stdout",
     "output_type": "stream",
     "text": [
      "[[0. 0. 0. 0. 0. 1.]\n",
      " [0. 1. 0. 0. 0. 0.]\n",
      " [0. 1. 0. 0. 0. 0.]\n",
      " [0. 0. 0. 0. 1. 0.]\n",
      " [0. 0. 0. 0. 1. 0.]\n",
      " [0. 0. 0. 0. 0. 1.]]\n"
     ]
    }
   ],
   "source": [
    "print(test_diffLabels_confusionMatrix)"
   ]
  },
  {
   "cell_type": "code",
   "execution_count": null,
   "metadata": {},
   "outputs": [],
   "source": [
    "# Test save_scores method with three cases above\n"
   ]
  }
 ],
 "metadata": {
  "colab": {
   "collapsed_sections": [],
   "include_colab_link": true,
   "name": "eval.ipynb",
   "provenance": []
  },
  "kernelspec": {
   "display_name": "Python 3 (ipykernel)",
   "language": "python",
   "name": "python3"
  },
  "language_info": {
   "codemirror_mode": {
    "name": "ipython",
    "version": 3
   },
   "file_extension": ".py",
   "mimetype": "text/x-python",
   "name": "python",
   "nbconvert_exporter": "python",
   "pygments_lexer": "ipython3",
   "version": "3.9.7"
  }
 },
 "nbformat": 4,
 "nbformat_minor": 1
}
