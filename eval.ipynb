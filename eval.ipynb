{
  "nbformat": 4,
  "nbformat_minor": 0,
  "metadata": {
    "colab": {
      "name": "eval.ipynb",
      "provenance": [],
      "collapsed_sections": [],
      "include_colab_link": true
    },
    "kernelspec": {
      "name": "python3",
      "display_name": "Python 3"
    },
    "language_info": {
      "name": "python"
    }
  },
  "cells": [
    {
      "cell_type": "markdown",
      "metadata": {
        "id": "view-in-github",
        "colab_type": "text"
      },
      "source": [
        "<a href=\"https://colab.research.google.com/github/ChrisBagdon/Citation_Classification/blob/main/eval.ipynb\" target=\"_parent\"><img src=\"https://colab.research.google.com/assets/colab-badge.svg\" alt=\"Open In Colab\"/></a>"
      ]
    },
    {
      "cell_type": "code",
      "execution_count": 1,
      "metadata": {
        "id": "oXDRwIFumoJ3"
      },
      "outputs": [],
      "source": [
        "import pandas as pd\n",
        "import numpy as np"
      ]
    },
    {
      "cell_type": "code",
      "source": [
        "def evaluate(predictions, gold_standard):\n",
        "  labels_set = set(gold_standard)\n",
        "  labels = {}\n",
        "  for label, i in enumerate(labels_set):\n",
        "    labels[label] = i\n",
        "  confusion_matrix = np.zeros((len(labels),len(labels)))\n",
        "  for pred, gold in zip(predictions, gold_standard):\n",
        "    confusion_matrix[labels[pred]][labels[gold]] += 1\n",
        "\n",
        "  columns = [\"Precision\", \"Recall\", \"F1-Score\"]\n",
        "  scores = pd.DataFrame(np.zeros((len(labels) + 1, 3)), columns=columns)\n",
        "  overall_TP = 0\n",
        "  for i in len(labels):\n",
        "    precision = confusion_matrix[i][i] / np.sum(confusion_matrix, axis=1)[i]\n",
        "    recall = confusion_matrix[i][i] / np.sum(confusion_matrix, axis=0)[i]\n",
        "    fScore = (2 * precision * recall) / (precision + recall)\n",
        "    label_scores = [precision, recall, fScore]\n",
        "    scores.iloc[i] = label_scores\n",
        "    overall_TP += confusion_matrix[i][i]\n",
        "  scores.iloc[len(labels)] = [overall_TP / np.sum(confusion_matrix)] * 3"
      ],
      "metadata": {
        "id": "8-LNBFYim6dZ"
      },
      "execution_count": null,
      "outputs": []
    },
    {
      "cell_type": "code",
      "source": [
        ""
      ],
      "metadata": {
        "colab": {
          "base_uri": "https://localhost:8080/"
        },
        "id": "owQz9gdsz2S2",
        "outputId": "67764de7-afa1-4d52-be1b-687d9ba38671"
      },
      "execution_count": null,
      "outputs": [
        {
          "output_type": "stream",
          "name": "stdout",
          "text": [
            "fatal: not a git repository (or any of the parent directories): .git\n"
          ]
        }
      ]
    }
  ]
}