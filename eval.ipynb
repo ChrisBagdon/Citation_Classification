{
  "nbformat": 4,
  "nbformat_minor": 0,
  "metadata": {
    "colab": {
      "name": "eval.ipynb",
      "provenance": [],
      "collapsed_sections": [],
      "include_colab_link": true
    },
    "kernelspec": {
      "name": "python3",
      "display_name": "Python 3"
    },
    "language_info": {
      "name": "python"
    }
  },
  "cells": [
    {
      "cell_type": "markdown",
      "metadata": {
        "id": "view-in-github",
        "colab_type": "text"
      },
      "source": [
        "<a href=\"https://colab.research.google.com/github/ChrisBagdon/Citation_Classification/blob/main/eval.ipynb\" target=\"_parent\"><img src=\"https://colab.research.google.com/assets/colab-badge.svg\" alt=\"Open In Colab\"/></a>"
      ]
    },
    {
      "cell_type": "code",
      "execution_count": null,
      "metadata": {
        "id": "oXDRwIFumoJ3"
      },
      "outputs": [],
      "source": [
        "import pandas as pd\n",
        "import numpy as np"
      ]
    },
    {
      "cell_type": "code",
      "source": [
        "def evaluate(predictions, gold_standard):\n",
        "  labels_set = set(gold_standard)\n",
        "  labels = {}\n",
        "  for i, label in enumerate(labels_set):\n",
        "    labels[label] = i\n",
        "  confusion_matrix = np.zeros((len(labels_set),len(labels_set)))\n",
        "  for pred, gold in zip(predictions, gold_standard):\n",
        "    confusion_matrix[labels[pred]][labels[gold]] += 1\n",
        "\n",
        "  columns = []\n",
        "  scores = pd.DataFrame((np.zeros((len(labels_set), 3))))\n",
        "  scores.columns = ['Precision', 'Recall', 'F1']\n",
        "  overall_TP = 0\n",
        "  for label in labels_set:\n",
        "    i = labels[label]\n",
        "    scores['Precision'][i] = confusion_matrix[i][i] / np.sum(confusion_matrix, axis=0)[i]\n",
        "    scores['Recall'][i] = confusion_matrix[i][i] / np.sum(confusion_matrix, axis=1)[i]\n",
        "    scores['F1'][i] = 2 * (scores['Precision'][i]*scores['Recall'][i]/(scores['Precision'][i]+scores['Recall'][i]))\n",
        "    overall_TP += confusion_matrix[i][i]\n",
        "  scores.loc[len(labels_set)] = [overall_TP / np.sum(confusion_matrix)] * 3\n",
        "  return (confusion_matrix, scores)  "
      ],
      "metadata": {
        "id": "8-LNBFYim6dZ"
      },
      "execution_count": null,
      "outputs": []
    },
    {
      "cell_type": "code",
      "source": [
        "def save_scores(scores):\n",
        "  "
      ],
      "metadata": {
        "colab": {
          "base_uri": "https://localhost:8080/"
        },
        "id": "owQz9gdsz2S2",
        "outputId": "67764de7-afa1-4d52-be1b-687d9ba38671"
      },
      "execution_count": null,
      "outputs": [
        {
          "output_type": "stream",
          "name": "stdout",
          "text": [
            "fatal: not a git repository (or any of the parent directories): .git\n"
          ]
        }
      ]
    },
    {
      "cell_type": "code",
      "source": [
        "X = ['red','red','green','green','blue','blue']\n",
        "Y = ['red','red','green','green','blue','blue']"
      ],
      "metadata": {
        "id": "6ZgDMvTnOHWA"
      },
      "execution_count": null,
      "outputs": []
    },
    {
      "cell_type": "code",
      "source": [
        "print(evaluate(X,Y)[1])"
      ],
      "metadata": {
        "colab": {
          "base_uri": "https://localhost:8080/"
        },
        "id": "EcxY7y1kOcj4",
        "outputId": "7c79692b-3d31-4cf5-b6b8-9cb67ccfc71c"
      },
      "execution_count": null,
      "outputs": [
        {
          "output_type": "stream",
          "name": "stdout",
          "text": [
            "   Precision  Recall   F1\n",
            "0        1.0     1.0  1.0\n",
            "1        1.0     1.0  1.0\n",
            "2        1.0     1.0  1.0\n",
            "3        1.0     1.0  1.0\n"
          ]
        }
      ]
    },
    {
      "cell_type": "code",
      "source": [
        ""
      ],
      "metadata": {
        "id": "LvSs8vb0PLaN"
      },
      "execution_count": null,
      "outputs": []
    }
  ]
}