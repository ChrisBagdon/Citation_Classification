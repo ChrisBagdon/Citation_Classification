{
  "nbformat": 4,
  "nbformat_minor": 0,
  "metadata": {
    "colab": {
      "name": "eval.ipynb",
      "provenance": [],
      "collapsed_sections": [],
      "include_colab_link": true
    },
    "kernelspec": {
      "name": "python3",
      "display_name": "Python 3"
    },
    "language_info": {
      "name": "python"
    }
  },
  "cells": [
    {
      "cell_type": "markdown",
      "metadata": {
        "id": "view-in-github",
        "colab_type": "text"
      },
      "source": [
        "<a href=\"https://colab.research.google.com/github/ChrisBagdon/Citation_Classification/blob/main/eval.ipynb\" target=\"_parent\"><img src=\"https://colab.research.google.com/assets/colab-badge.svg\" alt=\"Open In Colab\"/></a>"
      ]
    },
    {
      "cell_type": "code",
      "execution_count": 1,
      "metadata": {
        "id": "oXDRwIFumoJ3"
      },
      "outputs": [],
      "source": [
        "import pandas as pd\n",
        "import numpy as np"
      ]
    },
    {
      "cell_type": "code",
      "source": [
        "def evaluate(predictions, gold_standard):\n",
        "  labels_set = set(gold_standard)\n",
        "  labels = {}\n",
        "  for label, i in enumerate(labels_set):\n",
        "    labels[label] = i\n",
        "  confusion_matrix = np.zeros((len(labels),3))\n",
        "  for pred, gold in zip(predictions, gold_standard):\n",
        "    confusion_matrix[labels[pred]][labels[gold]] += 1\n",
        "\n",
        "  columns = []\n",
        "  scores = pd.Dataframe(confusion_matrix, columns=[\"Precision\", \"Accuracy\", \"F1-Score\"])\n",
        "  for label in labels_set:\n",
        "    "
      ],
      "metadata": {
        "id": "8-LNBFYim6dZ"
      },
      "execution_count": null,
      "outputs": []
    },
    {
      "cell_type": "code",
      "source": [
        ""
      ],
      "metadata": {
        "colab": {
          "base_uri": "https://localhost:8080/"
        },
        "id": "owQz9gdsz2S2",
        "outputId": "67764de7-afa1-4d52-be1b-687d9ba38671"
      },
      "execution_count": null,
      "outputs": [
        {
          "output_type": "stream",
          "name": "stdout",
          "text": [
            "fatal: not a git repository (or any of the parent directories): .git\n"
          ]
        }
      ]
    }
  ]
}