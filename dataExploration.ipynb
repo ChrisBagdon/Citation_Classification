{
 "cells": [
  {
   "cell_type": "code",
   "execution_count": 1,
   "id": "c486b2cc",
   "metadata": {},
   "outputs": [],
   "source": [
    "import numpy as np\n",
    "import pandas as pd\n",
    "import matplotlib.pyplot as plt"
   ]
  },
  {
   "cell_type": "code",
   "execution_count": 3,
   "id": "00f5979b",
   "metadata": {},
   "outputs": [
    {
     "data": {
      "text/html": [
       "<div>\n",
       "<style scoped>\n",
       "    .dataframe tbody tr th:only-of-type {\n",
       "        vertical-align: middle;\n",
       "    }\n",
       "\n",
       "    .dataframe tbody tr th {\n",
       "        vertical-align: top;\n",
       "    }\n",
       "\n",
       "    .dataframe thead th {\n",
       "        text-align: right;\n",
       "    }\n",
       "</style>\n",
       "<table border=\"1\" class=\"dataframe\">\n",
       "  <thead>\n",
       "    <tr style=\"text-align: right;\">\n",
       "      <th></th>\n",
       "      <th>citingPaperID</th>\n",
       "      <th>source</th>\n",
       "      <th>string</th>\n",
       "      <th>label</th>\n",
       "    </tr>\n",
       "  </thead>\n",
       "  <tbody>\n",
       "    <tr>\n",
       "      <th>0</th>\n",
       "      <td>1872080baa7d30ec8fb87be9a65358cd3a7fb649&gt;894be...</td>\n",
       "      <td>explicit</td>\n",
       "      <td>However, how frataxin interacts with the Fe-S ...</td>\n",
       "      <td>background</td>\n",
       "    </tr>\n",
       "    <tr>\n",
       "      <th>1</th>\n",
       "      <td>ce1d09a4a3a8d7fd3405b9328f65f00c952cf64b&gt;b6642...</td>\n",
       "      <td>explicit</td>\n",
       "      <td>In the study by Hickey et al. (2012), spikes w...</td>\n",
       "      <td>background</td>\n",
       "    </tr>\n",
       "    <tr>\n",
       "      <th>2</th>\n",
       "      <td>9cdf605beb1aa1078f235c4332b3024daa8b31dc&gt;4e6a1...</td>\n",
       "      <td>explicit</td>\n",
       "      <td>The drug also reduces catecholamine secretion,...</td>\n",
       "      <td>background</td>\n",
       "    </tr>\n",
       "    <tr>\n",
       "      <th>3</th>\n",
       "      <td>d9f3207db0c79a3b154f3875c9760cc6b056904b&gt;2cc6f...</td>\n",
       "      <td>explicit</td>\n",
       "      <td>By clustering with lowly aggressive close kin ...</td>\n",
       "      <td>background</td>\n",
       "    </tr>\n",
       "    <tr>\n",
       "      <th>4</th>\n",
       "      <td>88b86556857f4374842d2af2e359576806239175&gt;a5bb0...</td>\n",
       "      <td>explicit</td>\n",
       "      <td>Ophthalmic symptoms are rare manifestations of...</td>\n",
       "      <td>background</td>\n",
       "    </tr>\n",
       "    <tr>\n",
       "      <th>...</th>\n",
       "      <td>...</td>\n",
       "      <td>...</td>\n",
       "      <td>...</td>\n",
       "      <td>...</td>\n",
       "    </tr>\n",
       "    <tr>\n",
       "      <th>8238</th>\n",
       "      <td>6f68ccd37718366c40ae6aeedf0b935bf560b215&gt;60ed4...</td>\n",
       "      <td>explicit</td>\n",
       "      <td>Importantly, the results of Pascalis et al. (2...</td>\n",
       "      <td>background</td>\n",
       "    </tr>\n",
       "    <tr>\n",
       "      <th>8239</th>\n",
       "      <td>f2a1c1704f9587c94ed95bc98179dc499e933f5e&gt;574e6...</td>\n",
       "      <td>explicit</td>\n",
       "      <td>As suggested by Nguena et al, there is a need ...</td>\n",
       "      <td>background</td>\n",
       "    </tr>\n",
       "    <tr>\n",
       "      <th>8240</th>\n",
       "      <td>18c97ea2ff60c110cc2a523e0fdf729608cbb083&gt;fc13b...</td>\n",
       "      <td>explicit</td>\n",
       "      <td>Skeletal muscle is also a primary site of dise...</td>\n",
       "      <td>background</td>\n",
       "    </tr>\n",
       "    <tr>\n",
       "      <th>8241</th>\n",
       "      <td>4ec9b89857c0b27e8a4bd3745b7358f387773527&gt;81aff...</td>\n",
       "      <td>explicit</td>\n",
       "      <td>ACTIVATION OF TRANSCRIPTION FACTORS Roles for ...</td>\n",
       "      <td>method</td>\n",
       "    </tr>\n",
       "    <tr>\n",
       "      <th>8242</th>\n",
       "      <td>42c954cad0de68657d4429b512d8fe75dceef13c&gt;00afb...</td>\n",
       "      <td>explicit</td>\n",
       "      <td>Most studies focused on the relation between b...</td>\n",
       "      <td>background</td>\n",
       "    </tr>\n",
       "  </tbody>\n",
       "</table>\n",
       "<p>8243 rows × 4 columns</p>\n",
       "</div>"
      ],
      "text/plain": [
       "                                          citingPaperID    source  \\\n",
       "0     1872080baa7d30ec8fb87be9a65358cd3a7fb649>894be...  explicit   \n",
       "1     ce1d09a4a3a8d7fd3405b9328f65f00c952cf64b>b6642...  explicit   \n",
       "2     9cdf605beb1aa1078f235c4332b3024daa8b31dc>4e6a1...  explicit   \n",
       "3     d9f3207db0c79a3b154f3875c9760cc6b056904b>2cc6f...  explicit   \n",
       "4     88b86556857f4374842d2af2e359576806239175>a5bb0...  explicit   \n",
       "...                                                 ...       ...   \n",
       "8238  6f68ccd37718366c40ae6aeedf0b935bf560b215>60ed4...  explicit   \n",
       "8239  f2a1c1704f9587c94ed95bc98179dc499e933f5e>574e6...  explicit   \n",
       "8240  18c97ea2ff60c110cc2a523e0fdf729608cbb083>fc13b...  explicit   \n",
       "8241  4ec9b89857c0b27e8a4bd3745b7358f387773527>81aff...  explicit   \n",
       "8242  42c954cad0de68657d4429b512d8fe75dceef13c>00afb...  explicit   \n",
       "\n",
       "                                                 string       label  \n",
       "0     However, how frataxin interacts with the Fe-S ...  background  \n",
       "1     In the study by Hickey et al. (2012), spikes w...  background  \n",
       "2     The drug also reduces catecholamine secretion,...  background  \n",
       "3     By clustering with lowly aggressive close kin ...  background  \n",
       "4     Ophthalmic symptoms are rare manifestations of...  background  \n",
       "...                                                 ...         ...  \n",
       "8238  Importantly, the results of Pascalis et al. (2...  background  \n",
       "8239  As suggested by Nguena et al, there is a need ...  background  \n",
       "8240  Skeletal muscle is also a primary site of dise...  background  \n",
       "8241  ACTIVATION OF TRANSCRIPTION FACTORS Roles for ...      method  \n",
       "8242  Most studies focused on the relation between b...  background  \n",
       "\n",
       "[8243 rows x 4 columns]"
      ]
     },
     "execution_count": 3,
     "metadata": {},
     "output_type": "execute_result"
    }
   ],
   "source": [
    "### Read in training dataset (TSV)\n",
    "# Filepath will be different; set to repo's filepath when we add the corpus files\n",
    "train_tsv = pd.read_csv('../Corpora/scicite/tsv/train.tsv', sep='\\t', \n",
    "                       names=[\"citingPaperID\", \"source\", \"string\", \"label\"]\n",
    "                       )\n",
    "train_tsv"
   ]
  },
  {
   "cell_type": "code",
   "execution_count": 4,
   "id": "794eeaa1",
   "metadata": {},
   "outputs": [
    {
     "name": "stdout",
     "output_type": "stream",
     "text": [
      "['explicit' 'properNoun' 'acronym' 'acronymParen' 'andPhrase' 'etAlPhrase'\n",
      " nan] explicit        7886\n",
      "properNoun       142\n",
      "acronym          131\n",
      "acronymParen      53\n",
      "andPhrase         19\n",
      "etAlPhrase        10\n",
      "Name: source, dtype: int64\n"
     ]
    }
   ],
   "source": [
    "### Unique \"source\" values\n",
    "print(train_tsv[\"source\"].unique(), train_tsv[\"source\"].value_counts())"
   ]
  },
  {
   "cell_type": "code",
   "execution_count": 5,
   "id": "e5d629d7",
   "metadata": {},
   "outputs": [
    {
     "name": "stdout",
     "output_type": "stream",
     "text": [
      "['background' 'method' 'result'] background    4840\n",
      "method        2294\n",
      "result        1109\n",
      "Name: label, dtype: int64\n"
     ]
    }
   ],
   "source": [
    "### Unique \"label\" values\n",
    "print(train_tsv[\"label\"].unique(), train_tsv[\"label\"].value_counts())"
   ]
  },
  {
   "cell_type": "code",
   "execution_count": 6,
   "id": "197577d9",
   "metadata": {},
   "outputs": [],
   "source": [
    "### Create a matrix of counts with source-label pair combinations\n",
    "source_label_dict = {}; source_label_list = []\n",
    "for index, row in train_tsv.iterrows():\n",
    "    source_label_pair = str(row['source']) + '_' + row['label']\n",
    "    # Initialize source-label pair in the dictionary and list if it doesn't exist\n",
    "    if source_label_pair not in list(source_label_dict.keys()):\n",
    "        source_label_dict[source_label_pair] = 1\n",
    "        source_label_list.append(source_label_pair)\n",
    "    # Else, add 1 to dictionary value\n",
    "    else:\n",
    "        source_label_dict[source_label_pair] += 1"
   ]
  },
  {
   "cell_type": "code",
   "execution_count": 7,
   "id": "6c925020",
   "metadata": {},
   "outputs": [
    {
     "data": {
      "text/plain": [
       "{'acronymParen_background': 2,\n",
       " 'acronymParen_method': 46,\n",
       " 'acronymParen_result': 5,\n",
       " 'acronym_background': 2,\n",
       " 'acronym_method': 96,\n",
       " 'acronym_result': 33,\n",
       " 'andPhrase_method': 14,\n",
       " 'andPhrase_result': 5,\n",
       " 'etAlPhrase_method': 7,\n",
       " 'etAlPhrase_result': 3,\n",
       " 'explicit_background': 4835,\n",
       " 'explicit_method': 2021,\n",
       " 'explicit_result': 1030,\n",
       " 'nan_result': 2,\n",
       " 'properNoun_background': 1,\n",
       " 'properNoun_method': 110,\n",
       " 'properNoun_result': 31}"
      ]
     },
     "execution_count": 7,
     "metadata": {},
     "output_type": "execute_result"
    }
   ],
   "source": [
    "### Get sorted source-label pair dictionary\n",
    "sorted_source_label_dict = {}\n",
    "for source_label_pair in sorted(source_label_list):\n",
    "    sorted_source_label_dict[source_label_pair] = source_label_dict[source_label_pair]\n",
    "sorted_source_label_dict"
   ]
  },
  {
   "cell_type": "code",
   "execution_count": 8,
   "id": "6c6a4645",
   "metadata": {},
   "outputs": [
    {
     "data": {
      "text/plain": [
       "<BarContainer object of 17 artists>"
      ]
     },
     "execution_count": 8,
     "metadata": {},
     "output_type": "execute_result"
    },
    {
     "data": {
      "image/png": "[encoded data removed]",
      "text/plain": [
       "<Figure size 720x576 with 1 Axes>"
      ]
     },
     "metadata": {
      "needs_background": "light"
     },
     "output_type": "display_data"
    }
   ],
   "source": [
    "### Histogram for all source-label pair counts in the training dataset\n",
    "plt.figure(figsize=(10, 8))\n",
    "plt.title(\"Source-label pair counts\")\n",
    "plt.xlabel(\"Source-label pairs\"); plt.ylabel(\"Count\")\n",
    "plt.xticks(rotation=45)\n",
    "plt.bar(sorted_source_label_dict.keys(), sorted_source_label_dict.values(), color='g')"
   ]
  },
  {
   "cell_type": "code",
   "execution_count": 39,
   "id": "927cc26d",
   "metadata": {},
   "outputs": [
    {
     "data": {
      "text/plain": [
       "['acronymParen_background',\n",
       " 'acronymParen_method',\n",
       " 'acronymParen_result',\n",
       " 'acronym_background',\n",
       " 'acronym_method',\n",
       " 'acronym_result',\n",
       " 'andPhrase_method',\n",
       " 'andPhrase_result',\n",
       " 'etAlPhrase_method',\n",
       " 'etAlPhrase_result',\n",
       " 'nan_result',\n",
       " 'properNoun_background',\n",
       " 'properNoun_method',\n",
       " 'properNoun_result']"
      ]
     },
     "execution_count": 39,
     "metadata": {},
     "output_type": "execute_result"
    }
   ],
   "source": [
    "noExplicit_pairs = [pair for pair in sorted(source_label_list) if \"explicit_\" not in pair]\n",
    "noExplicit_pairs"
   ]
  },
  {
   "cell_type": "code",
   "execution_count": 40,
   "id": "226c01ec",
   "metadata": {},
   "outputs": [
    {
     "data": {
      "text/plain": [
       "{'acronymParen_background': 2,\n",
       " 'acronymParen_method': 46,\n",
       " 'acronymParen_result': 5,\n",
       " 'acronym_background': 2,\n",
       " 'acronym_method': 96,\n",
       " 'acronym_result': 33,\n",
       " 'andPhrase_method': 14,\n",
       " 'andPhrase_result': 5,\n",
       " 'etAlPhrase_method': 7,\n",
       " 'etAlPhrase_result': 3,\n",
       " 'nan_result': 2,\n",
       " 'properNoun_background': 1,\n",
       " 'properNoun_method': 110,\n",
       " 'properNoun_result': 31}"
      ]
     },
     "execution_count": 40,
     "metadata": {},
     "output_type": "execute_result"
    }
   ],
   "source": [
    "### Get sorted source-label pair dictionary without Explicit source\n",
    "noExplicit_source_label_dict = {}\n",
    "for source_label_pair in noExplicit_pairs:\n",
    "    noExplicit_source_label_dict[source_label_pair] = source_label_dict[source_label_pair]\n",
    "noExplicit_source_label_dict"
   ]
  },
  {
   "cell_type": "code",
   "execution_count": 41,
   "id": "05d4f06d",
   "metadata": {},
   "outputs": [
    {
     "data": {
      "text/plain": [
       "<BarContainer object of 14 artists>"
      ]
     },
     "execution_count": 41,
     "metadata": {},
     "output_type": "execute_result"
    },
    {
     "data": {
      "image/png": "[encoded data removed]",
      "text/plain": [
       "<Figure size 720x576 with 1 Axes>"
      ]
     },
     "metadata": {
      "needs_background": "light"
     },
     "output_type": "display_data"
    }
   ],
   "source": [
    "### Histogram for all source-label pair counts in the training dataset excluding Explicit source\n",
    "plt.figure(figsize=(10, 8))\n",
    "plt.title(\"Source-label pair counts\")\n",
    "plt.xlabel(\"Source-label pairs\"); plt.ylabel(\"Count\")\n",
    "plt.xticks(rotation=45)\n",
    "plt.bar(noExplicit_source_label_dict.keys(), noExplicit_source_label_dict.values(), color='g')"
   ]
  },
  {
   "cell_type": "code",
   "execution_count": 21,
   "id": "6b36d6ac",
   "metadata": {},
   "outputs": [
    {
     "data": {
      "text/plain": [
       "array([[0, 1, 2],\n",
       "       [3, 4, 5],\n",
       "       [6, 7, 8]])"
      ]
     },
     "execution_count": 21,
     "metadata": {},
     "output_type": "execute_result"
    }
   ],
   "source": [
    "test = np.array([[0, 1, 2], [3, 4, 5], [6, 7, 8]])\n",
    "test"
   ]
  },
  {
   "cell_type": "code",
   "execution_count": 26,
   "id": "9f9985a6",
   "metadata": {},
   "outputs": [
    {
     "data": {
      "text/plain": [
       "array([ 3, 12, 21])"
      ]
     },
     "execution_count": 26,
     "metadata": {},
     "output_type": "execute_result"
    }
   ],
   "source": [
    "np.sum(test, axis=1)"
   ]
  },
  {
   "cell_type": "code",
   "execution_count": 53,
   "id": "ca51f910",
   "metadata": {},
   "outputs": [
    {
     "data": {
      "text/html": [
       "<div>\n",
       "<style scoped>\n",
       "    .dataframe tbody tr th:only-of-type {\n",
       "        vertical-align: middle;\n",
       "    }\n",
       "\n",
       "    .dataframe tbody tr th {\n",
       "        vertical-align: top;\n",
       "    }\n",
       "\n",
       "    .dataframe thead th {\n",
       "        text-align: right;\n",
       "    }\n",
       "</style>\n",
       "<table border=\"1\" class=\"dataframe\">\n",
       "  <thead>\n",
       "    <tr style=\"text-align: right;\">\n",
       "      <th></th>\n",
       "      <th>Precision</th>\n",
       "      <th>Accuracy</th>\n",
       "      <th>F1-Score</th>\n",
       "    </tr>\n",
       "  </thead>\n",
       "  <tbody>\n",
       "    <tr>\n",
       "      <th>0</th>\n",
       "      <td>0.0</td>\n",
       "      <td>0.0</td>\n",
       "      <td>0.0</td>\n",
       "    </tr>\n",
       "    <tr>\n",
       "      <th>1</th>\n",
       "      <td>0.0</td>\n",
       "      <td>0.0</td>\n",
       "      <td>0.0</td>\n",
       "    </tr>\n",
       "    <tr>\n",
       "      <th>2</th>\n",
       "      <td>0.0</td>\n",
       "      <td>0.0</td>\n",
       "      <td>0.0</td>\n",
       "    </tr>\n",
       "    <tr>\n",
       "      <th>3</th>\n",
       "      <td>0.0</td>\n",
       "      <td>0.0</td>\n",
       "      <td>0.0</td>\n",
       "    </tr>\n",
       "  </tbody>\n",
       "</table>\n",
       "</div>"
      ],
      "text/plain": [
       "   Precision  Accuracy  F1-Score\n",
       "0        0.0       0.0       0.0\n",
       "1        0.0       0.0       0.0\n",
       "2        0.0       0.0       0.0\n",
       "3        0.0       0.0       0.0"
      ]
     },
     "execution_count": 53,
     "metadata": {},
     "output_type": "execute_result"
    }
   ],
   "source": [
    "columns=[\"Precision\", \"Accuracy\", \"F1-Score\"]\n",
    "test_df = pd.DataFrame(np.zeros((4, 3)), columns=columns)\n",
    "test_df"
   ]
  },
  {
   "cell_type": "code",
   "execution_count": 54,
   "id": "05858037",
   "metadata": {},
   "outputs": [
    {
     "data": {
      "text/html": [
       "<div>\n",
       "<style scoped>\n",
       "    .dataframe tbody tr th:only-of-type {\n",
       "        vertical-align: middle;\n",
       "    }\n",
       "\n",
       "    .dataframe tbody tr th {\n",
       "        vertical-align: top;\n",
       "    }\n",
       "\n",
       "    .dataframe thead th {\n",
       "        text-align: right;\n",
       "    }\n",
       "</style>\n",
       "<table border=\"1\" class=\"dataframe\">\n",
       "  <thead>\n",
       "    <tr style=\"text-align: right;\">\n",
       "      <th></th>\n",
       "      <th>Precision</th>\n",
       "      <th>Accuracy</th>\n",
       "      <th>F1-Score</th>\n",
       "    </tr>\n",
       "  </thead>\n",
       "  <tbody>\n",
       "    <tr>\n",
       "      <th>0</th>\n",
       "      <td>2.0</td>\n",
       "      <td>0.0</td>\n",
       "      <td>0.0</td>\n",
       "    </tr>\n",
       "    <tr>\n",
       "      <th>1</th>\n",
       "      <td>0.0</td>\n",
       "      <td>0.0</td>\n",
       "      <td>0.0</td>\n",
       "    </tr>\n",
       "    <tr>\n",
       "      <th>2</th>\n",
       "      <td>0.0</td>\n",
       "      <td>0.0</td>\n",
       "      <td>0.0</td>\n",
       "    </tr>\n",
       "    <tr>\n",
       "      <th>3</th>\n",
       "      <td>0.0</td>\n",
       "      <td>0.0</td>\n",
       "      <td>0.0</td>\n",
       "    </tr>\n",
       "  </tbody>\n",
       "</table>\n",
       "</div>"
      ],
      "text/plain": [
       "   Precision  Accuracy  F1-Score\n",
       "0        2.0       0.0       0.0\n",
       "1        0.0       0.0       0.0\n",
       "2        0.0       0.0       0.0\n",
       "3        0.0       0.0       0.0"
      ]
     },
     "execution_count": 54,
     "metadata": {},
     "output_type": "execute_result"
    }
   ],
   "source": [
    "test_df[\"Precision\"][0] = 2\n",
    "test_df"
   ]
  },
  {
   "cell_type": "code",
   "execution_count": 56,
   "id": "09aed4da",
   "metadata": {},
   "outputs": [
    {
     "data": {
      "text/html": [
       "<div>\n",
       "<style scoped>\n",
       "    .dataframe tbody tr th:only-of-type {\n",
       "        vertical-align: middle;\n",
       "    }\n",
       "\n",
       "    .dataframe tbody tr th {\n",
       "        vertical-align: top;\n",
       "    }\n",
       "\n",
       "    .dataframe thead th {\n",
       "        text-align: right;\n",
       "    }\n",
       "</style>\n",
       "<table border=\"1\" class=\"dataframe\">\n",
       "  <thead>\n",
       "    <tr style=\"text-align: right;\">\n",
       "      <th></th>\n",
       "      <th>Precision</th>\n",
       "      <th>Accuracy</th>\n",
       "      <th>F1-Score</th>\n",
       "    </tr>\n",
       "  </thead>\n",
       "  <tbody>\n",
       "    <tr>\n",
       "      <th>0</th>\n",
       "      <td>2.0</td>\n",
       "      <td>0.0</td>\n",
       "      <td>0.0</td>\n",
       "    </tr>\n",
       "    <tr>\n",
       "      <th>1</th>\n",
       "      <td>0.0</td>\n",
       "      <td>0.0</td>\n",
       "      <td>0.0</td>\n",
       "    </tr>\n",
       "    <tr>\n",
       "      <th>2</th>\n",
       "      <td>0.0</td>\n",
       "      <td>0.0</td>\n",
       "      <td>0.0</td>\n",
       "    </tr>\n",
       "    <tr>\n",
       "      <th>3</th>\n",
       "      <td>0.0</td>\n",
       "      <td>0.0</td>\n",
       "      <td>0.0</td>\n",
       "    </tr>\n",
       "  </tbody>\n",
       "</table>\n",
       "</div>"
      ],
      "text/plain": [
       "   Precision  Accuracy  F1-Score\n",
       "0        2.0       0.0       0.0\n",
       "1        0.0       0.0       0.0\n",
       "2        0.0       0.0       0.0\n",
       "3        0.0       0.0       0.0"
      ]
     },
     "execution_count": 56,
     "metadata": {},
     "output_type": "execute_result"
    }
   ],
   "source": [
    "test_df.iloc[3] = ([0] * 3)\n",
    "test_df"
   ]
  },
  {
   "cell_type": "code",
   "execution_count": 42,
   "id": "cca64c5b",
   "metadata": {},
   "outputs": [
    {
     "data": {
      "text/plain": [
       "[[0], [0], [0]]"
      ]
     },
     "execution_count": 42,
     "metadata": {},
     "output_type": "execute_result"
    }
   ],
   "source": [
    "[[0]] * 3"
   ]
  },
  {
   "cell_type": "code",
   "execution_count": null,
   "id": "29f4f031",
   "metadata": {},
   "outputs": [],
   "source": []
  }
 ],
 "metadata": {
  "kernelspec": {
   "display_name": "Python 3 (ipykernel)",
   "language": "python",
   "name": "python3"
  },
  "language_info": {
   "codemirror_mode": {
    "name": "ipython",
    "version": 3
   },
   "file_extension": ".py",
   "mimetype": "text/x-python",
   "name": "python",
   "nbconvert_exporter": "python",
   "pygments_lexer": "ipython3",
   "version": "3.9.7"
  }
 },
 "nbformat": 4,
 "nbformat_minor": 5
}
