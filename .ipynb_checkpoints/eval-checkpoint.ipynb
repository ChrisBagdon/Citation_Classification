{
 "cells": [
  {
   "cell_type": "markdown",
   "metadata": {
    "colab_type": "text",
    "id": "view-in-github"
   },
   "source": [
    "<a href=\"https://colab.research.google.com/github/ChrisBagdon/Citation_Classification/blob/main/eval.ipynb\" target=\"_parent\"><img src=\"https://colab.research.google.com/assets/colab-badge.svg\" alt=\"Open In Colab\"/></a>"
   ]
  },
  {
   "cell_type": "code",
   "execution_count": null,
   "metadata": {
    "id": "oXDRwIFumoJ3"
   },
   "outputs": [],
   "source": [
    "import pandas as pd\n",
    "import numpy as np"
   ]
  },
  {
   "cell_type": "code",
   "execution_count": null,
   "metadata": {
    "id": "8-LNBFYim6dZ"
   },
   "outputs": [],
   "source": [
    "def evaluate(predictions, gold_standard):\n",
    "  labels_set = set(gold)\n",
    "  labels = {}\n",
    "  for label, i in enumerate(labels_set):\n",
    "    labels[label] = i\n",
    "  confusion_matrix = np.zeroes((len(labels),len(labels)))\n",
    "  for pred, gold in zip(predictions, gold_standard):\n",
    "    confusion_matrix[labels[pred]][labels[gold]] += 1\n",
    "\n",
    "  columns = []\n",
    "  scores = pd.Dataframe\n",
    "  for label in labels_set:\n",
    "    "
   ]
  },
  {
   "cell_type": "code",
   "execution_count": 3,
   "metadata": {
    "colab": {
     "base_uri": "https://localhost:8080/"
    },
    "id": "owQz9gdsz2S2",
    "outputId": "67764de7-afa1-4d52-be1b-687d9ba38671"
   },
   "outputs": [
    {
     "name": "stdout",
     "output_type": "stream",
     "text": [
      "fatal: not a git repository (or any of the parent directories): .git\n"
     ]
    }
   ],
   "source": []
  }
 ],
 "metadata": {
  "colab": {
   "collapsed_sections": [],
   "include_colab_link": true,
   "name": "eval.ipynb",
   "provenance": []
  },
  "kernelspec": {
   "display_name": "Python 3 (ipykernel)",
   "language": "python",
   "name": "python3"
  },
  "language_info": {
   "codemirror_mode": {
    "name": "ipython",
    "version": 3
   },
   "file_extension": ".py",
   "mimetype": "text/x-python",
   "name": "python",
   "nbconvert_exporter": "python",
   "pygments_lexer": "ipython3",
   "version": "3.9.7"
  }
 },
 "nbformat": 4,
 "nbformat_minor": 1
}
